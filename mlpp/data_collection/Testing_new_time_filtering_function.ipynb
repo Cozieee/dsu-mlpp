{
 "cells": [
  {
   "cell_type": "code",
   "execution_count": null,
   "id": "medium-visiting",
   "metadata": {},
   "outputs": [],
   "source": [
    "import sys\n",
    "sys.path.append('../..')\n",
    "from pymongo import UpdateOne\n",
    "import matplotlib.pyplot as plt\n",
    "from exploration.config import mongo_inst\n",
    "from pymongo import MongoClient\n",
    "from mlpp.data_collection.sample import osuDumpSampler"
   ]
  },
  {
   "cell_type": "code",
   "execution_count": null,
   "id": "emerging-course",
   "metadata": {},
   "outputs": [],
   "source": [
    "client = MongoClient('localhost', 27017)"
   ]
  },
  {
   "cell_type": "code",
   "execution_count": null,
   "id": "recovered-chassis",
   "metadata": {},
   "outputs": [],
   "source": [
    "db = client.osu_random_db"
   ]
  },
  {
   "cell_type": "code",
   "execution_count": null,
   "id": "reflected-comparison",
   "metadata": {},
   "outputs": [],
   "source": [
    "data = mongo_inst[\"osu_random_db\"]"
   ]
  },
  {
   "cell_type": "code",
   "execution_count": null,
   "id": "realistic-connectivity",
   "metadata": {},
   "outputs": [],
   "source": [
    "test = osuDumpSampler(data)"
   ]
  },
  {
   "cell_type": "code",
   "execution_count": null,
   "id": "premier-variety",
   "metadata": {},
   "outputs": [],
   "source": [
    "test.use_random_sample(\"sample_scores_1M\", 6500)"
   ]
  },
  {
   "cell_type": "code",
   "execution_count": null,
   "id": "moderate-chamber",
   "metadata": {},
   "outputs": [],
   "source": [
    "# data1 = mongo_inst[\"osu_random_db\"]\n",
    "# test1 = osuDumpSampler(data1)"
   ]
  },
  {
   "cell_type": "code",
   "execution_count": null,
   "id": "forbidden-eating",
   "metadata": {},
   "outputs": [],
   "source": [
    "collection = data[\"sample_scores_1M\"]"
   ]
  },
  {
   "cell_type": "code",
   "execution_count": null,
   "id": "plastic-sigma",
   "metadata": {},
   "outputs": [],
   "source": [
    "test.get_more_recent_than(collection, 2018, 12, 1, 0, 0, 0, \"sample_scores_500k\")"
   ]
  },
  {
   "cell_type": "code",
   "execution_count": null,
   "id": "polish-austin",
   "metadata": {},
   "outputs": [],
   "source": [
    "# test1.use_random_sample(\"sample_scores_100\", 100)"
   ]
  },
  {
   "cell_type": "code",
   "execution_count": null,
   "id": "secondary-czech",
   "metadata": {},
   "outputs": [],
   "source": [
    "collection2=data[\"sample_scores_500k\"]"
   ]
  },
  {
   "cell_type": "code",
   "execution_count": null,
   "id": "soviet-corps",
   "metadata": {},
   "outputs": [],
   "source": [
    "\"\"\"\n",
    "min est user pp in dataset of 500k\n",
    "\"\"\"\n",
    "\n",
    "cursor=db.sample_scores_500k.aggregate(\n",
    "   [\n",
    "     {\n",
    "       \"$group\":\n",
    "         {\n",
    "           \"_id\": {},\n",
    "           \"min\": { \"$min\": \"$mlpp.est_user_pp\" }\n",
    "         }\n",
    "     }\n",
    "   ]\n",
    ")\n",
    "for document in cursor:\n",
    "    print(document)"
   ]
  },
  {
   "cell_type": "code",
   "execution_count": null,
   "id": "clear-rouge",
   "metadata": {},
   "outputs": [],
   "source": [
    "\"\"\"\n",
    "max est user pp in dataset of 500k\n",
    "\"\"\"\n",
    "cursor=db.sample_scores_500k.aggregate(\n",
    "   [\n",
    "     {\n",
    "       \"$group\":\n",
    "         {\n",
    "           \"_id\": {},\n",
    "           \"max\": { \"$max\": \"$mlpp.est_user_pp\" }\n",
    "         }\n",
    "     }\n",
    "   ]\n",
    ")\n",
    "for document in cursor:\n",
    "    print(document)"
   ]
  },
  {
   "cell_type": "code",
   "execution_count": null,
   "id": "recent-plymouth",
   "metadata": {},
   "outputs": [],
   "source": []
  }
 ],
 "metadata": {
  "kernelspec": {
   "display_name": "dsu-mlpp-24Q4mam2",
   "language": "python",
   "name": "dsu-mlpp-24q4mam2"
  },
  "language_info": {
   "codemirror_mode": {
    "name": "ipython"
   },
   "file_extension": ".py",
   "mimetype": "text/x-python",
   "name": "python",
   "nbconvert_exporter": "python"
  }
 },
 "nbformat": 4,
 "nbformat_minor": 5
}
