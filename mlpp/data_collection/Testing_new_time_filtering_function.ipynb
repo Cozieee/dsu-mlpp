{
 "cells": [
  {
   "cell_type": "code",
   "execution_count": 1,
   "id": "medium-visiting",
   "metadata": {},
   "outputs": [],
   "source": [
    "import sys\n",
    "sys.path.append('../..')\n",
    "from pymongo import UpdateOne\n",
    "import matplotlib.pyplot as plt\n",
    "from exploration.config import mongo_inst\n",
    "from pymongo import MongoClient\n",
    "from mlpp.data_collection.sample import osuDumpSampler"
   ]
  },
  {
   "cell_type": "code",
   "execution_count": 2,
   "id": "emerging-course",
   "metadata": {},
   "outputs": [],
   "source": [
    "client = MongoClient('localhost', 27017)"
   ]
  },
  {
   "cell_type": "code",
   "execution_count": 3,
   "id": "recovered-chassis",
   "metadata": {},
   "outputs": [],
   "source": [
    "db = client.osu_random_db"
   ]
  },
  {
   "cell_type": "code",
   "execution_count": 4,
   "id": "norman-burlington",
   "metadata": {},
   "outputs": [],
   "source": [
    "collection = db[\"sample_scores_100\"]"
   ]
  },
  {
   "cell_type": "code",
   "execution_count": 5,
   "id": "desirable-fourth",
   "metadata": {},
   "outputs": [],
   "source": [
    "test = osuDumpSampler(collection)"
   ]
  },
  {
   "cell_type": "code",
   "execution_count": 6,
   "id": "upset-colors",
   "metadata": {},
   "outputs": [],
   "source": [
    "test.get_more_recent_than(collection, 2019, 1, 1, 0, 0, 0, \"test_collection\")"
   ]
  },
  {
   "cell_type": "code",
   "execution_count": null,
   "id": "catholic-regular",
   "metadata": {},
   "outputs": [],
   "source": []
  }
 ],
 "metadata": {
  "kernelspec": {
   "display_name": "dsu-mlpp-NTeR3u4n",
   "language": "python",
   "name": "dsu-mlpp-nter3u4n"
  },
  "language_info": {
   "codemirror_mode": {
    "name": "ipython",
    "version": 3
   },
   "file_extension": ".py",
   "mimetype": "text/x-python",
   "name": "python",
   "nbconvert_exporter": "python",
   "pygments_lexer": "ipython3",
   "version": "3.8.3"
  }
 },
 "nbformat": 4,
 "nbformat_minor": 5
}
