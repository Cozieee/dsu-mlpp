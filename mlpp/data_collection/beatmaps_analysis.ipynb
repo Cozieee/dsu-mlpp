{
 "cells": [
  {
   "cell_type": "code",
   "execution_count": null,
   "id": "medium-visiting",
   "metadata": {},
   "outputs": [],
   "source": [
    "import sys\n",
    "sys.path.append('../..')\n",
    "from pymongo import UpdateOne\n",
    "import pandas as pd\n",
    "import matplotlib.pyplot as plt\n",
    "from exploration.config import mongo_inst\n",
    "from pymongo import MongoClient\n",
    "import seaborn as sns\n",
    "from mlpp.data_collection.sample import osuDumpSampler"
   ]
  },
  {
   "cell_type": "code",
   "execution_count": null,
   "id": "emerging-course",
   "metadata": {},
   "outputs": [],
   "source": [
    "client = MongoClient('localhost', 27017)"
   ]
  },
  {
   "cell_type": "code",
   "execution_count": null,
   "id": "recovered-chassis",
   "metadata": {},
   "outputs": [],
   "source": [
    "db = client.osu_random_db"
   ]
  },
  {
   "cell_type": "code",
   "execution_count": null,
   "id": "reflected-comparison",
   "metadata": {},
   "outputs": [],
   "source": [
    "data = mongo_inst[\"osu_random_db\"]"
   ]
  },
  {
   "cell_type": "code",
   "execution_count": null,
   "id": "realistic-connectivity",
   "metadata": {},
   "outputs": [],
   "source": [
    "test = osuDumpSampler(data)"
   ]
  },
  {
   "cell_type": "code",
   "execution_count": null,
   "id": "premier-variety",
   "metadata": {},
   "outputs": [],
   "source": [
    "test.use_random_sample(\"sample_scores_1M\", 6500)"
   ]
  },
  {
   "cell_type": "code",
   "execution_count": null,
   "id": "moderate-chamber",
   "metadata": {},
   "outputs": [],
   "source": [
    "data1 = mongo_inst[\"osu_random_db\"]\n",
    "test1 = osuDumpSampler(data1)"
   ]
  },
  {
   "cell_type": "code",
   "execution_count": null,
   "id": "forbidden-eating",
   "metadata": {},
   "outputs": [],
   "source": [
    "collection = data[\"sample_scores_1M\"]"
   ]
  },
  {
   "cell_type": "code",
   "execution_count": null,
   "id": "plastic-sigma",
   "metadata": {},
   "outputs": [],
   "source": [
    "test.get_more_recent_than(collection, 2018, 12, 1, 0, 0, 0, \"sample_scores_500k\")"
   ]
  },
  {
   "cell_type": "code",
   "execution_count": null,
   "id": "polish-austin",
   "metadata": {},
   "outputs": [],
   "source": [
    "# test1.use_random_sample(\"sample_scores_100\", 100)"
   ]
  },
  {
   "cell_type": "code",
   "execution_count": null,
   "id": "secondary-czech",
   "metadata": {},
   "outputs": [],
   "source": [
    "collection2 = data[\"sample_scores_500k\"]"
   ]
  },
  {
   "cell_type": "code",
   "execution_count": null,
   "id": "clear-rouge",
   "metadata": {},
   "outputs": [],
   "source": [
    "\"\"\"\n",
    "max est user pp in collection of 500k\n",
    "\"\"\"\n",
    "cursor=db.sample_scores_500k.aggregate(\n",
    "   [\n",
    "     {\n",
    "       \"$group\":\n",
    "         {\n",
    "           \"_id\": {},\n",
    "           \"max\": { \"$max\": \"$mlpp.est_user_pp\" }\n",
    "         }\n",
    "     }\n",
    "   ]\n",
    ")\n",
    "for document in cursor:\n",
    "    print(document)\n",
    "print(document['max'])\n",
    "max_pp = document['max']"
   ]
  },
  {
   "cell_type": "code",
   "execution_count": null,
   "id": "recent-plymouth",
   "metadata": {},
   "outputs": [],
   "source": [
    "a = 0\n",
    "b = 100\n",
    "\n",
    "while b <= max_pp:\n",
    "    db.uniform_collection2.insert_many(\n",
    "        collection2.aggregate([\n",
    "        {\n",
    "        '$match': {\n",
    "            'mlpp.est_user_pp' : {\n",
    "                '$gt': a,\n",
    "                '$lt': b,\n",
    "            }\n",
    "        }\n",
    "    },\n",
    "    {'$sample': {\n",
    "        'size': 800\n",
    "    }\n",
    "}\n",
    "        \n",
    "])\n",
    "    )\n",
    "    a = b\n",
    "    b += 100"
   ]
  },
  {
   "cell_type": "code",
   "execution_count": null,
   "id": "chemical-breast",
   "metadata": {},
   "outputs": [],
   "source": [
    "# l = [x * 100 for x in range (115)]\n",
    "# print(l)"
   ]
  },
  {
   "cell_type": "code",
   "execution_count": null,
   "id": "authorized-popularity",
   "metadata": {},
   "outputs": [],
   "source": [
    "#once you have a uniform collection, use this to have a collection with the most 1000 popular maps:\n",
    "db.uniform_collection2.aggregate([\n",
    "    {\n",
    "        '$group': {\n",
    "            '_id': '$beatmap_id', \n",
    "            'count': {\n",
    "                '$sum': 1\n",
    "            }\n",
    "        }\n",
    "    }, {\n",
    "        '$sort': {\n",
    "            'count': -1\n",
    "        }\n",
    "    }, {\n",
    "        '$limit': 1000\n",
    "    }, {\n",
    "        '$out': 'oneThousand_most_popular_maps2'\n",
    "    }\n",
    "])"
   ]
  },
  {
   "cell_type": "markdown",
   "id": "tribal-matter",
   "metadata": {},
   "source": [
    "## Objective 3: Realtionship as Score Decreases"
   ]
  },
  {
   "cell_type": "code",
   "execution_count": null,
   "id": "handy-construction",
   "metadata": {},
   "outputs": [],
   "source": [
    "g=[]\n",
    "h=[]\n",
    "x=db.oneThousand_most_popular_maps2\n",
    "x1=x.find({},{ \"_id\": 0, \"count\": 1}) #finds only the count column in the collection\n",
    "y1=x.find({},{ \"_id\": 1, \"count\": 0})\n",
    "\n",
    "# for i in x.find({},{ \"_id\": 0, \"count\": 1}):\n",
    "#     print(i)\n",
    "\n",
    "for i in x1:\n",
    "    g.append(i['count'])\n",
    "for i in x.find({},{ \"_id\": 1, \"count\": 0}):\n",
    "    h.append(i['_id'])\n",
    "\n",
    "plt.plot(g,'ro') #automatically index x \n",
    "plt.xlabel('index')\n",
    "plt.ylabel('count')"
   ]
  },
  {
   "cell_type": "code",
   "execution_count": null,
   "id": "intellectual-southeast",
   "metadata": {},
   "outputs": [],
   "source": [
    "collections = db.list_collection_names() \n",
    "print (\"collections:\", collections, \"\\n\")"
   ]
  },
  {
   "cell_type": "code",
   "execution_count": null,
   "id": "recreational-nevada",
   "metadata": {},
   "outputs": [],
   "source": [
    "collection = data[\"osu_beatmap_attribs\"]"
   ]
  },
  {
   "cell_type": "code",
   "execution_count": null,
   "id": "circular-viking",
   "metadata": {},
   "outputs": [],
   "source": [
    "db.osu_beatmaps_attribs_modZero.insert_many(\n",
    "    collection.aggregate([\n",
    "    {\n",
    "        '$match': {\n",
    "            'mods': 0\n",
    "            }\n",
    "    }\n",
    "]))"
   ]
  },
  {
   "cell_type": "code",
   "execution_count": null,
   "id": "violent-figure",
   "metadata": {},
   "outputs": [],
   "source": [
    "collection = data['oneThousand_most_popular_maps2']"
   ]
  },
  {
   "cell_type": "code",
   "execution_count": null,
   "id": "acting-essay",
   "metadata": {},
   "outputs": [],
   "source": [
    "cursor = collection.find({},{\"_id\":1})\n",
    "l = []\n",
    "for el in cursor:\n",
    "    l.append(el)\n",
    "listOfIds = []\n",
    "for i in range(1000):\n",
    "    listOfIds.append(l[i]['_id'])\n",
    "\"\"\"print(len(listOfIds))\n",
    "print(listOfIds)\"\"\""
   ]
  },
  {
   "cell_type": "code",
   "execution_count": null,
   "id": "impaired-wrestling",
   "metadata": {},
   "outputs": [],
   "source": [
    "collection2 = data['osu_beatmap_attribs']"
   ]
  },
  {
   "cell_type": "code",
   "execution_count": null,
   "id": "higher-olympus",
   "metadata": {},
   "outputs": [],
   "source": [
    "for _id in listOfIds:\n",
    "    db.oneThousand_Beatmaps_attribs.insert_many(\n",
    "        collection2.aggregate([\n",
    "                {'$match' : {\n",
    "                    \"_id\" : _id }\n",
    "                }\n",
    "            ] ))"
   ]
  },
  {
   "cell_type": "code",
   "execution_count": null,
   "id": "acting-nothing",
   "metadata": {},
   "outputs": [],
   "source": [
    "collection = data['oneThousand_most_popular_maps2']"
   ]
  },
  {
   "cell_type": "code",
   "execution_count": null,
   "id": "composed-executive",
   "metadata": {},
   "outputs": [],
   "source": [
    "cursor = collection.find({},{\"_id\":1})\n",
    "l = []\n",
    "for el in cursor:\n",
    "    l.append(el)\n",
    "listOfIds = []\n",
    "for i in range(1000):\n",
    "    listOfIds.append(l[i]['_id'])\n",
    "print(len(listOfIds))\n",
    "#print(listOfIds)"
   ]
  },
  {
   "cell_type": "code",
   "execution_count": null,
   "id": "facial-simon",
   "metadata": {},
   "outputs": [],
   "source": [
    "# plotting OD distribution across the top 1k beatmaps \n",
    "# how many times OD occurs on each beatmap, where it is the most popular \n",
    "db.osu_beatmaps_attribs_modZero.aggregate([\n",
    "    {'$match':{\n",
    "        \"beatmap_id\": {\n",
    "            '$in': listOfIds\n",
    "        },\n",
    "        \"attrib_id\": 5\n",
    "    } \n",
    "    }\n",
    "])\n",
    "# I think we don't need this anymore?"
   ]
  },
  {
   "cell_type": "code",
   "execution_count": null,
   "id": "desperate-steal",
   "metadata": {},
   "outputs": [],
   "source": [
    "collection = data[\"osu_beatmaps_attribs_modZero\"]"
   ]
  },
  {
   "cell_type": "markdown",
   "id": "induced-shopper",
   "metadata": {},
   "source": [
    "Distribution for attribute 5"
   ]
  },
  {
   "cell_type": "code",
   "execution_count": null,
   "id": "center-ready",
   "metadata": {},
   "outputs": [],
   "source": [
    "db.attrib_5.insert_many(\n",
    "        collection.aggregate([\n",
    "        {'$match':{\n",
    "        \"beatmap_id\": {\n",
    "            '$in': listOfIds\n",
    "        },\n",
    "        \"attrib_id\": 5,\n",
    "    } \n",
    "    }\n",
    "])\n",
    "    )"
   ]
  },
  {
   "cell_type": "code",
   "execution_count": null,
   "id": "short-commercial",
   "metadata": {},
   "outputs": [],
   "source": [
    "c1=[]\n",
    "d=[]\n",
    "t=db.attrib_5\n",
    "x=t.find({},{ \"_id\": 1, \"count\": 0})\n",
    "y=t.find({},{ \"_id\": 0, \"value\": 1})\n",
    "\n",
    "for i in y:\n",
    "    d.append(i['value'])\n",
    "for i in x:\n",
    "    c1.append(i[\"beatmap_id\"])\n",
    "\n",
    "plt.hist(d)\n",
    "plt.show()"
   ]
  },
  {
   "cell_type": "markdown",
   "id": "informed-accounting",
   "metadata": {},
   "source": [
    "Distribution for attribute 17"
   ]
  },
  {
   "cell_type": "code",
   "execution_count": null,
   "id": "electronic-knitting",
   "metadata": {},
   "outputs": [],
   "source": [
    "db.attrib_17.insert_many(\n",
    "    collection.aggregate([\n",
    "    {'$match':{\n",
    "    \"beatmap_id\": {\n",
    "        '$in': listOfIds\n",
    "    },\n",
    "    \"attrib_id\": 17,\n",
    "    } \n",
    "    }\n",
    "])\n",
    "    )"
   ]
  },
  {
   "cell_type": "code",
   "execution_count": null,
   "id": "infinite-worship",
   "metadata": {},
   "outputs": [],
   "source": [
    "j=[]\n",
    "k=[]\n",
    "d = []\n",
    "t=db.attrib_17\n",
    "x=t.find({},{ \"_id\": 1, \"count\": 0})\n",
    "y=t.find({},{ \"_id\": 0, \"value\": 1})\n",
    "\n",
    "for i in y:\n",
    "    k.append(i['value'])\n",
    "for i in x:\n",
    "    j.append(i[\"beatmap_id\"])\n",
    "    \n",
    "k\n",
    "plt.hist(k)\n",
    "plt.show()"
   ]
  },
  {
   "cell_type": "markdown",
   "id": "cleared-basement",
   "metadata": {},
   "source": [
    "Distribution for attribute 1"
   ]
  },
  {
   "cell_type": "code",
   "execution_count": null,
   "id": "requested-defense",
   "metadata": {},
   "outputs": [],
   "source": [
    "db.attrib_1.insert_many(\n",
    "    collection.aggregate([\n",
    "    {'$match':{\n",
    "    \"beatmap_id\": {\n",
    "        '$in': listOfIds\n",
    "    },\n",
    "    \"attrib_id\": 1,\n",
    "    } \n",
    "    }\n",
    "])\n",
    "    )"
   ]
  },
  {
   "cell_type": "code",
   "execution_count": null,
   "id": "alternative-river",
   "metadata": {},
   "outputs": [],
   "source": [
    "j=[]\n",
    "k=[]\n",
    "d = []\n",
    "t=db.attrib_1\n",
    "x=t.find({},{ \"_id\": 1, \"count\": 0})\n",
    "y=t.find({},{ \"_id\": 0, \"value\": 1})\n",
    "\n",
    "for i in y:\n",
    "    k.append(i['value'])\n",
    "for i in x:\n",
    "    j.append(i[\"beatmap_id\"])\n",
    "    \n",
    "k\n",
    "plt.hist(k)\n",
    "plt.show()"
   ]
  },
  {
   "cell_type": "markdown",
   "id": "available-eating",
   "metadata": {},
   "source": [
    "Distribution for Attribute 7"
   ]
  },
  {
   "cell_type": "code",
   "execution_count": null,
   "id": "asian-walker",
   "metadata": {},
   "outputs": [],
   "source": [
    "db.attrib_7.insert_many(\n",
    "    collection.aggregate([\n",
    "    {'$match':{\n",
    "    \"beatmap_id\": {\n",
    "        '$in': listOfIds\n",
    "    },\n",
    "    \"attrib_id\": 7,\n",
    "    } \n",
    "    }\n",
    "])\n",
    "    )"
   ]
  },
  {
   "cell_type": "code",
   "execution_count": null,
   "id": "fancy-radar",
   "metadata": {},
   "outputs": [],
   "source": [
    "j=[]\n",
    "k=[]\n",
    "d = []\n",
    "t=db.attrib_7\n",
    "x=t.find({},{ \"_id\": 1, \"count\": 0})\n",
    "y=t.find({},{ \"_id\": 0, \"value\": 1})\n",
    "\n",
    "for i in y:\n",
    "    k.append(i['value'])\n",
    "for i in x:\n",
    "    j.append(i[\"beatmap_id\"])\n",
    "    \n",
    "k\n",
    "plt.hist(k)\n",
    "plt.show()"
   ]
  },
  {
   "cell_type": "markdown",
   "id": "formal-disaster",
   "metadata": {},
   "source": [
    "Distribution for attribute 3"
   ]
  },
  {
   "cell_type": "code",
   "execution_count": null,
   "id": "floppy-wallpaper",
   "metadata": {},
   "outputs": [],
   "source": [
    "db.attrib_3.insert_many(\n",
    "    collection.aggregate([\n",
    "    {'$match':{\n",
    "    \"beatmap_id\": {\n",
    "        '$in': listOfIds\n",
    "    },\n",
    "    \"attrib_id\": 3,\n",
    "    } \n",
    "    }\n",
    "])\n",
    "    )"
   ]
  },
  {
   "cell_type": "code",
   "execution_count": null,
   "id": "honest-majority",
   "metadata": {},
   "outputs": [],
   "source": [
    "j=[]\n",
    "k=[]\n",
    "d = []\n",
    "t=db.attrib_3\n",
    "x=t.find({},{ \"_id\": 1, \"count\": 0})\n",
    "y=t.find({},{ \"_id\": 0, \"value\": 1})\n",
    "\n",
    "for i in y:\n",
    "    k.append(i['value'])\n",
    "for i in x:\n",
    "    j.append(i[\"beatmap_id\"])\n",
    "    \n",
    "k\n",
    "plt.hist(k)\n",
    "plt.show()"
   ]
  },
  {
   "cell_type": "markdown",
   "id": "allied-titanium",
   "metadata": {},
   "source": [
    "Distribution for attribute 9"
   ]
  },
  {
   "cell_type": "code",
   "execution_count": null,
   "id": "computational-enzyme",
   "metadata": {},
   "outputs": [],
   "source": [
    "db.attrib_9.insert_many(\n",
    "    collection.aggregate([\n",
    "    {'$match':{\n",
    "    \"beatmap_id\": {\n",
    "        '$in': listOfIds\n",
    "    },\n",
    "    \"attrib_id\": 9,\n",
    "    } \n",
    "    }\n",
    "])\n",
    "    )"
   ]
  },
  {
   "cell_type": "code",
   "execution_count": null,
   "id": "tired-public",
   "metadata": {},
   "outputs": [],
   "source": [
    "j=[]\n",
    "k=[]\n",
    "d = []\n",
    "t=db.attrib_9\n",
    "x=t.find({},{ \"_id\": 1, \"count\": 0})\n",
    "y=t.find({},{ \"_id\": 0, \"value\": 1})\n",
    "\n",
    "for i in y:\n",
    "    k.append(i['value'])\n",
    "for i in x:\n",
    "    j.append(i[\"beatmap_id\"])\n",
    "    \n",
    "k\n",
    "plt.hist(k)\n",
    "plt.show()"
   ]
  },
  {
   "cell_type": "markdown",
   "id": "declared-aquarium",
   "metadata": {},
   "source": [
    "Distribution for attribute 11"
   ]
  },
  {
   "cell_type": "code",
   "execution_count": null,
   "id": "fitting-surge",
   "metadata": {},
   "outputs": [],
   "source": [
    "db.attrib_11.insert_many(\n",
    "    collection.aggregate([\n",
    "    {'$match':{\n",
    "    \"beatmap_id\": {\n",
    "        '$in': listOfIds\n",
    "    },\n",
    "    \"attrib_id\": 11,\n",
    "    } \n",
    "    }\n",
    "])\n",
    "    )"
   ]
  },
  {
   "cell_type": "code",
   "execution_count": null,
   "id": "offshore-divorce",
   "metadata": {},
   "outputs": [],
   "source": [
    "j=[]\n",
    "k=[]\n",
    "d = []\n",
    "t=db.attrib_11\n",
    "x=t.find({},{ \"_id\": 1, \"count\": 0})\n",
    "y=t.find({},{ \"_id\": 0, \"value\": 1})\n",
    "\n",
    "for i in y:\n",
    "    k.append(i['value'])\n",
    "for i in x:\n",
    "    j.append(i[\"beatmap_id\"])\n",
    "    \n",
    "k\n",
    "plt.hist(k)\n",
    "plt.show()"
   ]
  },
  {
   "cell_type": "markdown",
   "id": "convenient-lounge",
   "metadata": {},
   "source": [
    "End of step 6"
   ]
  },
  {
   "cell_type": "code",
   "execution_count": null,
   "id": "nuclear-reader",
   "metadata": {},
   "outputs": [],
   "source": [
    "df = pd.DataFrame(list(db.oneThousand_most_popular_maps2\n",
    ".find({})))\n",
    "df.sort_values([\"_id\"], inplace = True)\n",
    "df.reset_index(inplace = True)\n",
    "a = df[\"count\"]\n",
    "#df"
   ]
  },
  {
   "cell_type": "code",
   "execution_count": null,
   "id": "biological-yahoo",
   "metadata": {},
   "outputs": [],
   "source": [
    "df1 = pd.DataFrame()\n",
    "df1[\"beatmap_id\"] = j\n",
    "df1['Star Difficulty'] = k\n",
    "df1[\"count\"] = a\n",
    "df1.sort_values(by = [\"count\"], axis = 0, ascending = False, inplace = True)\n",
    "c = df1[\"count\"]\n",
    "sd = df1[\"Star Difficulty\"]\n",
    "df1"
   ]
  },
  {
   "cell_type": "code",
   "execution_count": null,
   "id": "interior-roots",
   "metadata": {},
   "outputs": [],
   "source": [
    "plt.plot(c, sd)"
   ]
  },
  {
   "cell_type": "code",
   "execution_count": null,
   "id": "involved-richardson",
   "metadata": {},
   "outputs": [],
   "source": [
    "df2 = pd.DataFrame()\n",
    "df2[\"beatmap_id\"] = c1\n",
    "df2['OD'] = d\n",
    "df2[\"count\"] = a\n",
    "df2"
   ]
  },
  {
   "cell_type": "code",
   "execution_count": null,
   "id": "integral-feeding",
   "metadata": {},
   "outputs": [],
   "source": [
    "correlation = df2.corr()\n",
    "correlation"
   ]
  },
  {
   "cell_type": "code",
   "execution_count": null,
   "id": "above-dance",
   "metadata": {},
   "outputs": [],
   "source": [
    "c2 = df2[\"count\"]\n",
    "sd2 = df2[\"OD\"]"
   ]
  },
  {
   "cell_type": "code",
   "execution_count": null,
   "id": "textile-network",
   "metadata": {},
   "outputs": [],
   "source": [
    "plt.plot(c2, sd2)"
   ]
  },
  {
   "cell_type": "code",
   "execution_count": null,
   "id": "legal-stadium",
   "metadata": {},
   "outputs": [],
   "source": [
    "sns.pairplot(df2)"
   ]
  },
  {
   "cell_type": "code",
   "execution_count": null,
   "id": "crucial-budget",
   "metadata": {},
   "outputs": [],
   "source": [
    "df3 = pd.DataFrame(list(db.osu_beatmaps_attribs_modZero.find({})))\n",
    "df3.drop([\"_id\",\"mods\"], axis = 1, inplace = True)"
   ]
  },
  {
   "cell_type": "code",
   "execution_count": null,
   "id": "electrical-conducting",
   "metadata": {},
   "outputs": [],
   "source": [
    "df3.head(20)"
   ]
  },
  {
   "cell_type": "code",
   "execution_count": null,
   "id": "aggressive-behalf",
   "metadata": {},
   "outputs": [],
   "source": [
    "col = df3['attrib_id'].unique()\n",
    "ind = df3['beatmap_id'].unique()\n",
    "DF = pd.DataFrame(columns=col, index=ind)\n",
    "\n",
    "\n",
    "g=df3.groupby(['beatmap_id', 'attrib_id'])\n",
    "\n",
    "for name, group in g:\n",
    "    bmap = name[0]\n",
    "    attr = name[1]\n",
    "    val = float(group['value'])\n",
    "    DF.at[bmap, attr] = val\n",
    "\n",
    "\n",
    "DF.head()"
   ]
  },
  {
   "cell_type": "code",
   "execution_count": null,
   "id": "starting-ribbon",
   "metadata": {},
   "outputs": [],
   "source": [
    "DF.columns = [\"Aim\", \"Speed\", \"OD\", \"AR\", \"Max_Combo\", \"Strain\", \"Star Difficulty\"]"
   ]
  },
  {
   "cell_type": "code",
   "execution_count": null,
   "id": "sunrise-rainbow",
   "metadata": {},
   "outputs": [],
   "source": [
    "DF.reset_index()"
   ]
  },
  {
   "cell_type": "code",
   "execution_count": null,
   "id": "military-turkey",
   "metadata": {},
   "outputs": [],
   "source": [
    "correlation = DF.astype('float64').corr()\n",
    "f, ax = plt.subplots(figsize = (14, 12))\n",
    "plt.title(\"Correlation of Attributes\")\n",
    "sns.heatmap(correlation, annot = True)\n",
    "plt.show()"
   ]
  },
  {
   "cell_type": "code",
   "execution_count": null,
   "id": "floating-alias",
   "metadata": {},
   "outputs": [],
   "source": []
  }
 ],
 "metadata": {
  "kernelspec": {
   "display_name": "Python 3",
   "language": "python",
   "name": "python3"
  },
  "language_info": {
   "codemirror_mode": {
    "name": "ipython"
   },
   "file_extension": ".py",
   "mimetype": "text/x-python",
   "name": "python",
   "nbconvert_exporter": "python"
  }
 },
 "nbformat": 4,
 "nbformat_minor": 5
}
