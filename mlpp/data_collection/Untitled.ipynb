{
 "cells": [
  {
   "cell_type": "code",
   "execution_count": 11,
   "id": "innocent-butler",
   "metadata": {},
   "outputs": [],
   "source": [
    "import sys\n",
    "sys.path.append('../..')\n",
    "from pymongo import UpdateOne\n",
    "import matplotlib.pyplot as plt\n",
    "from exploration.config import mongo_inst\n",
    "from pymongo import MongoClient\n",
    "from mlpp.data_collection.sample import osuDumpSampler"
   ]
  },
  {
   "cell_type": "code",
   "execution_count": 12,
   "id": "crucial-correction",
   "metadata": {},
   "outputs": [],
   "source": [
    "client = MongoClient('localhost', 27017)"
   ]
  },
  {
   "cell_type": "code",
   "execution_count": 13,
   "id": "complex-newfoundland",
   "metadata": {},
   "outputs": [],
   "source": [
    "db = client.osu_random_db"
   ]
  },
  {
   "cell_type": "code",
   "execution_count": 14,
   "id": "active-blade",
   "metadata": {},
   "outputs": [],
   "source": [
    "collection = db[\"sample_scores_200k\"]"
   ]
  },
  {
   "cell_type": "code",
   "execution_count": 15,
   "id": "intimate-ticket",
   "metadata": {},
   "outputs": [],
   "source": [
    "test = osuDumpSampler(db)"
   ]
  },
  {
   "cell_type": "code",
   "execution_count": 16,
   "id": "junior-clear",
   "metadata": {},
   "outputs": [],
   "source": [
    "test.get_more_recent_than(collection, 2019, 1, 1, 0, 0, 0, \"sample_scores_100k\")"
   ]
  },
  {
   "cell_type": "code",
   "execution_count": null,
   "id": "ancient-stack",
   "metadata": {},
   "outputs": [],
   "source": []
  }
 ],
 "metadata": {
  "kernelspec": {
   "display_name": "dsu-mlpp-NTeR3u4n",
   "language": "python",
   "name": "dsu-mlpp-nter3u4n"
  },
  "language_info": {
   "codemirror_mode": {
    "name": "ipython",
    "version": 3
   },
   "file_extension": ".py",
   "mimetype": "text/x-python",
   "name": "python",
   "nbconvert_exporter": "python",
   "pygments_lexer": "ipython3",
   "version": "3.8.3"
  }
 },
 "nbformat": 4,
 "nbformat_minor": 5
}
