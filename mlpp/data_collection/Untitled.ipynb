{
 "cells": [
  {
   "cell_type": "code",
   "execution_count": null,
   "id": "innocent-butler",
   "metadata": {},
   "outputs": [],
   "source": [
    "import sys\n",
    "sys.path.append('../..')\n",
    "from pymongo import UpdateOne\n",
    "import matplotlib.pyplot as plt\n",
    "from exploration.config import mongo_inst\n",
    "from pymongo import MongoClient\n",
    "from mlpp.data_collection.sample import osuDumpSampler"
   ]
  },
  {
   "cell_type": "code",
   "execution_count": null,
   "id": "crucial-correction",
   "metadata": {},
   "outputs": [],
   "source": [
    "client = MongoClient('localhost', 27017)"
   ]
  },
  {
   "cell_type": "code",
   "execution_count": null,
   "id": "complex-newfoundland",
   "metadata": {},
   "outputs": [],
   "source": [
    "db = client.osu_random_db"
   ]
  },
  {
   "cell_type": "code",
   "execution_count": null,
   "id": "active-blade",
   "metadata": {},
   "outputs": [],
   "source": [
    "collection = db[\"sample_scores_200k\"]"
   ]
  },
  {
   "cell_type": "code",
   "execution_count": null,
   "id": "intimate-ticket",
   "metadata": {},
   "outputs": [],
   "source": [
    "test = osuDumpSampler(db)"
   ]
  },
  {
   "cell_type": "code",
   "execution_count": null,
   "id": "junior-clear",
   "metadata": {},
   "outputs": [],
   "source": [
    "test.get_more_recent_than(collection, 2019, 1, 1, 0, 0, 0, \"sample_scores_100k\")"
   ]
  },
  {
   "cell_type": "code",
   "execution_count": null,
   "id": "professional-cheese",
   "metadata": {},
   "outputs": [],
   "source": [
    "test1=db[\"sample_scores_100k\"]"
   ]
  },
  {
   "cell_type": "code",
   "execution_count": null,
   "id": "ancient-stack",
   "metadata": {},
   "outputs": [],
   "source": [
    "db.test1.distinct(\"_id\")"
   ]
  },
  {
   "cell_type": "code",
   "execution_count": null,
   "id": "colonial-praise",
   "metadata": {},
   "outputs": [],
   "source": []
  }
 ],
 "metadata": {
  "kernelspec": {
   "display_name": "dsu-mlpp-24Q4mam2",
   "language": "python",
   "name": "dsu-mlpp-24q4mam2"
  },
  "language_info": {
   "codemirror_mode": {
    "name": "ipython"
   },
   "file_extension": ".py",
   "mimetype": "text/x-python",
   "name": "python",
   "nbconvert_exporter": "python"
  }
 },
 "nbformat": 4,
 "nbformat_minor": 5
}
