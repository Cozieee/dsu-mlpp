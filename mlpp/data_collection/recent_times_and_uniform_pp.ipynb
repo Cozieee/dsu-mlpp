{
 "cells": [
  {
   "cell_type": "code",
   "execution_count": null,
   "id": "medium-visiting",
   "metadata": {},
   "outputs": [],
   "source": [
    "import sys\n",
    "sys.path.append('../..')\n",
    "from pymongo import UpdateOne\n",
    "import matplotlib.pyplot as plt\n",
    "from exploration.config import mongo_inst\n",
    "from pymongo import MongoClient\n",
    "from mlpp.data_collection.sample import osuDumpSampler"
   ]
  },
  {
   "cell_type": "code",
   "execution_count": null,
   "id": "emerging-course",
   "metadata": {},
   "outputs": [],
   "source": [
    "client = MongoClient('localhost', 27017)"
   ]
  },
  {
   "cell_type": "code",
   "execution_count": null,
   "id": "recovered-chassis",
   "metadata": {},
   "outputs": [],
   "source": [
    "db = client.osu_random_db"
   ]
  },
  {
   "cell_type": "code",
   "execution_count": null,
   "id": "reflected-comparison",
   "metadata": {},
   "outputs": [],
   "source": [
    "data = mongo_inst[\"osu_random_db\"]"
   ]
  },
  {
   "cell_type": "code",
   "execution_count": null,
   "id": "realistic-connectivity",
   "metadata": {},
   "outputs": [],
   "source": [
    "test = osuDumpSampler(data)"
   ]
  },
  {
   "cell_type": "code",
   "execution_count": null,
   "id": "premier-variety",
   "metadata": {},
   "outputs": [],
   "source": [
    "test.use_random_sample(\"sample_scores_1M\", 6500) #sample of 1 million random documents "
   ]
  },
  {
   "cell_type": "code",
   "execution_count": null,
   "id": "forbidden-eating",
   "metadata": {},
   "outputs": [],
   "source": [
    "collection = data[\"sample_scores_1M\"]"
   ]
  },
  {
   "cell_type": "code",
   "execution_count": null,
   "id": "plastic-sigma",
   "metadata": {},
   "outputs": [],
   "source": [
    "\"\"\"\n",
    "from sample of 1 million, take only that are more recent than 12/01/2018---leads to about 500k\n",
    "\"\"\"\n",
    "test.get_more_recent_than(collection, 2018, 12, 1, 0, 0, 0, \"sample_scores_500k\") \n"
   ]
  },
  {
   "cell_type": "code",
   "execution_count": null,
   "id": "secondary-czech",
   "metadata": {},
   "outputs": [],
   "source": [
    "collection2 = data[\"sample_scores_500k\"]"
   ]
  },
  {
   "cell_type": "code",
   "execution_count": null,
   "id": "clear-rouge",
   "metadata": {},
   "outputs": [],
   "source": [
    "\"\"\"\n",
    "max est user pp in collection of 500k\n",
    "\"\"\"\n",
    "cursor=db.sample_scores_500k.aggregate(\n",
    "   [\n",
    "     {\n",
    "       \"$group\":\n",
    "         {\n",
    "           \"_id\": {},\n",
    "           \"max\": { \"$max\": \"$mlpp.est_user_pp\" }\n",
    "         }\n",
    "     }\n",
    "   ]\n",
    ")\n",
    "for document in cursor:\n",
    "    print(document)\n",
    "print(document['max'])\n",
    "max_pp = document['max']"
   ]
  },
  {
   "cell_type": "code",
   "execution_count": null,
   "id": "recent-plymouth",
   "metadata": {},
   "outputs": [],
   "source": [
    "a = 0\n",
    "b = 100\n",
    "\n",
    "while b <= max_pp:\n",
    "    db.uniform_collection2.insert_many(\n",
    "        collection2.aggregate([\n",
    "        {\n",
    "        '$match': {\n",
    "            'mlpp.est_user_pp' : {\n",
    "                '$gt': a,\n",
    "                '$lt': b,\n",
    "            }\n",
    "        }\n",
    "    },\n",
    "    {'$sample': {\n",
    "        'size': 800\n",
    "    }\n",
    "}\n",
    "        \n",
    "])\n",
    "    )\n",
    "    a = b\n",
    "    b += 100"
   ]
  },
  {
   "cell_type": "code",
   "execution_count": null,
   "id": "authorized-popularity",
   "metadata": {},
   "outputs": [],
   "source": [
    "#once you have a uniform collection, use this to have a collection with the most 1000 popular maps:\n",
    "db.uniform_collection2.aggregate([\n",
    "    {\n",
    "        '$group': {\n",
    "            '_id': '$beatmap_id', \n",
    "            'count': {\n",
    "                '$sum': 1\n",
    "            }\n",
    "        }\n",
    "    }, {\n",
    "        '$sort': {\n",
    "            'count': -1\n",
    "        }\n",
    "    }, {\n",
    "        '$limit': 1000\n",
    "    }, {\n",
    "        '$out': 'oneThousand_most_popular_maps2'\n",
    "    }\n",
    "])"
   ]
  },
  {
   "cell_type": "markdown",
   "id": "tribal-matter",
   "metadata": {},
   "source": [
    "## Objective 3: Beatmap id and count relationship"
   ]
  },
  {
   "cell_type": "code",
   "execution_count": null,
   "id": "small-arcade",
   "metadata": {},
   "outputs": [],
   "source": [
    "collections = db.list_collection_names() \n",
    "print (\"collections:\", collections, \"\\n\")"
   ]
  },
  {
   "cell_type": "code",
   "execution_count": null,
   "id": "handy-construction",
   "metadata": {},
   "outputs": [],
   "source": [
    "g=[]\n",
    "h=[]\n",
    "x=db.oneThousand_most_popular_maps2\n",
    "x1=x.find({},{ \"_id\": 0, \"count\": 1}) #finds only the count column in the collection\n",
    "y1=x.find({},{ \"_id\": 1, \"count\": 0})\n",
    "\n",
    "for i in x1:\n",
    "    g.append(i['count'])\n",
    "\n",
    "plt.plot(g,'ro')\n",
    "plt.xlabel('index')\n",
    "plt.ylabel('count')"
   ]
  },
  {
   "cell_type": "code",
   "execution_count": null,
   "id": "unique-gamma",
   "metadata": {},
   "outputs": [],
   "source": [
    "\n",
    "for i in y1:\n",
    "    h.append(i['_id'])\n",
    "h\n"
   ]
  },
  {
   "cell_type": "code",
   "execution_count": null,
   "id": "listed-belly",
   "metadata": {},
   "outputs": [],
   "source": []
  },
  {
   "cell_type": "code",
   "execution_count": null,
   "id": "ruled-rochester",
   "metadata": {},
   "outputs": [],
   "source": [
    "collections = db.list_collection_names() \n",
    "print (\"collections:\", collections, \"\\n\")"
   ]
  },
  {
   "cell_type": "code",
   "execution_count": null,
   "id": "afraid-zoning",
   "metadata": {},
   "outputs": [],
   "source": [
    "idList=[]\n",
    "idList2=[]\n",
    "z=db.osu_beatmaps_attribs_modZero\n",
    "z1=z.find({},{ \"_id\": 0, \"attrib_id\": 1})\n",
    "z2=z.find({},{ \"_id\": 0, \"beatmap_id\": 1})\n",
    "for i in z1:\n",
    "    idList.append(i['attrib_id'])\n",
    "for i in z2:\n",
    "    idList2.append(i['beatmap_id'])"
   ]
  },
  {
   "cell_type": "code",
   "execution_count": null,
   "id": "joined-phone",
   "metadata": {},
   "outputs": [],
   "source": [
    "len(idList2)"
   ]
  },
  {
   "cell_type": "code",
   "execution_count": null,
   "id": "military-planner",
   "metadata": {},
   "outputs": [],
   "source": [
    "ODList=[]\n",
    "StarList=[]\n",
    "for i in idList:\n",
    "    if idList[i]==5:\n",
    "        ODList.append(idList[i])\n",
    "for i in idList:\n",
    "    if idList[i] ==17:\n",
    "        StarList.append(idList[i])\n",
    "ODList"
   ]
  },
  {
   "cell_type": "code",
   "execution_count": null,
   "id": "nutritional-providence",
   "metadata": {},
   "outputs": [],
   "source": [
    "\"\"\"\n",
    "max beatmap id in collection of beatmap attribs modZero\n",
    "\"\"\"\n",
    "o=db.osu_beatmaps_attribs_modZero\n",
    "cursor1=o.aggregate(\n",
    "   [\n",
    "     {\n",
    "       \"$group\":\n",
    "         {\n",
    "           \"_id\": {},\n",
    "           \"max\": { \"$max\": \"$beatmap_id\" }\n",
    "         }\n",
    "     }\n",
    "   ]\n",
    ")\n",
    "for i in cursor1:\n",
    "    print(i)\n",
    "print(i['max'])"
   ]
  },
  {
   "cell_type": "code",
   "execution_count": null,
   "id": "essential-dietary",
   "metadata": {},
   "outputs": [],
   "source": [
    "bg=[]\n",
    "#idList2 is much longer than h so out of range \n",
    "#need to figure out how to get \n",
    "for i in h:\n",
    "    for j in idList2:\n",
    "        if h[i]==j[i]:\n",
    "            bg.append(h[i])"
   ]
  },
  {
   "cell_type": "code",
   "execution_count": null,
   "id": "average-payment",
   "metadata": {},
   "outputs": [],
   "source": [
    "bg=[]\n",
    "#idList2 is much longer than h so out of range \n",
    "#need to figure out how to get \n",
    "for i in h:\n",
    "    temp=h[i-1]\n",
    "    for j in idList2:\n",
    "        if temp==idList2[j-1]:\n",
    "            bg.append(h[i-1])"
   ]
  },
  {
   "cell_type": "code",
   "execution_count": null,
   "id": "protective-midnight",
   "metadata": {},
   "outputs": [],
   "source": [
    "for i in h:\n",
    "    print(h[i-1])"
   ]
  },
  {
   "cell_type": "code",
   "execution_count": null,
   "id": "saving-qualification",
   "metadata": {},
   "outputs": [],
   "source": [
    "list1=[1,2,3]"
   ]
  },
  {
   "cell_type": "code",
   "execution_count": null,
   "id": "involved-track",
   "metadata": {},
   "outputs": [],
   "source": [
    "type(h)"
   ]
  },
  {
   "cell_type": "code",
   "execution_count": null,
   "id": "possible-universal",
   "metadata": {},
   "outputs": [],
   "source": [
    "for i in h:\n",
    "    print(h[i-1])"
   ]
  },
  {
   "cell_type": "code",
   "execution_count": null,
   "id": "fatty-prayer",
   "metadata": {},
   "outputs": [],
   "source": [
    "h"
   ]
  },
  {
   "cell_type": "code",
   "execution_count": null,
   "id": "everyday-respect",
   "metadata": {},
   "outputs": [],
   "source": []
  }
 ],
 "metadata": {
  "kernelspec": {
   "display_name": "Python 3",
   "language": "python",
   "name": "python3"
  },
  "language_info": {
   "codemirror_mode": {
    "name": "ipython"
   },
   "file_extension": ".py",
   "mimetype": "text/x-python",
   "name": "python",
   "nbconvert_exporter": "python"
  }
 },
 "nbformat": 4,
 "nbformat_minor": 5
}
