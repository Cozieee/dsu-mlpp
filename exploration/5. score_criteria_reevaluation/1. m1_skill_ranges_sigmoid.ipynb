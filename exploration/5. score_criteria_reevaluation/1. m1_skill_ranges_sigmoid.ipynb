{
 "cells": [
  {
   "cell_type": "code",
   "execution_count": null,
   "metadata": {},
   "outputs": [],
   "source": [
    "import numpy as np\n",
    "from tqdm import tqdm\n",
    "import matplotlib.pyplot as plt\n",
    "import math\n",
    "from exploration.config import mongo_inst"
   ]
  },
  {
   "cell_type": "code",
   "execution_count": null,
   "metadata": {},
   "outputs": [],
   "source": [
    "MIN_ACC, PP_RANGE, PP_INTERVAL, MAX_PP = .9, 200, 100, 10000\n",
    "INTERVALS = math.ceil((MAX_PP - PP_RANGE) / PP_INTERVAL)\n",
    "\n",
    "osu_db = mongo_inst['osu_random_db']"
   ]
  },
  {
   "cell_type": "code",
   "execution_count": null,
   "metadata": {},
   "outputs": [],
   "source": [
    "bm_popularity_pipeline = [\n",
    "    {\n",
    "        '$group': {\n",
    "            '_id': '$beatmap_id',\n",
    "            'count': {\n",
    "                '$sum': 1\n",
    "            }\n",
    "        }\n",
    "    },\n",
    "    {\n",
    "        '$sort': {\n",
    "            'count': -1\n",
    "        }\n",
    "    }\n",
    "]"
   ]
  },
  {
   "cell_type": "code",
   "execution_count": null,
   "metadata": {},
   "outputs": [],
   "source": [
    "top_bm = list(osu_db['osu_scores_high'].aggregate(bm_popularity_pipeline))"
   ]
  },
  {
   "cell_type": "code",
   "execution_count": null,
   "metadata": {},
   "outputs": [],
   "source": [
    "def compute_acc(score):\n",
    "    c50, c100, c300, cmiss = score['count50'], score['count100'], score['count300'], score['countmiss']\n",
    "    return (c50 / 6 + c100 / 3 + c300) / (c50 + c100 + c300 + cmiss)"
   ]
  },
  {
   "cell_type": "code",
   "execution_count": null,
   "metadata": {},
   "outputs": [],
   "source": [
    "def criteria_curve(scores):\n",
    "    est_pp = [s['mlpp']['est_user_pp'] for s in scores]\n",
    "    acc = [compute_acc(s) for s in scores]\n",
    "\n",
    "    criteria_pass = np.asarray(acc) > MIN_ACC\n",
    "    cummulative_pass = np.cumsum(np.insert(criteria_pass, 0, False))\n",
    "\n",
    "    total, n_pass = np.zeros(INTERVALS), np.zeros(INTERVALS)\n",
    "    j_s, j_e = 0, 0\n",
    "\n",
    "    for i in range(INTERVALS):\n",
    "        b = i * PP_INTERVAL\n",
    "\n",
    "        while j_s < len(est_pp) - 1 and est_pp[j_s] < b:\n",
    "            j_s+=1\n",
    "        \n",
    "        while j_e < len(est_pp) - 1 and est_pp[j_e] < b + PP_RANGE:\n",
    "            j_e+=1\n",
    "        \n",
    "        total[i] = j_e - j_s\n",
    "        n_pass[i] = cummulative_pass[j_e] - cummulative_pass[j_s]\n",
    "    \n",
    "    return n_pass / total, total, n_pass"
   ]
  },
  {
   "cell_type": "code",
   "execution_count": null,
   "metadata": {},
   "outputs": [],
   "source": [
    "def insert_beatmap_reg(bm_id):\n",
    "    scores_nm = list(\n",
    "        osu_db['osu_scores_high'].find(\n",
    "            {\n",
    "                'beatmap_id': bm['_id'],\n",
    "                'enabled_mods': 0\n",
    "            },\n",
    "            {\n",
    "                'count50': 1,\n",
    "                'count100': 1,\n",
    "                'count300': 1,\n",
    "                'countmiss': 1,\n",
    "                'mlpp.est_user_pp': 1\n",
    "            }\n",
    "        ).sort('mlpp.est_user_pp')\n",
    "    )\n",
    "        \n",
    "    scores_unfiltered = list(\n",
    "        osu_db['osu_scores_high'].find(\n",
    "            {\n",
    "                'beatmap_id': bm['_id']\n",
    "            },\n",
    "            {\n",
    "                'count50': 1,\n",
    "                'count100': 1,\n",
    "                'count300': 1,\n",
    "                'countmiss': 1,\n",
    "                'mlpp.est_user_pp': 1\n",
    "            }\n",
    "        ).sort('mlpp.est_user_pp')\n",
    "    )\n",
    "\n",
    "    _, total_nm, n_pass_nm = criteria_curve(scores_nm)\n",
    "    _, total_unfiltered, n_pass_unfiltered = criteria_curve(scores_unfiltered)\n",
    "\n",
    "    doc = {\n",
    "        '_id': bm['_id'],\n",
    "        'no_mod': {\n",
    "            'total': total_nm.tolist(),\n",
    "            'n_pass': n_pass_nm.tolist()\n",
    "        },\n",
    "        'all_scores': {\n",
    "            'total': total_unfiltered.tolist(),\n",
    "            'n_pass': n_pass_unfiltered.tolist()\n",
    "        }\n",
    "    }\n",
    "\n",
    "    osu_db['beatmap_criteria_curve'].insert(doc)\n"
   ]
  },
  {
   "cell_type": "code",
   "execution_count": null,
   "metadata": {},
   "outputs": [],
   "source": [
    "for bm in tqdm(top_bm[:3000]):\n",
    "    insert_beatmap_reg(bm['_id'])"
   ]
  },
  {
   "cell_type": "code",
   "execution_count": null,
   "metadata": {},
   "outputs": [],
   "source": [
    "x = np.arange(0, INTERVALS) * PP_INTERVAL\n",
    "plt.plot(x, criteria_curve(scores_nm)[0],  label = \"NM\")\n",
    "plt.plot(x, criteria_curve(scores_unfiltered)[0], label = \"Unfiltered\")\n",
    "plt.title(\"Criteria curves for > 90% acc - Big Black\")\n",
    "plt.xlabel(\"Estimate User PP\")\n",
    "plt.ylabel(\"Acc\")\n",
    "plt.legend(loc = \"upper left\")"
   ]
  },
  {
   "cell_type": "code",
   "execution_count": null,
   "metadata": {},
   "outputs": [],
   "source": [
    "total, n_pass = np.zeros(INTERVALS), np.zeros(INTERVALS)\n",
    "\n",
    "for i in range(INTERVALS):\n",
    "    b = i * PP_INTERVAL\n",
    "\n",
    "    for j in range(len(est_pp)):\n",
    "        if b < est_pp[j] < b + PP_RANGE:\n",
    "            total[i] += 1\n",
    "            n_pass[i] += criteria_pass[j]"
   ]
  }
 ],
 "metadata": {
  "kernelspec": {
   "display_name": "Python 3",
   "language": "python",
   "name": "python3"
  },
  "language_info": {
   "codemirror_mode": {
    "name": "ipython"
   },
   "file_extension": ".py",
   "mimetype": "text/x-python",
   "name": "python",
   "nbconvert_exporter": "python"
  }
 },
 "nbformat": 4,
 "nbformat_minor": 2
}
