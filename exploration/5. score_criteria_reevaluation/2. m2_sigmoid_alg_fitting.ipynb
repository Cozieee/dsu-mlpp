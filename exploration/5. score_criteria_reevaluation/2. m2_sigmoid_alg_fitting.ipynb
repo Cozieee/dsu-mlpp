{
 "cells": [
  {
   "cell_type": "code",
   "execution_count": null,
   "metadata": {},
   "outputs": [],
   "source": [
    "# NOTES FROM MEETING\n",
    "# No cell should take more than 20 minutes to run\n",
    "# Please limit to one temporary collection (must be deleted at end of notebook). No external files\n",
    "# Try to reduce single-line cells\n",
    "\n",
    "# Mini-competition -\n",
    "# Challenge: Limit to 50 lines of code (75 for team 1)! (excluding imports)\n",
    "# Fit Success Rate: Fitting method with highest fit success rate\n",
    "# Fit Average error: Fitting method with lowest fit error rate\n",
    "# Fit Time complexity: Fitting method with lowest time expended\n",
    "# Notebook housekeeping: Cleanest-looking notebook win!"
   ]
  },
  {
   "cell_type": "markdown",
   "metadata": {},
   "source": [
    "# Sigmoid Criteria Curve Fitting: Algebraic Approach\n",
    "**Contributors:** Justin Kaufman, Marco Scialanga\n",
    "\n",
    "**Achievement:**\n",
    "\n",
    "**Requirements:**\n"
   ]
  },
  {
   "cell_type": "markdown",
   "metadata": {},
   "source": [
    "## Example of cell markdown\n",
    "**This is a note:** Please have markdown before each cell. In this format!"
   ]
  },
  {
   "cell_type": "code",
   "execution_count": null,
   "metadata": {},
   "outputs": [],
   "source": [
    "# Import packages you need\n",
    "import sys\n",
    "sys.path.append('../..')\n",
    "import numpy as np\n",
    "import matplotlib.pyplot as plt\n",
    "from pymongo import MongoClient\n",
    "import math\n",
    "from scipy.optimize import curve_fit\n",
    "from exploration.config import mongo_inst"
   ]
  },
  {
   "cell_type": "code",
   "execution_count": null,
   "metadata": {},
   "outputs": [],
   "source": [
    "# Instantiate your mongo instance, classes, and any config/global vars\n",
    "osu_db = mongo_inst['osu_random_db']\n",
    "collection = osu_db['beatmap_criteria_curve']"
   ]
  },
  {
   "cell_type": "code",
   "execution_count": null,
   "metadata": {},
   "outputs": [],
   "source": [
    "# Load the curve data"
   ]
  },
  {
   "cell_type": "code",
   "execution_count": null,
   "metadata": {},
   "outputs": [],
   "source": [
    "# Run all CDF curve fits & store in beatmap_criteria_curve collection\n",
    "# doesn't work yet\n",
    "\n",
    "cursor = collection.find({},{\"_id\":1})\n",
    "l = []\n",
    "\n",
    "for el in cursor:\n",
    "    l.append(el)\n",
    "listOfIds = []\n",
    "\n",
    "for i in range(3000):\n",
    "    listOfIds.append(l[i]['_id']) #list with all the _id's\n"
   ]
  },
  {
   "cell_type": "code",
   "execution_count": null,
   "metadata": {},
   "outputs": [],
   "source": [
    "for el in cursors\n",
    "    osu_db.log_params.insertMany(el)"
   ]
  },
  {
   "cell_type": "code",
   "execution_count": null,
   "metadata": {},
   "outputs": [],
   "source": [
    "# Load the beatmap attribs data"
   ]
  },
  {
   "cell_type": "code",
   "execution_count": null,
   "metadata": {},
   "outputs": [],
   "source": [
    "# fit success-rate summary table with (3 rows 1 for each CDF fit) (4 columns 1* - 4*, 4* - 6*, 6* plus, all)"
   ]
  },
  {
   "cell_type": "code",
   "execution_count": null,
   "metadata": {},
   "outputs": [],
   "source": [
    "# for curves that could be fit, error summary table with same layout as above"
   ]
  },
  {
   "cell_type": "markdown",
   "metadata": {},
   "source": [
    "## Conclusion\n",
    "Don't forget to provide a conclusion"
   ]
  },
  {
   "cell_type": "code",
   "execution_count": null,
   "metadata": {},
   "outputs": [],
   "source": [
    "def makeArr(x):\n",
    "    n=np.arange(0,x)\n",
    "    return n"
   ]
  },
  {
   "cell_type": "code",
   "execution_count": null,
   "metadata": {},
   "outputs": [],
   "source": [
    "def logiFunc(x, A, x0, k, off):\n",
    "        f = A / (1 + np.exp(-k * (x-x0))) + off\n",
    "        return f\n",
    "\n",
    "def algFunc(x, A, x0 , k, off):\n",
    "        f = A * (k*x - x0)/ (np.sqrt((k*x-x0)**2 + 1)) + off\n",
    "        return f\n",
    "\n",
    "def genLogFunc(x, A, x0 , k, off, a):\n",
    "        f = A * (1 + np.exp(k*x - x0))**(-a) + off\n",
    "        return f"
   ]
  },
  {
   "cell_type": "code",
   "execution_count": null,
   "metadata": {},
   "outputs": [],
   "source": [
    "def get_x_and_y(beatmap_id):\n",
    "    \n",
    "    beatmap = osu_db['beatmap_criteria_curve'].find_one({'_id': beatmap_id})\n",
    "    \n",
    "    x_temp = np.arange(0,98)\n",
    "    y_temp = np.asarray(beatmap['no_mod']['n_pass'])/np.asarray(beatmap['no_mod']['total'])\n",
    "    y = y_temp[np.logical_not(np.isnan(y_temp))]\n",
    "    x = makeArr(len(y))\n",
    "   \n",
    "    return x,y"
   ]
  },
  {
   "cell_type": "code",
   "execution_count": null,
   "metadata": {},
   "outputs": [],
   "source": [
    "def fit_log(beatmap_id):\n",
    "    \n",
    "    x = get_x_and_y(beatmap_id)[0]\n",
    "    y = get_x_and_y(beatmap_id)[1]\n",
    "    \n",
    "    popt, pcov = curve_fit(logifunc, x, y, maxfev = 1000)\n",
    "    \n",
    "    return popt #these are returned in the same order as in the function definition\n",
    "\n",
    "def fit_alg(beatmap_id):\n",
    "    \n",
    "    x = get_x_and_y(beatmap_id)[0]\n",
    "    y = get_x_and_y(beatmap_id)[1]\n",
    "    \n",
    "    popt, pcov = curve_fit(algFunc, x, y, maxfev = 1000)\n",
    "    \n",
    "    return popt\n",
    "    \n",
    "def fit_genLog(beatmap_id):\n",
    "    \n",
    "    x = get_x_and_y(beatmap_id)[0]\n",
    "    y = get_x_and_y(beatmap_id)[1]\n",
    "    \n",
    "    popt, pcov = curve_fit(genLogFunc, x, y, maxfev = 1000)\n",
    "    \n",
    "    return popt\n",
    "    "
   ]
  },
  {
   "cell_type": "code",
   "execution_count": null,
   "metadata": {},
   "outputs": [],
   "source": [
    "def plot_fit_log(popt, beatmap_id):\n",
    "    \n",
    "    x = get_x_and_y(beatmap_id)[0]\n",
    "    y = get_x_and_y(beatmap_id)[1]\n",
    "    \n",
    "    f, ax = plt.subplots(figsize = (14, 12))\n",
    "    plt.title('Fitting logistic function for beatmap %d' %(beatmap_id))\n",
    "    plt.plot(x,y,label = 'original')\n",
    "    plt.plot(x, logifunc(x, *popt), 'r-',label = 'Fitted logistic function')\n",
    "    plt.legend()\n",
    "    \n",
    "def plot_fit_alg(popt, beatmap_id):\n",
    "    \n",
    "    x = get_x_and_y(beatmap_id)[0]\n",
    "    y = get_x_and_y(beatmap_id)[1]\n",
    "    \n",
    "    f, ax = plt.subplots(figsize = (14, 12))\n",
    "    plt.title('Fitting algebraic function for beatmap %d' %(beatmap_id))\n",
    "    plt.plot(x,y,label = 'original')\n",
    "    plt.plot(x, algFunc(x, *popt), 'r-',label = 'Fitted logistic function')\n",
    "    plt.legend()\n",
    "    \n",
    "def plot_fit_genLog(popt, beatmap_id):\n",
    "    \n",
    "    x = get_x_and_y(beatmap_id)[0]\n",
    "    y = get_x_and_y(beatmap_id)[1]\n",
    "    \n",
    "    f, ax = plt.subplots(figsize = (14, 12))\n",
    "    plt.title('Fitting generalized logistic function for beatmap %d' %(beatmap_id))\n",
    "    plt.plot(x,y,label = 'original')\n",
    "    plt.plot(x, genLogFunc(x, *popt), 'r-',label = 'Fitted logistic function')\n",
    "    plt.legend()"
   ]
  },
  {
   "cell_type": "code",
   "execution_count": null,
   "metadata": {},
   "outputs": [],
   "source": [
    "# You can run any of the following\n",
    "# popt = fit_alg(104229)\n",
    "# plot_fit_alg(popt, 104229)\n",
    "\n",
    "# popt = fit_alg(104229)\n",
    "# plot_fit_alg(popt, 104229)\n",
    "\n",
    "# popt = fit_alg(104229)\n",
    "# plot_fit_alg(popt, 104229)"
   ]
  },
  {
   "cell_type": "code",
   "execution_count": null,
   "metadata": {},
   "outputs": [],
   "source": []
  }
 ],
 "metadata": {
  "kernelspec": {
   "display_name": "Python 3",
   "language": "python",
   "name": "python3"
  },
  "language_info": {
   "codemirror_mode": {
    "name": "ipython"
   },
   "file_extension": ".py",
   "mimetype": "text/x-python",
   "name": "python",
   "nbconvert_exporter": "python"
  }
 },
 "nbformat": 4,
 "nbformat_minor": 2
}
