{
 "cells": [
  {
   "cell_type": "code",
   "execution_count": null,
   "metadata": {},
   "outputs": [],
   "source": [
    "# NOTES FROM MEETING\n",
    "# No cell should take more than 20 minutes to run\n",
    "# Please limit to one temporary collection (must be deleted at end of notebook). No external files\n",
    "# Try to reduce single-line cells\n",
    "\n",
    "# Mini-competition -\n",
    "# Challenge: Limit to 50 lines of code (75 for team 1)! (excluding imports)\n",
    "# Fit Success Rate: Fitting method with highest fit success rate\n",
    "# Fit Average error: Fitting method with lowest fit error rate\n",
    "# Fit Time complexity: Fitting method with lowest time expended\n",
    "# Notebook housekeeping: Cleanest-looking notebook win!"
   ]
  },
  {
   "cell_type": "markdown",
   "metadata": {},
   "source": [
    "# Sigmoid Criteria Curve Fitting: Algebraic Approach\n",
    "**Contributors:** Justin Kaufman, Marco Scialanga\n",
    "\n",
    "**Achievement:**\n",
    "\n",
    "**Requirements:**\n"
   ]
  },
  {
   "cell_type": "markdown",
   "metadata": {},
   "source": [
    "## Example of cell markdown\n",
    "**This is a note:** Please have markdown before each cell. In this format!"
   ]
  },
  {
   "cell_type": "code",
   "execution_count": null,
   "metadata": {},
   "outputs": [],
   "source": [
    "# Import packages you need\n",
    "import sys\n",
    "sys.path.append('../..')\n",
    "import numpy as np\n",
    "import matplotlib.pyplot as plt\n",
    "from pymongo import MongoClient\n",
    "import math\n",
    "from scipy.optimize import curve_fit\n",
    "from exploration.config import mongo_inst"
   ]
  },
  {
   "cell_type": "code",
   "execution_count": null,
   "metadata": {},
   "outputs": [],
   "source": [
    "# Instantiate your mongo instance, classes, and any config/global vars\n",
    "osu_db = mongo_inst['osu_random_db']"
   ]
  },
  {
   "cell_type": "code",
   "execution_count": null,
   "metadata": {},
   "outputs": [],
   "source": [
    "# Load the curve data"
   ]
  },
  {
   "cell_type": "code",
   "execution_count": null,
   "metadata": {},
   "outputs": [],
   "source": [
    "# Run all CDF curve fits & store in beatmap_criteria_curve collection"
   ]
  },
  {
   "cell_type": "code",
   "execution_count": null,
   "metadata": {},
   "outputs": [],
   "source": [
    "# Load the beatmap attribs data"
   ]
  },
  {
   "cell_type": "code",
   "execution_count": null,
   "metadata": {},
   "outputs": [],
   "source": [
    "# fit success-rate summary table with (3 rows 1 for each CDF fit) (4 columns 1* - 4*, 4* - 6*, 6* plus, all)"
   ]
  },
  {
   "cell_type": "code",
   "execution_count": null,
   "metadata": {},
   "outputs": [],
   "source": [
    "# for curves that could be fit, error summary table with same layout as above"
   ]
  },
  {
   "cell_type": "markdown",
   "metadata": {},
   "source": [
    "## Conclusion\n",
    "Don't forget to provide a conclusion"
   ]
  },
  {
   "cell_type": "code",
   "execution_count": null,
   "metadata": {},
   "outputs": [],
   "source": []
  },
  {
   "cell_type": "code",
   "execution_count": null,
   "metadata": {},
   "outputs": [],
   "source": [
    "osu_db = mongo_inst['osu_random_db']"
   ]
  },
  {
   "cell_type": "code",
   "execution_count": null,
   "metadata": {},
   "outputs": [],
   "source": [
    "love = osu_db['beatmap_criteria_curve'].find_one({'_id': 104229})"
   ]
  },
  {
   "cell_type": "code",
   "execution_count": null,
   "metadata": {},
   "outputs": [],
   "source": [
    "x=np.arange(0,98)\n",
    "y=np.asarray(love['no_mod']['n_pass'])/np.asarray(love['no_mod']['total'])\n",
    "plt.plot(x,y)"
   ]
  },
  {
   "cell_type": "code",
   "execution_count": null,
   "metadata": {},
   "outputs": [],
   "source": [
    "def logifunc(x,A,x0,k,off):\n",
    "    return A / (1 + np.exp(-k*(x-x0)))+off"
   ]
  },
  {
   "cell_type": "code",
   "execution_count": null,
   "metadata": {},
   "outputs": [],
   "source": [
    "y=y[np.logical_not(np.isnan(y))]\n",
    "x=makeArr(getLen(y))"
   ]
  },
  {
   "cell_type": "code",
   "execution_count": null,
   "metadata": {},
   "outputs": [],
   "source": [
    "popt, pcov = curve_fit(logifunc, x, y)\n",
    "plt.plot(x,y,label='original')\n",
    "plt.plot(x, logifunc(x, *popt), 'r-',label='Fitted logistic function')\n",
    "plt.legend()"
   ]
  },
  {
   "cell_type": "code",
   "execution_count": null,
   "metadata": {},
   "outputs": [],
   "source": [
    "popt, pcov = curve_fit(logifunc, x, y)\n",
    "##func need to create a function that resembles the data, then pass that function in\n",
    "plt.plot(x, logifunc(x, *popt), label=\"Fitted Curve\")"
   ]
  },
  {
   "cell_type": "code",
   "execution_count": null,
   "metadata": {},
   "outputs": [],
   "source": [
    "def makeArr(x):\n",
    "    n=np.arange(0,x)\n",
    "    return n"
   ]
  },
  {
   "cell_type": "code",
   "execution_count": null,
   "metadata": {},
   "outputs": [],
   "source": [
    "makeArr(getLen(y))"
   ]
  },
  {
   "cell_type": "code",
   "execution_count": null,
   "metadata": {},
   "outputs": [],
   "source": [
    "def fit_logistic(beatmap_id):\n",
    "   \n",
    "    beatmap = osu_db['beatmap_criteria_curve'].find_one({'_id': beatmap_id})\n",
    "    \n",
    "    def logifunc(x, A, x0, k, off):\n",
    "        f = A / (1 + np.exp(-k * (x-x0))) + off\n",
    "        return f\n",
    "\n",
    "    def makeArr(x):\n",
    "        n = np.arange(0,x)\n",
    "        return n\n",
    "    \n",
    "    x_temp = np.arange(0,98)\n",
    "    y_temp = np.asarray(beatmap['no_mod']['n_pass'])/np.asarray(beatmap['no_mod']['total'])\n",
    "    y = y_temp[np.logical_not(np.isnan(y_temp))]\n",
    "    x = makeArr(len(y))\n",
    "   \n",
    "    \n",
    "    popt, pcov = curve_fit(logifunc, x, y)\n",
    "    f, ax = plt.subplots(figsize = (14, 12))\n",
    "    plt.title('Fitting logistic function for beatmap %d' %(beatmap_id))\n",
    "    plt.plot(x,y,label = 'original')\n",
    "    plt.plot(x, logifunc(x, *popt), 'r-',label = 'Fitted logistic function')\n",
    "    plt.legend()\n",
    "    \n",
    "    return popt"
   ]
  },
  {
   "cell_type": "code",
   "execution_count": null,
   "metadata": {},
   "outputs": [],
   "source": [
    "print(fit_logistic(104229))"
   ]
  },
  {
   "cell_type": "code",
   "execution_count": null,
   "metadata": {},
   "outputs": [],
   "source": [
    "def fit_algebraic(beatmap_id):\n",
    "   \n",
    "    beatmap = osu_db['beatmap_criteria_curve'].find_one({'_id': beatmap_id})\n",
    "    \n",
    "    def func(x, A, x0 , k, off):\n",
    "        f = A * (k*x - x0)/ (np.sqrt((k*x-x0)**2 + 1)) + off\n",
    "        return f\n",
    "\n",
    "    def makeArr(x):\n",
    "        n = np.arange(0,x)\n",
    "        return n\n",
    "    \n",
    "    x_temp = np.arange(0,98)\n",
    "    y_temp = np.asarray(beatmap['no_mod']['n_pass'])/np.asarray(beatmap['no_mod']['total'])\n",
    "    y = y_temp[np.logical_not(np.isnan(y_temp))]\n",
    "    x = makeArr(len(y))\n",
    "   \n",
    "    return curve_fit(func, x, y)"
   ]
  },
  {
   "cell_type": "code",
   "execution_count": null,
   "metadata": {},
   "outputs": [],
   "source": [
    "popt, pcov = fit_algebraic(104229)\n",
    "f, ax = plt.subplots(figsize = (14, 12))\n",
    "plt.title('Fitting algebraic function for beatmap %d' %(104229))\n",
    "plt.plot(x,y,label = 'original')\n",
    "plt.plot(x, func(x, *popt), 'r-',label = 'Fitted algebraic function')\n",
    "plt.legend()"
   ]
  },
  {
   "cell_type": "code",
   "execution_count": null,
   "metadata": {},
   "outputs": [],
   "source": [
    "def fit_generalized_logistic(beatmap_id):\n",
    "   \n",
    "    beatmap = osu_db['beatmap_criteria_curve'].find_one({'_id': beatmap_id})\n",
    "    \n",
    "    def func(x, A, x0 , k, off, a):\n",
    "        f = A * (1 + np.exp(k*x - x0))**(-a)\n",
    "        return f\n",
    "\n",
    "    def makeArr(x):\n",
    "        n = np.arange(0,x)\n",
    "        return n\n",
    "    \n",
    "    x_temp = np.arange(0,98)\n",
    "    y_temp = np.asarray(beatmap['no_mod']['n_pass'])/np.asarray(beatmap['no_mod']['total'])\n",
    "    y = y_temp[np.logical_not(np.isnan(y_temp))]\n",
    "    x = makeArr(len(y))\n",
    "   \n",
    "    param_bounds=([-np.inf,-np.inf, -np.inf,-np.inf,-np.inf, 0],[np.inf, np.inf,np.inf,np.inf,np.inf,np.inf])\n",
    "    popt, pcov = curve_fit(func, x, y, maxfev = 50000)\n",
    "    f, ax = plt.subplots(figsize = (14, 12))\n",
    "    plt.title('Fitting generalized logistic function for beatmap %d' %(beatmap_id))\n",
    "    plt.plot(x,y,label = 'original')\n",
    "    plt.plot(x, func(x, *popt), 'r-',label = 'Fitted gen. logistic function')\n",
    "    plt.legend()\n",
    "    \n",
    "    return True"
   ]
  },
  {
   "cell_type": "code",
   "execution_count": null,
   "metadata": {},
   "outputs": [],
   "source": [
    "fit_generalized_logistic(104229)"
   ]
  },
  {
   "cell_type": "code",
   "execution_count": null,
   "metadata": {},
   "outputs": [],
   "source": []
  }
 ],
 "metadata": {
  "kernelspec": {
   "display_name": "Python 3",
   "language": "python",
   "name": "python3"
  },
  "language_info": {
   "codemirror_mode": {
    "name": "ipython"
   },
   "file_extension": ".py",
   "mimetype": "text/x-python",
   "name": "python",
   "nbconvert_exporter": "python"
  }
 },
 "nbformat": 4,
 "nbformat_minor": 2
}
