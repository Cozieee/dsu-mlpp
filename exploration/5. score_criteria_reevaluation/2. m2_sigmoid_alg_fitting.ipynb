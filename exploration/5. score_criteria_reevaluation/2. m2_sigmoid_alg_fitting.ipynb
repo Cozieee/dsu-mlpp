{
 "cells": [
  {
   "cell_type": "code",
   "execution_count": null,
   "metadata": {},
   "outputs": [],
   "source": [
    "# NOTES FROM MEETING\n",
    "# No cell should take more than 20 minutes to run\n",
    "# Please limit to one temporary collection (must be deleted at end of notebook). No external files\n",
    "# Try to reduce single-line cells\n",
    "\n",
    "# Mini-competition -\n",
    "# Challenge: Limit to 50 lines of code (75 for team 1)! (excluding imports)\n",
    "# Fit Success Rate: Fitting method with highest fit success rate\n",
    "# Fit Average error: Fitting method with lowest fit error rate\n",
    "# Fit Time complexity: Fitting method with lowest time expended\n",
    "# Notebook housekeeping: Cleanest-looking notebook win!"
   ]
  },
  {
   "cell_type": "markdown",
   "metadata": {},
   "source": [
    "# Sigmoid Criteria Curve Fitting: Algebraic Approach\n",
    "**Contributors:** Justin Kaufman, Marco Scialanga\n",
    "\n",
    "**Achievement:** Curve fitting with scipy. Curves used: x^2 / sqrt(1+x^2) (algebraic) and the generalized logistic function.\n",
    "\n",
    "**Requirements:** \n"
   ]
  },
  {
   "cell_type": "markdown",
   "metadata": {},
   "source": [
    "## Imports\n",
    "**Most important packages:** Pymongo, Scipy, Numpy, Pandas."
   ]
  },
  {
   "cell_type": "code",
   "execution_count": null,
   "metadata": {},
   "outputs": [],
   "source": [
    "# Import packages you need\n",
    "import sys\n",
    "sys.path.append('../..')\n",
    "import numpy as np\n",
    "import matplotlib.pyplot as plt\n",
    "from pymongo import MongoClient\n",
    "import math\n",
    "from scipy.optimize import curve_fit\n",
    "from mlpp.data_modeling.sigmoid_fitting import *\n",
    "from exploration.config import mongo_inst\n",
    "import pandas as pd"
   ]
  },
  {
   "cell_type": "markdown",
   "metadata": {},
   "source": [
    "## Connection with Compass\n",
    "**Dataset:** osu_random_db."
   ]
  },
  {
   "cell_type": "code",
   "execution_count": null,
   "metadata": {},
   "outputs": [],
   "source": [
    "# Instantiate your mongo instance, classes, and any config/global vars\n",
    "client = MongoClient('localhost', 27017)\n",
    "db = client.osu_random_db\n",
    "osu_db = mongo_inst[\"osu_random_db\"]"
   ]
  },
  {
   "cell_type": "markdown",
   "metadata": {},
   "source": [
    "## Loading the Ids\n",
    "**Collection:** beatmap_criteria_curve."
   ]
  },
  {
   "cell_type": "code",
   "execution_count": null,
   "metadata": {},
   "outputs": [],
   "source": [
    "# Load the curve data\n",
    "cursor = db[\"beatmap_criteria_curve\"].find({},{\"_id\":1})\n",
    "l = []\n",
    "for el in cursor:\n",
    "    l.append(el)\n",
    "Ids = list(map(lambda x: x[\"_id\"], l))"
   ]
  },
  {
   "cell_type": "markdown",
   "metadata": {},
   "source": [
    "## Storing New Data\n",
    "**Objective:** store information about our curve fits in the collection."
   ]
  },
  {
   "cell_type": "code",
   "execution_count": null,
   "metadata": {},
   "outputs": [],
   "source": [
    "# Run all CDF curve fits & store in beatmap_criteria_curve collection\n",
    "store_genLog(Ids, db)\n",
    "store_alg(Ids, db)"
   ]
  },
  {
   "cell_type": "markdown",
   "metadata": {},
   "source": [
    "## Create Success Rate Table \n",
    "**Objective:** create tables to compare success rate of curve fits."
   ]
  },
  {
   "cell_type": "code",
   "execution_count": null,
   "metadata": {},
   "outputs": [],
   "source": [
    "# fit success-rate summary table with (3 rows 1 for each CDF fit) (4 columns 1* - 4*, 4* - 6*, 6* plus, all)\n",
    "# will take around 3 minutes to run\n",
    "collection = db[\"osu_beatmaps_attribs_modZero\"]\n",
    "db.attrib_17.insert_many(\n",
    "    collection.aggregate([{'$match':{\"beatmap_id\": {'$in': Ids}, \"attrib_id\": 17}}]))\n",
    "\n",
    "a = fit_lowDiff(db)\n",
    "b = fit_mediumDiff(db)\n",
    "c = fit_highDiff(db)\n",
    "d = fit_all(db)\n",
    "\n",
    "db[\"attrib_17\"].drop()\n",
    "\n",
    "dfSuccess = pd.DataFrame()\n",
    "dfSuccess.insert(0, \"Function\", [\"Generalized Logistic\", \"Algebraic\"])\n",
    "dfSuccess.insert(1, \"SuccessRateLowDiff\", [a[0], a[1]])\n",
    "dfSuccess.insert(2, \"SuccessRateMediumDiff\", [b[0], b[1]])\n",
    "dfSuccess.insert(3, \"SuccessRateHighDiff\", [c[0], c[1]])\n",
    "dfSuccess.insert(4, \"OverallSuccessRate\", [d[0], d[1]])\n",
    "dfSuccess"
   ]
  },
  {
   "cell_type": "markdown",
   "metadata": {},
   "source": [
    "## Create Mean Squared Error Table \n",
    "**Objective:** create tables to compare success mean square error of curve fits."
   ]
  },
  {
   "cell_type": "code",
   "execution_count": null,
   "metadata": {},
   "outputs": [],
   "source": [
    "# for curves that could be fit, error summary table with same layout as above\n",
    "# we already have the data from the cell above, it is now just a matter of building the table\n",
    "dfMse = pd.DataFrame()\n",
    "dfMse.insert(0, \"Function\", [\"Generalized Logistic\", \"Algebraic\"])\n",
    "dfMse.insert(1, \"AverageMseLowDiff\", [a[2], a[3]])\n",
    "dfMse.insert(2, \"AverageMseMediumDiff\", [b[2], b[3]])\n",
    "dfMse.insert(3, \"AverageMseHighDiff\", [c[2], c[3]])\n",
    "dfMse.insert(4, \"OverallAverageMse\", [d[2], d[3]])\n",
    "dfMse"
   ]
  },
  {
   "cell_type": "markdown",
   "metadata": {},
   "source": [
    "## Conclusion\n",
    "The algebraic (alg) function has a much higher success rate than the generalized logistic(genLog), probably because of the fewer parameters. Thus, the slight advantage of the genLog over the algebraic for the mean squared error does not justify using genLog instead of alg. However, the messy nature of the data does not allow us to decide which model would work better with more ideal distributions."
   ]
  }
 ],
 "metadata": {
  "kernelspec": {
   "display_name": "Python 3",
   "language": "python",
   "name": "python3"
  },
  "language_info": {
   "codemirror_mode": {
    "name": "ipython",
    "version": 3
   },
   "file_extension": ".py",
   "mimetype": "text/x-python",
   "name": "python",
   "nbconvert_exporter": "python",
   "pygments_lexer": "ipython3",
   "version": "3.9.1"
  }
 },
 "nbformat": 4,
 "nbformat_minor": 2
}
