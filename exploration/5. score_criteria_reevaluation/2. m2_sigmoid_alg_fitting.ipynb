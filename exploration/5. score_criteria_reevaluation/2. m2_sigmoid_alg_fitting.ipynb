{
 "cells": [
  {
   "cell_type": "code",
   "execution_count": null,
   "metadata": {},
   "outputs": [],
   "source": [
    "# NOTES FROM MEETING\n",
    "# No cell should take more than 20 minutes to run\n",
    "# Please limit to one temporary collection (must be deleted at end of notebook). No external files\n",
    "# Try to reduce single-line cells\n",
    "\n",
    "# Mini-competition -\n",
    "# Challenge: Limit to 50 lines of code (75 for team 1)! (excluding imports)\n",
    "# Fit Success Rate: Fitting method with highest fit success rate\n",
    "# Fit Average error: Fitting method with lowest fit error rate\n",
    "# Fit Time complexity: Fitting method with lowest time expended\n",
    "# Notebook housekeeping: Cleanest-looking notebook win!"
   ]
  },
  {
   "cell_type": "markdown",
   "metadata": {},
   "source": [
    "# Sigmoid Criteria Curve Fitting: Algebraic Approach\n",
    "**Contributors:** Justin Kaufman, Marco Scialanga\n",
    "\n",
    "**Achievement:**\n",
    "\n",
    "**Requirements:**\n"
   ]
  },
  {
   "cell_type": "markdown",
   "metadata": {},
   "source": [
    "## Example of cell markdown\n",
    "**This is a note:** Please have markdown before each cell. In this format!"
   ]
  },
  {
   "cell_type": "code",
   "execution_count": null,
   "metadata": {},
   "outputs": [],
   "source": [
    "# Import packages you need\n",
    "import sys\n",
    "sys.path.append('../..')\n",
    "import numpy as np\n",
    "import matplotlib.pyplot as plt\n",
    "from pymongo import MongoClient\n",
    "import math\n",
    "from scipy.optimize import curve_fit\n",
    "from exploration.config import mongo_inst\n",
    "import pandas as pd"
   ]
  },
  {
   "cell_type": "code",
   "execution_count": null,
   "metadata": {},
   "outputs": [],
   "source": [
    "# Instantiate your mongo instance, classes, and any config/global vars\n",
    "client = MongoClient('localhost', 27017)\n",
    "db = client.osu_random_db\n",
    "osu_db = mongo_inst[\"osu_random_db\"]\n",
    "collection = db[\"beatmap_criteria_curve\"]"
   ]
  },
  {
   "cell_type": "code",
   "execution_count": null,
   "metadata": {},
   "outputs": [],
   "source": [
    "# Load the curve data\n",
    "cursor = collection.find({},{\"_id\":1})\n",
    "l = []\n",
    "for el in cursor:\n",
    "    l.append(el)\n",
    "\n",
    "Ids = list(map(lambda x: x[\"_id\"], l))"
   ]
  },
  {
   "cell_type": "code",
   "execution_count": null,
   "metadata": {},
   "outputs": [],
   "source": [
    "# Run all CDF curve fits & store in beatmap_criteria_curve collection\n",
    "# doesn't work yet\n",
    "\n",
    "cursor = collection.find({},{\"_id\":1})\n",
    "l = []\n",
    "\n",
    "for el in cursor:\n",
    "    l.append(el)\n",
    "\n",
    "Ids = list(map(lambda x: x[\"_id\"], l))\n",
    "Ids.remove(1772922) #for some reason this one doesn't work\n",
    "\n",
    "for el in Ids: \n",
    "    if fit_genLog(el):\n",
    "        success = True\n",
    "    else: success = False\n",
    "    \n",
    "    db.collection.update_one( \n",
    "        {\"_id\" : el},\n",
    "        {\"$set\": {\"no_mod.mlpp.genLogistic.success\" : success,\n",
    "                  \"no_mod.mlpp.genLogistic.params\" : fit_genLog(el),\n",
    "                  \"no_mod.mlpp.genLogistic.mse\" : mse_genLog(el)}})\n",
    "\n",
    "for el in Ids: \n",
    "    if fit_alg(el):\n",
    "        success = True\n",
    "    else: success = False\n",
    "    \n",
    "    db.collection.update_one( \n",
    "        {\"_id\" : el},\n",
    "        {\"$set\": {\"no_mod.mlpp.alegbraic.success\" : success,\n",
    "                  \"no_mod.mlpp.algebraic.params\" : fit_alg(el),\n",
    "                  \"no_mod.mlpp.algebraic.mse\" : mse_alg(el)}})"
   ]
  },
  {
   "cell_type": "code",
   "execution_count": null,
   "metadata": {},
   "outputs": [],
   "source": [
    "# fit success-rate summary table with (3 rows 1 for each CDF fit) (4 columns 1* - 4*, 4* - 6*, 6* plus, all)"
   ]
  },
  {
   "cell_type": "code",
   "execution_count": null,
   "metadata": {},
   "outputs": [],
   "source": [
    "# for curves that could be fit, error summary table with same layout as above"
   ]
  },
  {
   "cell_type": "markdown",
   "metadata": {},
   "source": [
    "## Conclusion\n",
    "Don't forget to provide a conclusion"
   ]
  },
  {
   "cell_type": "code",
   "execution_count": null,
   "metadata": {},
   "outputs": [],
   "source": [
    "def makeArr(x):\n",
    "    n=np.arange(0,x)\n",
    "    return n"
   ]
  },
  {
   "cell_type": "code",
   "execution_count": null,
   "metadata": {},
   "outputs": [],
   "source": [
    "def algFunc(x, A, x0, k, off):\n",
    "    f = A * (k*x - x0)/ (np.sqrt((k*x-x0)**2 + 1)) + off\n",
    "    return f\n",
    "\n",
    "def genLogFunc(x, A, x0, k, off, a):\n",
    "    f = A * (1 + np.exp(k*x - x0))**(-a) + off\n",
    "    return f"
   ]
  },
  {
   "cell_type": "code",
   "execution_count": null,
   "metadata": {},
   "outputs": [],
   "source": [
    "def get_x_and_y(beatmap_id):\n",
    "    \n",
    "    beatmap = osu_db['beatmap_criteria_curve'].find_one({'_id': beatmap_id})\n",
    "    \n",
    "    x_temp = np.arange(0,98)\n",
    "    y_temp = np.asarray(beatmap['no_mod']['n_pass'])/np.asarray(beatmap['no_mod']['total'])\n",
    "    y = y_temp[np.logical_not(np.isnan(y_temp))]\n",
    "    x = makeArr(len(y))\n",
    "   \n",
    "    return x,y"
   ]
  },
  {
   "cell_type": "code",
   "execution_count": null,
   "metadata": {},
   "outputs": [],
   "source": [
    "def fit_alg(beatmap_id):\n",
    "    while True:\n",
    "        try:\n",
    "            x = get_x_and_y(beatmap_id)[0]\n",
    "            y = get_x_and_y(beatmap_id)[1]\n",
    "            popt, pcov = curve_fit(algFunc, x, y, maxfev = 1000)\n",
    "            popt=list(popt)\n",
    "            return popt\n",
    "        except RuntimeError:\n",
    "            return None\n",
    "        except TypeError:\n",
    "            return None\n",
    "    \n",
    "def fit_genLog(beatmap_id):\n",
    "    while True:\n",
    "        try:\n",
    "            x = get_x_and_y(beatmap_id)[0]\n",
    "            y = get_x_and_y(beatmap_id)[1]\n",
    "            popt, pcov = curve_fit(genLogFunc, x, y, maxfev = 1000)\n",
    "            popt=list(popt)\n",
    "            return popt\n",
    "        except RuntimeError:\n",
    "            return None\n",
    "        except TypeError:\n",
    "            return None"
   ]
  },
  {
   "cell_type": "code",
   "execution_count": null,
   "metadata": {},
   "outputs": [],
   "source": [
    "def plot_fit_alg(popt, beatmap_id):\n",
    "    \n",
    "    x = get_x_and_y(beatmap_id)[0]\n",
    "    y = get_x_and_y(beatmap_id)[1]\n",
    "    \n",
    "    f, ax = plt.subplots(figsize = (14, 12))\n",
    "    plt.title('Fitting algebraic function for beatmap %d' %(beatmap_id))\n",
    "    plt.plot(x,y,label = 'original')\n",
    "    plt.plot(x, algFunc(x, *popt), 'r-',label = 'Fitted logistic function')\n",
    "    plt.legend()\n",
    "    \n",
    "def plot_fit_genLog(popt, beatmap_id):\n",
    "    \n",
    "    x = get_x_and_y(beatmap_id)[0]\n",
    "    y = get_x_and_y(beatmap_id)[1]\n",
    "    \n",
    "    f, ax = plt.subplots(figsize = (14, 12))\n",
    "    plt.title('Fitting generalized logistic function for beatmap %d' %(beatmap_id))\n",
    "    plt.plot(x,y,label = 'original')\n",
    "    plt.plot(x, genLogFunc(x, *popt), 'r-',label = 'Fitted logistic function')\n",
    "    plt.legend()"
   ]
  },
  {
   "cell_type": "code",
   "execution_count": null,
   "metadata": {},
   "outputs": [],
   "source": [
    "def mse_alg(beatmap_id):\n",
    "    while True:\n",
    "        try:\n",
    "            x = get_x_and_y(beatmap_id)[0]\n",
    "            y = get_x_and_y(beatmap_id)[1]\n",
    "            popt, pcov = curve_fit(algFunc, x, y, maxfev = 1000)\n",
    "            mse = np.mean((y-algFunc(x, *popt))**2)\n",
    "            return mse\n",
    "        except RuntimeError:\n",
    "            return None\n",
    "        except TypeError:\n",
    "            return None\n",
    "\n",
    "def mse_genLog(beatmap_id):\n",
    "    while True:\n",
    "        try:\n",
    "            x = get_x_and_y(beatmap_id)[0]\n",
    "            y = get_x_and_y(beatmap_id)[1]\n",
    "            popt, pcov = curve_fit(genLogFunc, x, y, maxfev = 1000)\n",
    "            mse = np.mean((y-genLogFunc(x, *popt))**2)\n",
    "            return mse\n",
    "        except RuntimeError:\n",
    "            return None\n",
    "        except TypeError:\n",
    "            return None"
   ]
  },
  {
   "cell_type": "code",
   "execution_count": null,
   "metadata": {},
   "outputs": [],
   "source": [
    "# You can run any of the following\n",
    "\n",
    "#popt = fit_alg(104229)\n",
    "#plot_fit_alg(popt, 104229)\n",
    "\n",
    "#popt = fit_genLog(104229)\n",
    "#plot_fit_genLog(popt, 104229)"
   ]
  },
  {
   "cell_type": "code",
   "execution_count": null,
   "metadata": {},
   "outputs": [],
   "source": [
    "beatmap_id = 104229\n",
    "f, ax = plt.subplots(figsize = (14, 12))\n",
    "\n",
    "x = get_x_and_y(beatmap_id)[0]\n",
    "y = get_x_and_y(beatmap_id)[1]\n",
    "\n",
    "popt = fit_alg(beatmap_id)\n",
    "plt.plot(x, algFunc(x, *popt), label = 'Fitted algebraic function')\n",
    "\n",
    "popt = fit_genLog(beatmap_id)\n",
    "plt.plot(x, genLogFunc(x, *popt), label = 'Fitted generalised logistic function')\n",
    "\n",
    "plt.plot(x,y,label = 'original')\n",
    "plt.title('Fitting functions for beatmap %d' %(beatmap_id))\n",
    "plt.legend()"
   ]
  },
  {
   "cell_type": "code",
   "execution_count": null,
   "metadata": {},
   "outputs": [],
   "source": [
    "def genLogSuccess(idList):\n",
    "    success = 0\n",
    "    for el in idList:\n",
    "        if fit_genLog(el):\n",
    "            success += 1\n",
    "    success_rate = success / len(idList)\n",
    "    return success_rate\n",
    "\n",
    "def algSuccess(idList):\n",
    "    success = 0\n",
    "    for el in idList:\n",
    "        if fit_alg(el):\n",
    "            success += 1\n",
    "    success_rate = success / len(idList)\n",
    "    return success_rate"
   ]
  },
  {
   "cell_type": "code",
   "execution_count": null,
   "metadata": {},
   "outputs": [],
   "source": [
    "def genLogAverageMse(idList):\n",
    "    totalMse = 0\n",
    "    success = 0\n",
    "    for el in idList:\n",
    "        if mse_genLog(el):\n",
    "            totalMse += mse_genLog(el)\n",
    "            success += 1\n",
    "    avgMse = totalMse / success\n",
    "    return avgMse\n",
    "\n",
    "def algAverageMse(idList):\n",
    "    totalMse = 0\n",
    "    success = 0\n",
    "    for el in idList:\n",
    "        if mse_alg(el):\n",
    "            totalMse += mse_alg(el)\n",
    "            success += 1\n",
    "    avgMse = totalMse / success\n",
    "    return avgMse"
   ]
  },
  {
   "cell_type": "code",
   "execution_count": null,
   "metadata": {},
   "outputs": [],
   "source": [
    "genLogSuccessAll = genLogSuccess(Ids)\n",
    "algSuccessAll = algSuccess(Ids)\n",
    "genLogAverageMseAll = genLogAverageMse(Ids)\n",
    "algAverageMseAll = algAverageMse(Ids)"
   ]
  },
  {
   "cell_type": "code",
   "execution_count": null,
   "metadata": {},
   "outputs": [],
   "source": [
    "# get star difficulty collection\n",
    "collection = db[\"osu_beatmaps_attribs_modZero\"]\n",
    "db.attrib_17.insert_many(\n",
    "    collection.aggregate([\n",
    "    {'$match':{\n",
    "    \"beatmap_id\": {\n",
    "        '$in': Ids\n",
    "    },\n",
    "    \"attrib_id\": 17,\n",
    "    } \n",
    "    }\n",
    "])\n",
    "    )"
   ]
  },
  {
   "cell_type": "code",
   "execution_count": null,
   "metadata": {},
   "outputs": [],
   "source": [
    "collection = db[\"attrib_17\"]\n",
    "cursor = db.attrib_17.aggregate([\n",
    "    {\"$match\" : {\"value\" : {\"$gte\" : 1, \"$lt\": 4}}},\n",
    "    {\"$project\" : {\"beatmap_id\" : \"$beatmap_id\"}}\n",
    "])\n",
    "l = list(cursor)\n",
    "lowIds = list(map(lambda x: x[\"beatmap_id\"], l))\n",
    "\n",
    "genLogSuccessLow = genLogSuccess(lowIds)\n",
    "algSuccessLow = algSuccess(lowIds)\n",
    "genLogAverageMseLow = genLogAverageMse(lowIds)\n",
    "algAverageMseLow = algAverageMse(lowIds)"
   ]
  },
  {
   "cell_type": "code",
   "execution_count": null,
   "metadata": {},
   "outputs": [],
   "source": [
    "cursor = db.attrib_17.aggregate([\n",
    "    {\"$match\" : {\"value\" : {\"$gte\" : 4, \"$lt\": 6}}},\n",
    "    {\"$project\" : {\"beatmap_id\" : \"$beatmap_id\"}}\n",
    "])\n",
    "l = list(cursor)\n",
    "mediumIds = list(map(lambda x: x[\"beatmap_id\"], l))\n",
    "\n",
    "genLogSuccessMedium = genLogSuccess(mediumIds)\n",
    "algSuccessMedium = algSuccess(mediumIds)\n",
    "genLogAverageMseMedium = genLogAverageMse(mediumIds)\n",
    "algAverageMseMedium = algAverageMse(mediumIds)"
   ]
  },
  {
   "cell_type": "code",
   "execution_count": null,
   "metadata": {},
   "outputs": [],
   "source": [
    "cursor = db.attrib_17.aggregate([\n",
    "    {\"$match\" : {\"value\" : {\"$gte\" : 6}}},\n",
    "    {\"$project\" : {\"beatmap_id\" : \"$beatmap_id\"}}\n",
    "])\n",
    "\n",
    "l = list(cursor)\n",
    "highIds = list(map(lambda x: x[\"beatmap_id\"], l))\n",
    "genLogSuccessHigh = genLogSuccess(highIds)\n",
    "algSuccessHigh = algSuccess(highIds)\n",
    "genLogAverageMseHigh = genLogAverageMse(highIds)\n",
    "algAverageMseHigh = algAverageMse(highIds)"
   ]
  },
  {
   "cell_type": "code",
   "execution_count": null,
   "metadata": {},
   "outputs": [],
   "source": [
    "dfSuccess = pd.DataFrame()\n",
    "dfSuccess.insert(0, \"Function\", [\"Generalized Logistic\", \"Algebraic\"])\n",
    "dfSuccess.insert(1, \"SuccessRateLowDiff\", [genLogSuccessLow, algSuccessLow])\n",
    "dfSuccess.insert(2, \"SuccessRateMediumDiff\", [genLogSuccessMedium, algSuccessMedium])\n",
    "dfSuccess.insert(3, \"SuccessRateHighDiff\", [genLogSuccessHigh, algSuccessHigh])\n",
    "dfSuccess.insert(4, \"OverallSuccessRate\", [genLogSuccessAll, algSuccessAll])\n",
    "dfSuccess"
   ]
  },
  {
   "cell_type": "code",
   "execution_count": null,
   "metadata": {},
   "outputs": [],
   "source": [
    "dfMse = pd.DataFrame()\n",
    "dfMse.insert(0, \"Function\", [\"Generalized Logistic\", \"Algebraic\"])\n",
    "dfMse.insert(1, \"AverageMseLowDiff\", [genLogAverageMseLow, algAverageMseLow])\n",
    "dfMse.insert(2, \"AverageMseMediumDiff\", [genLogAverageMseMedium, algAverageMseMedium])\n",
    "dfMse.insert(3, \"AverageMseHighDiff\", [genLogAverageMseHigh, algAverageMseHigh])\n",
    "dfMse.insert(4, \"OverallAverageMse\", [genLogAverageMseAll, algAverageMseAll])\n",
    "dfMse"
   ]
  },
  {
   "cell_type": "code",
   "execution_count": null,
   "metadata": {},
   "outputs": [],
   "source": [
    "collection.drop()"
   ]
  },
  {
   "cell_type": "code",
   "execution_count": null,
   "metadata": {},
   "outputs": [],
   "source": []
  }
 ],
 "metadata": {
  "kernelspec": {
   "display_name": "Python 3",
   "language": "python",
   "name": "python3"
  },
  "language_info": {
   "codemirror_mode": {
    "name": "ipython"
   },
   "file_extension": ".py",
   "mimetype": "text/x-python",
   "name": "python",
   "nbconvert_exporter": "python"
  }
 },
 "nbformat": 4,
 "nbformat_minor": 2
}
