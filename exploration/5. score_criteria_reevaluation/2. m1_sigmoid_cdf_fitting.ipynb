{
 "cells": [
  {
   "cell_type": "code",
   "execution_count": null,
   "metadata": {},
   "outputs": [],
   "source": [
    "# NOTES FROM MEETING\n",
    "# No cell should take more than 20 minutes to run\n",
    "# Please limit to one temporary collection (must be deleted at end of notebook). No external files\n",
    "# Try to reduce single-line cells\n",
    "\n",
    "# Mini-competition -\n",
    "# Challenge: Limit to 75 lines of code (100 for team 1)! (excluding imports)\n",
    "# Fit Success Rate: Fitting method with highest fit success rate\n",
    "# Fit Average error: Fitting method with lowest fit error rate\n",
    "# Fit Time complexity: Fitting method with lowest time expended\n",
    "# Notebook housekeeping: Cleanest-looking notebook win!"
   ]
  },
  {
   "cell_type": "markdown",
   "metadata": {},
   "source": [
    "# Sigmoid Criteria Curve Fitting: CDF Approach\n",
    "**Contributors:** \n",
    "\n",
    "**Achievement:**\n",
    "\n",
    "**Requirements:**\n"
   ]
  },
  {
   "cell_type": "markdown",
   "metadata": {},
   "source": [
    "## Example of cell markdown\n",
    "**This is a note:** Please have markdown before each cell. In this format!"
   ]
  },
  {
   "cell_type": "code",
   "execution_count": null,
   "metadata": {},
   "outputs": [],
   "source": [
    "# Import packages you need\n",
    "import sys\n",
    "sys.path.append('../..')\n",
    "from pymongo import UpdateOne\n",
    "from pymongo import MongoClient\n",
    "from tqdm import tqdm\n",
    "from exploration.config import mongo_inst\n",
    "import matplotlib.pyplot as plt\n",
    "import numpy as np\n",
    "from scipy.stats import norm \n",
    "import scipy\n",
    "import seaborn as sns\n",
    "from scipy.optimize import curve_fit\n",
    "from mlpp.data_modeling.sigmoid_fitting import fit_normal_cdf"
   ]
  },
  {
   "cell_type": "code",
   "execution_count": null,
   "metadata": {},
   "outputs": [],
   "source": [
    "# Instantiate your mongo instance, classes, and any config/global vars\n",
    "client = MongoClient(port=27017)\n",
    "db = client.osu_random_db\n",
    "bm_ids = list(map(lambda c: c['_id'], db['beatmap_criteria_curve'].find({}, {})))"
   ]
  },
  {
   "cell_type": "code",
   "execution_count": null,
   "metadata": {},
   "outputs": [],
   "source": [
    "bm_data = {}\n",
    "for i in bm_ids:\n",
    "    bm_data[i] = list(db['beatmap_criteria_curve'].find({\"_id\": i}, {\"_id\": 0, \"no_mod.total\": 1, \"no_mod.n_pass\": 1}))"
   ]
  },
  {
   "cell_type": "code",
   "execution_count": null,
   "metadata": {},
   "outputs": [],
   "source": [
    "# find a good user\n",
    "first_bm_total = bm_data[104229][0][\"no_mod\"][\"total\"]\n",
    "first_bm_n_pass = bm_data[104229][0][\"no_mod\"][\"n_pass\"]"
   ]
  },
  {
   "cell_type": "code",
   "execution_count": null,
   "metadata": {},
   "outputs": [],
   "source": [
    "ind_good = []\n",
    "k = 0\n",
    "for total in first_bm_total: \n",
    "    if (total != 0):\n",
    "        ind_good.append(k)\n",
    "    k = k + 1"
   ]
  },
  {
   "cell_type": "code",
   "execution_count": null,
   "metadata": {},
   "outputs": [],
   "source": [
    "first_bm_good_total = [first_bm_total[i] for i in ind_good]\n",
    "first_bm_good_npass = [first_bm_n_pass[i] for i in ind_good]"
   ]
  },
  {
   "cell_type": "code",
   "execution_count": null,
   "metadata": {},
   "outputs": [],
   "source": [
    "x = range(len(first_bm_good_total))\n",
    "y = np.asarray(first_bm_good_npass) / np.asarray(first_bm_good_total)"
   ]
  },
  {
   "cell_type": "code",
   "execution_count": null,
   "metadata": {},
   "outputs": [],
   "source": [
    "def helper_take_out_zero(bm_total):\n",
    "    good_index = []\n",
    "    k = 0\n",
    "    for total in bm_total: \n",
    "        if (total != 0):\n",
    "            good_index.append(k)\n",
    "        k = k + 1\n",
    "    bm_good_total = [bm_total[i] for i in good_index]\n",
    "    return bm_good_total\n",
    "len(helper_take_out_zero(first_bm_total))\n",
    "\n"
   ]
  },
  {
   "cell_type": "code",
   "execution_count": null,
   "metadata": {},
   "outputs": [],
   "source": [
    "n = len(first_bm_good_total)\n",
    "x = range(0, n) \n",
    "f = lambda x, mu, sigma: scipy.stats.norm(mu,sigma).cdf(x)\n",
    "\n",
    "mu, sigma = scipy.optimize.curve_fit(f, x, y)[0]\n",
    "\n",
    "# plt.scatter(x, y)\n",
    "\n",
    "total = 0\n",
    "for i in x:\n",
    "    error = (y[i] - scipy.stats.norm(mu,sigma).cdf(i))**2\n",
    "    total += error\n",
    "print(total / n)\n",
    "    \n",
    "\n",
    "# scipy.stats.norm(mu,sigma).cdf(x)\n",
    "# scipy.optimize.curve_fit(f,x,y)"
   ]
  },
  {
   "cell_type": "code",
   "execution_count": null,
   "metadata": {},
   "outputs": [],
   "source": [
    "fit_normal_cdf(first_bm_total, y)"
   ]
  },
  {
   "cell_type": "code",
   "execution_count": null,
   "metadata": {},
   "outputs": [],
   "source": [
    "# Load the curve data"
   ]
  },
  {
   "cell_type": "code",
   "execution_count": null,
   "metadata": {},
   "outputs": [],
   "source": [
    "# Run all CDF curve fits & store in beatmap_criteria_curve collection"
   ]
  },
  {
   "cell_type": "code",
   "execution_count": null,
   "metadata": {},
   "outputs": [],
   "source": [
    "# Load the beatmap attribs data"
   ]
  },
  {
   "cell_type": "code",
   "execution_count": null,
   "metadata": {},
   "outputs": [],
   "source": [
    "# Visualisations of correlation between CDF mean/std with attribs"
   ]
  },
  {
   "cell_type": "code",
   "execution_count": null,
   "metadata": {},
   "outputs": [],
   "source": [
    "# fit success-rate summary table with (3 rows 1 for each CDF fit) (4 columns 1* - 4*, 4* - 6*, 6* plus, all)"
   ]
  },
  {
   "cell_type": "code",
   "execution_count": null,
   "metadata": {},
   "outputs": [],
   "source": [
    "# for curves that could be fit, error summary table with same layout as above"
   ]
  },
  {
   "cell_type": "markdown",
   "metadata": {},
   "source": [
    "## Conclusion\n",
    "Don't forget to provide a conclusion"
   ]
  }
 ],
 "metadata": {
  "kernelspec": {
   "display_name": "Python 3",
   "language": "python",
   "name": "python3"
  },
  "language_info": {
   "codemirror_mode": {
    "name": "ipython"
   },
   "file_extension": ".py",
   "mimetype": "text/x-python",
   "name": "python",
   "nbconvert_exporter": "python"
  }
 },
 "nbformat": 4,
 "nbformat_minor": 2
}
