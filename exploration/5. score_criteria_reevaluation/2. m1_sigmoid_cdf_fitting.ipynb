{
 "cells": [
  {
   "cell_type": "code",
   "execution_count": 1,
   "metadata": {},
   "outputs": [],
   "source": [
    "# NOTES FROM MEETING\n",
    "# No cell should take more than 20 minutes to run\n",
    "# Please limit to one temporary collection (must be deleted at end of notebook). No external files\n",
    "# Try to reduce single-line cells\n",
    "\n",
    "# Mini-competition -\n",
    "# Challenge: Limit to 75 lines of code (100 for team 1)! (excluding imports)\n",
    "# Fit Success Rate: Fitting method with highest fit success rate\n",
    "# Fit Average error: Fitting method with lowest fit error rate\n",
    "# Fit Time complexity: Fitting method with lowest time expended\n",
    "# Notebook housekeeping: Cleanest-looking notebook win!"
   ]
  },
  {
   "cell_type": "markdown",
   "metadata": {},
   "source": [
    "# Sigmoid Criteria Curve Fitting: CDF Approach\n",
    "**Contributors:** Karen Nguyen, Sophie Yun, Emily Gong\n",
    "\n",
    "**Achievement:** \n",
    "\n",
    "**Requirements:**\n"
   ]
  },
  {
   "cell_type": "markdown",
   "metadata": {},
   "source": [
    "## Import packages \n",
    "**This is a note:** Please have markdown before each cell. In this format!"
   ]
  },
  {
   "cell_type": "code",
   "execution_count": 31,
   "metadata": {},
   "outputs": [],
   "source": [
    "import sys\n",
    "sys.path.append('../..')\n",
    "from pymongo import UpdateOne\n",
    "from pymongo import MongoClient\n",
    "from tqdm import tqdm\n",
    "import matplotlib.pyplot as plt\n",
    "import numpy as np\n",
    "import scipy\n",
    "from scipy.stats import norm \n",
    "from scipy.optimize import curve_fit\n",
    "import seaborn as sns\n",
    "from scipy.stats import t\n",
    "from mlpp.data_modeling.sigmoid_fitting import *\n",
    "import pandas as pd"
   ]
  },
  {
   "cell_type": "markdown",
   "metadata": {},
   "source": [
    "## Instantiate mongo instance, classes, and any config/global vars"
   ]
  },
  {
   "cell_type": "code",
   "execution_count": 42,
   "metadata": {},
   "outputs": [],
   "source": [
    "client = MongoClient(port=27017)\n",
    "db = client.osu_random_db\n",
    "bm_ids = list(map(lambda c: c['_id'], db['beatmap_criteria_curve'].find({}, {})))"
   ]
  },
  {
   "cell_type": "markdown",
   "metadata": {},
   "source": [
    "## Load the curve data\n",
    "**Note:** Get total and n_pass under no_mod for all beatmaps"
   ]
  },
  {
   "cell_type": "code",
   "execution_count": 43,
   "metadata": {},
   "outputs": [],
   "source": [
    "bm_data = {}\n",
    "for i in bm_ids:\n",
    "    bm_data[i] = list(db['beatmap_criteria_curve'].find({\"_id\": i}, {\"_id\": 0, \"no_mod.total\": 1, \"no_mod.n_pass\": 1}))"
   ]
  },
  {
   "cell_type": "markdown",
   "metadata": {},
   "source": [
    "**Note:** Calculate the n_pass/total for each user with total = 0 removed"
   ]
  },
  {
   "cell_type": "code",
   "execution_count": 44,
   "metadata": {},
   "outputs": [],
   "source": [
    "def find_nPassOverTotal_for_one_beatmap (bm):\n",
    "    bm_total_nPass = list (zip (bm_data[bm][0][\"no_mod\"][\"total\"], bm_data[bm][0][\"no_mod\"][\"n_pass\"]))\n",
    "    bm_total_nPass_noZero = [total_nPass for total_nPass in bm_total_nPass if total_nPass[0] != 0]\n",
    "    y = np.asarray(list(zip(*bm_total_nPass_noZero))[1]) / np.asarray(list(zip(*bm_total_nPass_noZero))[0])\n",
    "    return y\n",
    "bm_ys = {}\n",
    "for i in bm_ids:\n",
    "    bm_ys[i] = find_nPassOverTotal_for_one_beatmap (i)"
   ]
  },
  {
   "cell_type": "markdown",
   "metadata": {},
   "source": [
    "## Run all Normal CDF curve fits and store in a collection"
   ]
  },
  {
   "cell_type": "code",
   "execution_count": 45,
   "metadata": {
    "scrolled": true
   },
   "outputs": [],
   "source": [
    "fitted_curves_with_errors = {}\n",
    "\n",
    "for i in bm_ys.keys():\n",
    "    fitted_curves_with_errors[i] = fit_normal_cdf(bm_ys[i])"
   ]
  },
  {
   "cell_type": "code",
   "execution_count": 46,
   "metadata": {
    "scrolled": false
   },
   "outputs": [
    {
     "data": {
      "text/plain": [
       "[Text(0, 0.5, 'nPass/total')]"
      ]
     },
     "execution_count": 46,
     "metadata": {},
     "output_type": "execute_result"
    },
    {
     "data": {
      "image/png": "[encoded data removed]",
      "text/plain": [
       "<Figure size 1080x360 with 2 Axes>"
      ]
     },
     "metadata": {
      "needs_background": "light"
     },
     "output_type": "display_data"
    }
   ],
   "source": [
    "# visualization example beatmaps\n",
    "good = 713935\n",
    "fig, (ax1, ax2) = plt.subplots(1, 2, figsize=(15, 5))\n",
    "fig.suptitle('Example of Norm CDF Fits with Low Error Rate VS High Error Rate')\n",
    "x1 = range(len(find_nPassOverTotal_for_one_beatmap(good)))\n",
    "y1 = find_nPassOverTotal_for_one_beatmap(good)\n",
    "ax1.plot(scipy.stats.norm(find_nPassOverTotal_for_one_beatmap(good)[0]).cdf(x1))\n",
    "ax1.scatter(x1, y1, color = \"orange\")\n",
    "ax1.set(ylabel = \"nPass/total\")\n",
    "\n",
    "bad = 848233\n",
    "x2 = range(len(find_nPassOverTotal_for_one_beatmap(bad)))\n",
    "y2 = find_nPassOverTotal_for_one_beatmap(bad)\n",
    "ax2.plot(scipy.stats.norm(find_nPassOverTotal_for_one_beatmap(bad)[0]).cdf(x2))\n",
    "ax2.scatter(x2, y2, color = \"orange\")\n",
    "ax2.set(ylabel = \"nPass/total\")"
   ]
  },
  {
   "cell_type": "code",
   "execution_count": 68,
   "metadata": {
    "scrolled": true
   },
   "outputs": [
    {
     "name": "stdout",
     "output_type": "stream",
     "text": [
      "success rate for all is: 0.9996666666666667\n",
      "average mse for all is: 0.03714103365330562\n"
     ]
    }
   ],
   "source": [
    "unsuccessful_bm = {id: fitAndMse for (id, fitAndMse) in fitted_curves_with_errors.items() if isinstance(fitAndMse, str)}\n",
    "n = len(fitted_curves_with_errors)\n",
    "success_rate = (n - len(unsuccessful_bm))/n\n",
    "avg_mse = np.mean([fitAndMse[1] for (id, fitAndMse) in fitted_curves_with_errors.items() if isinstance(fitAndMse[1], float)])\n",
    "print(\"success rate for all is:\", success_rate)\n",
    "print(\"average mse for all is:\", avg_mse)"
   ]
  },
  {
   "cell_type": "code",
   "execution_count": 57,
   "metadata": {},
   "outputs": [],
   "source": [
    "for el in bm_ids: \n",
    "    success = False if el in unsuccessful_bm.keys() else True\n",
    "    mean = None if el in unsuccessful_bm.keys() else fitted_curves_with_errors[el][0][0]\n",
    "    sd = None if el in unsuccessful_bm.keys() else fitted_curves_with_errors[el][0][1]\n",
    "    mse = None if el in unsuccessful_bm.keys() else fitted_curves_with_errors[el][1]\n",
    "    \n",
    "    db.beatmap_criteria_curve.update_one( \n",
    "        {\"_id\" : el},\n",
    "        {\"$set\": {\"no_mod.mlpp.normalCDF.success\" : success,\n",
    "                  \"no_mod.mlpp.normalCDF.params.mean\" : mean,\n",
    "                  \"no_mod.mlpp.normalCDF.params.sd\" : sd,\n",
    "                  \"no_mod.mlpp.normalCDF.mse\" : mse}}\n",
    "    )"
   ]
  },
  {
   "cell_type": "markdown",
   "metadata": {},
   "source": [
    "## Load the beatmap attribs data"
   ]
  },
  {
   "cell_type": "code",
   "execution_count": 48,
   "metadata": {},
   "outputs": [],
   "source": [
    "bm_attribs_data = {}\n",
    "for i in bm_ids:\n",
    "    bm_attribs_data[i] = list(db['osu_beatmap_attribs'].find({\"beatmap_id\": i, \"mods\": 0, \"attrib_id\":17}, {\"_id\": 0, \"value\": 1}))"
   ]
  },
  {
   "cell_type": "markdown",
   "metadata": {},
   "source": [
    "## Dataframe of Correlation between CDF mean/std with attribs\n",
    "**Note:** Each beatmap maps the same mean, sd, mse mapped to its different attrib_ids"
   ]
  },
  {
   "cell_type": "code",
   "execution_count": 50,
   "metadata": {},
   "outputs": [],
   "source": [
    "# creating a dataframe with rows as bm_ids and columns as mean, std, mse, and star difficulties\n",
    "attrib_array = []\n",
    "mean_array = []\n",
    "sd_array = []\n",
    "mse_array = []\n",
    "successful_ids = [bm for bm in bm_ids if bm not in unsuccessful_bm.keys()]\n",
    "for bm in successful_ids:\n",
    "    attrib_array.append(bm_attribs_data[bm][0][\"value\"])\n",
    "    mean_array.append(fitted_curves_with_errors[bm][0][0]) \n",
    "    sd_array.append(fitted_curves_with_errors[bm][0][1]) \n",
    "    mse_array.append(fitted_curves_with_errors[bm][1])"
   ]
  },
  {
   "cell_type": "code",
   "execution_count": 52,
   "metadata": {},
   "outputs": [
    {
     "data": {
      "text/html": [
       "<div>\n",
       "<style scoped>\n",
       "    .dataframe tbody tr th:only-of-type {\n",
       "        vertical-align: middle;\n",
       "    }\n",
       "\n",
       "    .dataframe tbody tr th {\n",
       "        vertical-align: top;\n",
       "    }\n",
       "\n",
       "    .dataframe thead th {\n",
       "        text-align: right;\n",
       "    }\n",
       "</style>\n",
       "<table border=\"1\" class=\"dataframe\">\n",
       "  <thead>\n",
       "    <tr style=\"text-align: right;\">\n",
       "      <th></th>\n",
       "      <th>Successful_ids</th>\n",
       "      <th>Star_difficulties</th>\n",
       "      <th>Mean</th>\n",
       "      <th>Sd</th>\n",
       "      <th>MSE</th>\n",
       "    </tr>\n",
       "  </thead>\n",
       "  <tbody>\n",
       "    <tr>\n",
       "      <th>0</th>\n",
       "      <td>315550</td>\n",
       "      <td>1.71815</td>\n",
       "      <td>0.019015</td>\n",
       "      <td>0.608820</td>\n",
       "      <td>0.136021</td>\n",
       "    </tr>\n",
       "    <tr>\n",
       "      <th>1</th>\n",
       "      <td>453359</td>\n",
       "      <td>1.75883</td>\n",
       "      <td>0.179988</td>\n",
       "      <td>0.661276</td>\n",
       "      <td>0.047169</td>\n",
       "    </tr>\n",
       "    <tr>\n",
       "      <th>2</th>\n",
       "      <td>315553</td>\n",
       "      <td>1.98731</td>\n",
       "      <td>0.191851</td>\n",
       "      <td>0.646722</td>\n",
       "      <td>0.019471</td>\n",
       "    </tr>\n",
       "    <tr>\n",
       "      <th>3</th>\n",
       "      <td>1036654</td>\n",
       "      <td>1.62921</td>\n",
       "      <td>-0.021693</td>\n",
       "      <td>0.544115</td>\n",
       "      <td>0.012222</td>\n",
       "    </tr>\n",
       "    <tr>\n",
       "      <th>4</th>\n",
       "      <td>351190</td>\n",
       "      <td>1.84494</td>\n",
       "      <td>-0.016056</td>\n",
       "      <td>0.550648</td>\n",
       "      <td>0.045571</td>\n",
       "    </tr>\n",
       "    <tr>\n",
       "      <th>...</th>\n",
       "      <td>...</td>\n",
       "      <td>...</td>\n",
       "      <td>...</td>\n",
       "      <td>...</td>\n",
       "      <td>...</td>\n",
       "    </tr>\n",
       "    <tr>\n",
       "      <th>2994</th>\n",
       "      <td>1607651</td>\n",
       "      <td>3.15494</td>\n",
       "      <td>2.805553</td>\n",
       "      <td>3.432014</td>\n",
       "      <td>0.074937</td>\n",
       "    </tr>\n",
       "    <tr>\n",
       "      <th>2995</th>\n",
       "      <td>355283</td>\n",
       "      <td>3.18799</td>\n",
       "      <td>4.361921</td>\n",
       "      <td>5.235403</td>\n",
       "      <td>0.002739</td>\n",
       "    </tr>\n",
       "    <tr>\n",
       "      <th>2996</th>\n",
       "      <td>133612</td>\n",
       "      <td>1.44691</td>\n",
       "      <td>-23.762525</td>\n",
       "      <td>31.595397</td>\n",
       "      <td>0.041346</td>\n",
       "    </tr>\n",
       "    <tr>\n",
       "      <th>2997</th>\n",
       "      <td>681786</td>\n",
       "      <td>4.38915</td>\n",
       "      <td>7.687208</td>\n",
       "      <td>5.267253</td>\n",
       "      <td>0.029396</td>\n",
       "    </tr>\n",
       "    <tr>\n",
       "      <th>2998</th>\n",
       "      <td>941270</td>\n",
       "      <td>4.80493</td>\n",
       "      <td>16.439372</td>\n",
       "      <td>12.596395</td>\n",
       "      <td>0.016654</td>\n",
       "    </tr>\n",
       "  </tbody>\n",
       "</table>\n",
       "<p>2999 rows × 5 columns</p>\n",
       "</div>"
      ],
      "text/plain": [
       "      Successful_ids  Star_difficulties       Mean         Sd       MSE\n",
       "0             315550            1.71815   0.019015   0.608820  0.136021\n",
       "1             453359            1.75883   0.179988   0.661276  0.047169\n",
       "2             315553            1.98731   0.191851   0.646722  0.019471\n",
       "3            1036654            1.62921  -0.021693   0.544115  0.012222\n",
       "4             351190            1.84494  -0.016056   0.550648  0.045571\n",
       "...              ...                ...        ...        ...       ...\n",
       "2994         1607651            3.15494   2.805553   3.432014  0.074937\n",
       "2995          355283            3.18799   4.361921   5.235403  0.002739\n",
       "2996          133612            1.44691 -23.762525  31.595397  0.041346\n",
       "2997          681786            4.38915   7.687208   5.267253  0.029396\n",
       "2998          941270            4.80493  16.439372  12.596395  0.016654\n",
       "\n",
       "[2999 rows x 5 columns]"
      ]
     },
     "execution_count": 52,
     "metadata": {},
     "output_type": "execute_result"
    }
   ],
   "source": [
    "new_df = pd.DataFrame(successful_ids)\n",
    "new_df[\"star\"] = np.array(attrib_array)\n",
    "new_df[\"mean\"] = np.array(mean_array)\n",
    "new_df[\"sd\"] = np.array(sd_array)\n",
    "new_df[\"mse\"] = np.array(mse_array)\n",
    "new_df.columns = [\"Successful_ids\", \"Star_difficulties\", \"Mean\", \"Sd\", \"MSE\"]\n",
    "new_df"
   ]
  },
  {
   "cell_type": "markdown",
   "metadata": {},
   "source": [
    "## Summary Table of Success Rate and MSE for Normal CDF Curve Fit"
   ]
  },
  {
   "cell_type": "code",
   "execution_count": 69,
   "metadata": {
    "scrolled": true
   },
   "outputs": [],
   "source": [
    "unsuccessful_attrib_data = bm_attribs_data[list(unsuccessful_bm.keys())[0]]\n",
    "unsuccessful_attrib_array = [id_dict[\"value\"] for id_dict in unsuccessful_attrib_data]\n",
    "\n",
    "unsuccessful_attrib_low = [a for a in unsuccessful_attrib_array if a >= 1 and a < 4]\n",
    "unsuccessful_attrib_med = [a for a in unsuccessful_attrib_array if a >= 4 and a < 6]\n",
    "unsuccessful_attrib_high = [a for a in unsuccessful_attrib_array if a >= 6]\n",
    "\n",
    "successful_attrib_low = [a for a in attrib_array if a >= 1 and a < 4]\n",
    "successful_attrib_med = [a for a in attrib_array if a >= 4 and a < 6]\n",
    "successful_attrib_high = [a for a in attrib_array if a >= 6]"
   ]
  },
  {
   "cell_type": "code",
   "execution_count": 71,
   "metadata": {},
   "outputs": [],
   "source": [
    "attrib_and_mse = list(zip(attrib_array, mse_array))\n",
    "error_low_array = [aAndM[1] for aAndM in attrib_and_mse if aAndM[0] >= 1 and aAndM[0] < 4]\n",
    "error_med_array = [aAndM[1] for aAndM in attrib_and_mse if aAndM[0] >= 4 and aAndM[0] < 6]\n",
    "error_high_array = [aAndM[1] for aAndM in attrib_and_mse if aAndM[0] >= 6]\n",
    "success_error_summary = {\n",
    "    \"1-4\": [len(successful_attrib_low) / (len(unsuccessful_attrib_low) + len(successful_attrib_low)), np.mean(error_low_array)],\n",
    "    \"4-6\": [len(successful_attrib_med) / (len(unsuccessful_attrib_med) + len(successful_attrib_med)), np.mean(error_med_array)],\n",
    "    \"6+\": [len(successful_attrib_high) / (len(unsuccessful_attrib_high) + len(successful_attrib_high)), np.mean(error_high_array)],\n",
    "    \"All\": [len(attrib_array) / (len(unsuccessful_attrib_array) + len(attrib_array)), np.mean(mse_array)]\n",
    "}\n",
    "success_error_summary_df = pd.DataFrame(success_error_summary)\n",
    "success_error_summary_df.index = [\"Success_rate\", \"Error_rate\"]"
   ]
  },
  {
   "cell_type": "code",
   "execution_count": 72,
   "metadata": {},
   "outputs": [
    {
     "data": {
      "text/html": [
       "<div>\n",
       "<style scoped>\n",
       "    .dataframe tbody tr th:only-of-type {\n",
       "        vertical-align: middle;\n",
       "    }\n",
       "\n",
       "    .dataframe tbody tr th {\n",
       "        vertical-align: top;\n",
       "    }\n",
       "\n",
       "    .dataframe thead th {\n",
       "        text-align: right;\n",
       "    }\n",
       "</style>\n",
       "<table border=\"1\" class=\"dataframe\">\n",
       "  <thead>\n",
       "    <tr style=\"text-align: right;\">\n",
       "      <th></th>\n",
       "      <th>1-4</th>\n",
       "      <th>4-6</th>\n",
       "      <th>6+</th>\n",
       "      <th>All</th>\n",
       "    </tr>\n",
       "  </thead>\n",
       "  <tbody>\n",
       "    <tr>\n",
       "      <th>Success_rate</th>\n",
       "      <td>1.000000</td>\n",
       "      <td>1.000000</td>\n",
       "      <td>0.989362</td>\n",
       "      <td>0.999667</td>\n",
       "    </tr>\n",
       "    <tr>\n",
       "      <th>Error_rate</th>\n",
       "      <td>0.053021</td>\n",
       "      <td>0.011779</td>\n",
       "      <td>0.018162</td>\n",
       "      <td>0.037141</td>\n",
       "    </tr>\n",
       "  </tbody>\n",
       "</table>\n",
       "</div>"
      ],
      "text/plain": [
       "                   1-4       4-6        6+       All\n",
       "Success_rate  1.000000  1.000000  0.989362  0.999667\n",
       "Error_rate    0.053021  0.011779  0.018162  0.037141"
      ]
     },
     "execution_count": 72,
     "metadata": {},
     "output_type": "execute_result"
    }
   ],
   "source": [
    "success_error_summary_df"
   ]
  },
  {
   "cell_type": "markdown",
   "metadata": {},
   "source": [
    "## Run all T CDF curve fits and store in a collection"
   ]
  },
  {
   "cell_type": "code",
   "execution_count": 73,
   "metadata": {
    "scrolled": true
   },
   "outputs": [],
   "source": [
    "fitted_tcdf_with_errors = {}\n",
    "\n",
    "for i in bm_ys.keys():\n",
    "    fitted_tcdf_with_errors[i] = fit_t_cdf(bm_ys[i])"
   ]
  },
  {
   "cell_type": "code",
   "execution_count": 65,
   "metadata": {},
   "outputs": [
    {
     "name": "stdout",
     "output_type": "stream",
     "text": [
      "success rate for all is: 1.0\n",
      "average mse for all is: 0.06375869798417359\n"
     ]
    }
   ],
   "source": [
    "unsuccessful_bm = {id: fitAndMse for (id, fitAndMse) in fitted_tcdf_with_errors.items() if isinstance(fitAndMse, str)}\n",
    "n = len(fitted_curves_with_errors)\n",
    "success_rate = (n - len(unsuccessful_bm))/n\n",
    "avg_mse = np.mean([fitAndMse[1][0] for (id, fitAndMse) in fitted_tcdf_with_errors.items() if isinstance(fitAndMse[1][0], float)])\n",
    "print(\"success rate for all is:\", success_rate)\n",
    "print(\"average mse for all is:\", avg_mse)"
   ]
  },
  {
   "cell_type": "code",
   "execution_count": 61,
   "metadata": {
    "scrolled": false
   },
   "outputs": [
    {
     "data": {
      "image/png": "[encoded data removed]",
      "text/plain": [
       "<Figure size 1080x360 with 2 Axes>"
      ]
     },
     "metadata": {
      "needs_background": "light"
     },
     "output_type": "display_data"
    }
   ],
   "source": [
    "good = 1262009\n",
    "fig, (ax1, ax2) = plt.subplots(1, 2, figsize=(15, 5))\n",
    "fig.suptitle('Example of T-CDF Fits with Low Error Rate VS High Error Rate')\n",
    "x1 = range(len(find_nPassOverTotal_for_one_beatmap(good)))\n",
    "y1 = find_nPassOverTotal_for_one_beatmap(good)\n",
    "df1,mse1 = fit_t_cdf(y1)\n",
    "ax1.plot(scipy.stats.t(df1).cdf(x1), label = \"T CDF\")\n",
    "ax1.plot(scipy.stats.norm(find_nPassOverTotal_for_one_beatmap(good)[0]).cdf(x1), color = \"red\", label = \"Normal CDF\")\n",
    "ax1.scatter(x1, y1, color = \"orange\")\n",
    "ax1.set(ylabel = \"nPass/total\")\n",
    "leg1 = ax1.legend();\n",
    "\n",
    "bad = 848233\n",
    "x2 = range(len(find_nPassOverTotal_for_one_beatmap(bad)))\n",
    "y2 = find_nPassOverTotal_for_one_beatmap(bad)\n",
    "df2,mse2 = fit_t_cdf(y2)\n",
    "ax2.plot(scipy.stats.t(df2).cdf(x2), label = \"T CDF\")\n",
    "ax2.plot(scipy.stats.norm(find_nPassOverTotal_for_one_beatmap(bad)[0]).cdf(x2), color =  \"red\", label = \"Normal CDF\")\n",
    "ax2.scatter(x2, y2, color = \"orange\")\n",
    "ax2.set(ylabel = \"nPass/total\")\n",
    "leg2 = ax2.legend()"
   ]
  },
  {
   "cell_type": "code",
   "execution_count": 66,
   "metadata": {},
   "outputs": [],
   "source": [
    "for el in bm_ids: \n",
    "    success = False if el in unsuccessful_bm.keys() else True\n",
    "    df = None if el in unsuccessful_bm.keys() else fitted_tcdf_with_errors[el][0][0]\n",
    "    mse = None if el in unsuccessful_bm.keys() else fitted_tcdf_with_errors[el][1][0]\n",
    "    \n",
    "    db.beatmap_criteria_curve.update_one( \n",
    "        {\"_id\" : el},\n",
    "        {\"$set\": {\"no_mod.mlpp.tCDF.success\" : success,\n",
    "                  \"no_mod.mlpp.tCDF.params.df\" : df,\n",
    "                  \"no_mod.mlpp.tCDF.mse\" : mse}}\n",
    "    )"
   ]
  }
 ],
 "metadata": {
  "kernelspec": {
   "display_name": "dsu-mlpp-Lbmzh1jH",
   "language": "python",
   "name": "dsu-mlpp-lbmzh1jh"
  },
  "language_info": {
   "codemirror_mode": {
    "name": "ipython",
    "version": 3
   },
   "file_extension": ".py",
   "mimetype": "text/x-python",
   "name": "python",
   "nbconvert_exporter": "python",
   "pygments_lexer": "ipython3",
   "version": "3.8.6"
  }
 },
 "nbformat": 4,
 "nbformat_minor": 2
}
