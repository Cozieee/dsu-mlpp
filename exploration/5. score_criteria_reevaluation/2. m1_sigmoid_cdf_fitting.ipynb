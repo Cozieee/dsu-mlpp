{
 "cells": [
  {
   "cell_type": "code",
   "execution_count": 1,
   "metadata": {},
   "outputs": [],
   "source": [
    "# NOTES FROM MEETING\n",
    "# No cell should take more than 20 minutes to run\n",
    "# Please limit to one temporary collection (must be deleted at end of notebook). No external files\n",
    "# Try to reduce single-line cells\n",
    "\n",
    "# Mini-competition -\n",
    "# Challenge: Limit to 75 lines of code (100 for team 1)! (excluding imports)\n",
    "# Fit Success Rate: Fitting method with highest fit success rate\n",
    "# Fit Average error: Fitting method with lowest fit error rate\n",
    "# Fit Time complexity: Fitting method with lowest time expended\n",
    "# Notebook housekeeping: Cleanest-looking notebook win!"
   ]
  },
  {
   "cell_type": "markdown",
   "metadata": {},
   "source": [
    "# Sigmoid Criteria Curve Fitting: CDF Approach\n",
    "**Contributors:** \n",
    "\n",
    "**Achievement:**\n",
    "\n",
    "**Requirements:**\n"
   ]
  },
  {
   "cell_type": "markdown",
   "metadata": {},
   "source": [
    "## Import packages \n",
    "**This is a note:** Please have markdown before each cell. In this format!"
   ]
  },
  {
   "cell_type": "code",
   "execution_count": 2,
   "metadata": {},
   "outputs": [],
   "source": [
    "import sys\n",
    "sys.path.append('../..')\n",
    "from pymongo import UpdateOne\n",
    "from pymongo import MongoClient\n",
    "from tqdm import tqdm\n",
    "import matplotlib.pyplot as plt\n",
    "import numpy as np\n",
    "import scipy\n",
    "from scipy.stats import norm \n",
    "from scipy.optimize import curve_fit\n",
    "import seaborn as sns\n",
    "import sklearn\n",
    "from scipy.stats import t\n",
    "from mlpp.data_modeling.sigmoid_fitting import fit_normal_cdf\n",
    "import pandas as pd\n",
    "#haha"
   ]
  },
  {
   "cell_type": "markdown",
   "metadata": {},
   "source": [
    "## Instantiate mongo instance, classes, and any config/global vars"
   ]
  },
  {
   "cell_type": "code",
   "execution_count": 3,
   "metadata": {},
   "outputs": [],
   "source": [
    "client = MongoClient(port=27017)\n",
    "db = client.osu_random_db\n",
    "bm_ids = list(map(lambda c: c['_id'], db['beatmap_criteria_curve'].find({}, {})))"
   ]
  },
  {
   "cell_type": "markdown",
   "metadata": {},
   "source": [
    "## Load the curve data\n",
    "**Note:** Get total and n_pass under no_mod for all beatmaps"
   ]
  },
  {
   "cell_type": "code",
   "execution_count": 8,
   "metadata": {},
   "outputs": [],
   "source": [
    "bm_data = {}\n",
    "for i in bm_ids:\n",
    "    bm_data[i] = list(db['beatmap_criteria_curve'].find({\"_id\": i}, {\"_id\": 0, \"no_mod.total\": 1, \"no_mod.n_pass\": 1}))"
   ]
  },
  {
   "cell_type": "markdown",
   "metadata": {},
   "source": [
    "**Note:** Calculate the n_pass/total for each user with total = 0 removed"
   ]
  },
  {
   "cell_type": "code",
   "execution_count": 9,
   "metadata": {},
   "outputs": [],
   "source": [
    "def find_nPassOverTotal_for_one_beatmap (bm):\n",
    "    bm_total_nPass = list (zip (bm_data[bm][0][\"no_mod\"][\"total\"], bm_data[bm][0][\"no_mod\"][\"n_pass\"]))\n",
    "    bm_total_nPass_noZero = [total_nPass for total_nPass in bm_total_nPass if total_nPass[0] != 0]\n",
    "    y = np.asarray(list(zip(*bm_total_nPass_noZero))[1]) / np.asarray(list(zip(*bm_total_nPass_noZero))[0])\n",
    "    return y\n",
    "bm_ys = {}\n",
    "for i in bm_ids:\n",
    "    bm_ys[i] = find_nPassOverTotal_for_one_beatmap (i)"
   ]
  },
  {
   "cell_type": "markdown",
   "metadata": {},
   "source": [
    "## Run all CDF curve fits\n",
    "**Note:** Haven't stored in beatmap_criteria_curve collection. Need to figure out what to save for unsuccesssful fits."
   ]
  },
  {
   "cell_type": "code",
   "execution_count": 10,
   "metadata": {
    "scrolled": true
   },
   "outputs": [],
   "source": [
    "fitted_curves_with_errors = {}\n",
    "\n",
    "for i in bm_ys.keys():\n",
    "    fitted_curves_with_errors[i] = fit_normal_cdf(bm_ys[i])"
   ]
  },
  {
   "cell_type": "code",
   "execution_count": 13,
   "metadata": {
    "scrolled": false
   },
   "outputs": [
    {
     "data": {
      "text/plain": [
       "[Text(0, 0.5, 'nPass/total')]"
      ]
     },
     "execution_count": 13,
     "metadata": {},
     "output_type": "execute_result"
    },
    {
     "data": {
      "image/png": "[encoded data removed]",
      "text/plain": [
       "<Figure size 1080x360 with 2 Axes>"
      ]
     },
     "metadata": {
      "needs_background": "light"
     },
     "output_type": "display_data"
    }
   ],
   "source": [
    "# visualization example beatmaps\n",
    "good = 713935\n",
    "fig, (ax1, ax2) = plt.subplots(1, 2, figsize=(15, 5))\n",
    "fig.suptitle('Example of CDF Fits with Low Error Rate VS High Error Rate')\n",
    "x1 = range(len(find_nPassOverTotal_for_one_beatmap(good)))\n",
    "y1 = find_nPassOverTotal_for_one_beatmap(good)\n",
    "ax1.plot(scipy.stats.norm(find_nPassOverTotal_for_one_beatmap(good)[0]).cdf(x1))\n",
    "ax1.scatter(x1, y1, color = \"orange\")\n",
    "ax1.set(ylabel = \"nPass/total\")\n",
    "\n",
    "bad = 848233\n",
    "x2 = range(len(find_nPassOverTotal_for_one_beatmap(bad)))\n",
    "y2 = find_nPassOverTotal_for_one_beatmap(bad)\n",
    "ax2.plot(scipy.stats.norm(find_nPassOverTotal_for_one_beatmap(bad)[0]).cdf(x2))\n",
    "ax2.scatter(x2, y2, color = \"orange\")\n",
    "ax2.set(ylabel = \"nPass/total\")"
   ]
  },
  {
   "cell_type": "code",
   "execution_count": 14,
   "metadata": {
    "scrolled": true
   },
   "outputs": [
    {
     "name": "stdout",
     "output_type": "stream",
     "text": [
      "success rate for all is: 0.9996666666666667\n",
      "average mse for all is: 0.03714103365330562\n"
     ]
    }
   ],
   "source": [
    "unsuccessful_bm = {id: fitAndMse for (id, fitAndMse) in fitted_curves_with_errors.items() if isinstance(fitAndMse, str)}\n",
    "n = len(fitted_curves_with_errors)\n",
    "success_rate = (n - len(unsuccessful_bm))/n\n",
    "avg_mse = np.mean([fitAndMse[1] for (id, fitAndMse) in fitted_curves_with_errors.items() if isinstance(fitAndMse[1], float)])\n",
    "print(\"success rate for all is:\", success_rate)\n",
    "print(\"average mse for all is:\", avg_mse)"
   ]
  },
  {
   "cell_type": "markdown",
   "metadata": {},
   "source": [
    "## Load the beatmap attribs data"
   ]
  },
  {
   "cell_type": "code",
   "execution_count": 60,
   "metadata": {},
   "outputs": [],
   "source": [
    "bm_attribs_data = {}\n",
    "for i in bm_ids:\n",
    "    bm_attribs_data[i] = list(db['osu_beatmap_attribs'].find({\"beatmap_id\": i, \"mods\": 0, \"attrib_id\":17}, {\"_id\": 0, \"value\": 1}))"
   ]
  },
  {
   "cell_type": "code",
   "execution_count": null,
   "metadata": {},
   "outputs": [],
   "source": [
    "create a data frame\n",
    "rows are bm_ids\n",
    "columns are mean, std, mse, value"
   ]
  },
  {
   "cell_type": "markdown",
   "metadata": {},
   "source": [
    "## Visualisations of correlation between CDF mean/std with attribs\n",
    "**Note:** Each beatmap maps the same mean, sd, mse mapped to its different attrib_ids"
   ]
  },
  {
   "cell_type": "code",
   "execution_count": 64,
   "metadata": {},
   "outputs": [],
   "source": [
    "# creating a dataframe with rows as bm_ids and columns as mean, std, mse, and star difficulties\n",
    "attrib_array = []\n",
    "mean_array = []\n",
    "sd_array = []\n",
    "mse_array = []\n",
    "successful_ids = [bm for bm in bm_ids if bm not in unsuccessful_bm.keys()]\n",
    "for bm in successful_ids:\n",
    "    attrib_array.append(bm_attribs_data[bm][0][\"value\"])\n",
    "    mean_array.append(fitted_curves_with_errors[bm][0][0]) \n",
    "    sd_array.append(fitted_curves_with_errors[bm][0][1]) \n",
    "    mse_array.append(fitted_curves_with_errors[bm][1])"
   ]
  },
  {
   "cell_type": "code",
   "execution_count": 66,
   "metadata": {},
   "outputs": [
    {
     "data": {
      "text/html": [
       "<div>\n",
       "<style scoped>\n",
       "    .dataframe tbody tr th:only-of-type {\n",
       "        vertical-align: middle;\n",
       "    }\n",
       "\n",
       "    .dataframe tbody tr th {\n",
       "        vertical-align: top;\n",
       "    }\n",
       "\n",
       "    .dataframe thead th {\n",
       "        text-align: right;\n",
       "    }\n",
       "</style>\n",
       "<table border=\"1\" class=\"dataframe\">\n",
       "  <thead>\n",
       "    <tr style=\"text-align: right;\">\n",
       "      <th></th>\n",
       "      <th>Successful_ids</th>\n",
       "      <th>Star_difficulties</th>\n",
       "      <th>Mean</th>\n",
       "      <th>Sd</th>\n",
       "      <th>MSE</th>\n",
       "    </tr>\n",
       "  </thead>\n",
       "  <tbody>\n",
       "    <tr>\n",
       "      <th>0</th>\n",
       "      <td>453359</td>\n",
       "      <td>1.75883</td>\n",
       "      <td>0.179988</td>\n",
       "      <td>0.661276</td>\n",
       "      <td>0.047169</td>\n",
       "    </tr>\n",
       "    <tr>\n",
       "      <th>1</th>\n",
       "      <td>315550</td>\n",
       "      <td>1.71815</td>\n",
       "      <td>0.019015</td>\n",
       "      <td>0.608820</td>\n",
       "      <td>0.136021</td>\n",
       "    </tr>\n",
       "    <tr>\n",
       "      <th>2</th>\n",
       "      <td>397536</td>\n",
       "      <td>1.68301</td>\n",
       "      <td>0.062281</td>\n",
       "      <td>0.696674</td>\n",
       "      <td>0.029173</td>\n",
       "    </tr>\n",
       "    <tr>\n",
       "      <th>3</th>\n",
       "      <td>397534</td>\n",
       "      <td>2.67792</td>\n",
       "      <td>0.191140</td>\n",
       "      <td>1.401044</td>\n",
       "      <td>0.030033</td>\n",
       "    </tr>\n",
       "    <tr>\n",
       "      <th>4</th>\n",
       "      <td>1442771</td>\n",
       "      <td>1.60975</td>\n",
       "      <td>0.193121</td>\n",
       "      <td>0.532542</td>\n",
       "      <td>0.061934</td>\n",
       "    </tr>\n",
       "    <tr>\n",
       "      <th>...</th>\n",
       "      <td>...</td>\n",
       "      <td>...</td>\n",
       "      <td>...</td>\n",
       "      <td>...</td>\n",
       "      <td>...</td>\n",
       "    </tr>\n",
       "    <tr>\n",
       "      <th>2994</th>\n",
       "      <td>355283</td>\n",
       "      <td>3.18799</td>\n",
       "      <td>4.361921</td>\n",
       "      <td>5.235403</td>\n",
       "      <td>0.002739</td>\n",
       "    </tr>\n",
       "    <tr>\n",
       "      <th>2995</th>\n",
       "      <td>133612</td>\n",
       "      <td>1.44691</td>\n",
       "      <td>-23.762525</td>\n",
       "      <td>31.595397</td>\n",
       "      <td>0.041346</td>\n",
       "    </tr>\n",
       "    <tr>\n",
       "      <th>2996</th>\n",
       "      <td>941270</td>\n",
       "      <td>4.80493</td>\n",
       "      <td>16.439372</td>\n",
       "      <td>12.596395</td>\n",
       "      <td>0.016654</td>\n",
       "    </tr>\n",
       "    <tr>\n",
       "      <th>2997</th>\n",
       "      <td>681786</td>\n",
       "      <td>4.38915</td>\n",
       "      <td>7.687208</td>\n",
       "      <td>5.267253</td>\n",
       "      <td>0.029396</td>\n",
       "    </tr>\n",
       "    <tr>\n",
       "      <th>2998</th>\n",
       "      <td>134299</td>\n",
       "      <td>1.58159</td>\n",
       "      <td>-0.097604</td>\n",
       "      <td>0.877818</td>\n",
       "      <td>0.064938</td>\n",
       "    </tr>\n",
       "  </tbody>\n",
       "</table>\n",
       "<p>2999 rows × 5 columns</p>\n",
       "</div>"
      ],
      "text/plain": [
       "      Successful_ids  Star_difficulties       Mean         Sd       MSE\n",
       "0             453359            1.75883   0.179988   0.661276  0.047169\n",
       "1             315550            1.71815   0.019015   0.608820  0.136021\n",
       "2             397536            1.68301   0.062281   0.696674  0.029173\n",
       "3             397534            2.67792   0.191140   1.401044  0.030033\n",
       "4            1442771            1.60975   0.193121   0.532542  0.061934\n",
       "...              ...                ...        ...        ...       ...\n",
       "2994          355283            3.18799   4.361921   5.235403  0.002739\n",
       "2995          133612            1.44691 -23.762525  31.595397  0.041346\n",
       "2996          941270            4.80493  16.439372  12.596395  0.016654\n",
       "2997          681786            4.38915   7.687208   5.267253  0.029396\n",
       "2998          134299            1.58159  -0.097604   0.877818  0.064938\n",
       "\n",
       "[2999 rows x 5 columns]"
      ]
     },
     "execution_count": 66,
     "metadata": {},
     "output_type": "execute_result"
    }
   ],
   "source": [
    "new_df = pd.DataFrame(successful_ids)\n",
    "new_df[\"star\"] = np.array(attrib_array)\n",
    "new_df[\"mean\"] = np.array(mean_array)\n",
    "new_df[\"sd\"] = np.array(sd_array)\n",
    "new_df[\"mse\"] = np.array(mse_array)\n",
    "new_df.columns = [\"Successful_ids\", \"Star_difficulties\", \"Mean\", \"Sd\", \"MSE\"]\n",
    "new_df"
   ]
  },
  {
   "cell_type": "code",
   "execution_count": 92,
   "metadata": {
    "scrolled": true
   },
   "outputs": [
    {
     "data": {
      "text/plain": [
       "[Text(0.5, 1.0, 'MSE from CDF against attrib')]"
      ]
     },
     "execution_count": 92,
     "metadata": {},
     "output_type": "execute_result"
    },
    {
     "data": {
      "image/png": "[encoded data removed]",
      "text/plain": [
       "<Figure size 1080x360 with 3 Axes>"
      ]
     },
     "metadata": {
      "needs_background": "light"
     },
     "output_type": "display_data"
    }
   ],
   "source": [
    "fig, (ax1, ax2, ax3) = plt.subplots(1, 3, figsize = (15,5))\n",
    "ax1.scatter(attrib_array, mean_array)\n",
    "ax1.set(title = \"Mean from CDF against attrib\")\n",
    "ax2.scatter(attrib_array, sd_array)\n",
    "ax2.set(title = \"SD from CDF against attrib\")\n",
    "ax3.scatter(attrib_array, mse_array)\n",
    "ax3.set(title = \"MSE from CDF against attrib\")"
   ]
  },
  {
   "cell_type": "markdown",
   "metadata": {},
   "source": [
    "## Fit success-rate summary table with 4 rows for each CDF fit\n",
    "**Note:** 4 columns are (1,2,3), (4,5,6), (7,..), all. Original: (1 - 4, 4 - 6, 6 plus, all)"
   ]
  },
  {
   "cell_type": "code",
   "execution_count": 124,
   "metadata": {
    "scrolled": true
   },
   "outputs": [],
   "source": [
    "unsuccessful_attribs_data = bm_attribs_data[list(unsuccessful_bm.keys())[0]]\n",
    "unsuccessful_attribs_array = [id_dict[\"attrib_id\"] for id_dict in unsuccessful_attribs_data]\n",
    "unsuccessful_low = unsuccessful_attribs_array.count(1) + unsuccessful_attribs_array.count(2) + unsuccessful_attribs_array.count(3)\n",
    "unsuccessful_med = unsuccessful_attribs_array.count(4) + unsuccessful_attribs_array.count(5) + unsuccessful_attribs_array.count(6)\n",
    "unsuccessful_high = len(unsuccessful_attribs_array) - unsuccessful_low - unsuccessful_med\n",
    "\n",
    "successful_low = attrib_array.count(1) + attrib_array.count(2) + attrib_array.count(3)\n",
    "successful_med = attrib_array.count(4) + attrib_array.count(5) + attrib_array.count(6)\n",
    "successful_high = len(attrib_array) - successful_low - successful_med"
   ]
  },
  {
   "cell_type": "code",
   "execution_count": 131,
   "metadata": {},
   "outputs": [
    {
     "data": {
      "text/html": [
       "<div>\n",
       "<style scoped>\n",
       "    .dataframe tbody tr th:only-of-type {\n",
       "        vertical-align: middle;\n",
       "    }\n",
       "\n",
       "    .dataframe tbody tr th {\n",
       "        vertical-align: top;\n",
       "    }\n",
       "\n",
       "    .dataframe thead th {\n",
       "        text-align: right;\n",
       "    }\n",
       "</style>\n",
       "<table border=\"1\" class=\"dataframe\">\n",
       "  <thead>\n",
       "    <tr style=\"text-align: right;\">\n",
       "      <th></th>\n",
       "      <th>1-3</th>\n",
       "      <th>4-6</th>\n",
       "      <th>7+</th>\n",
       "      <th>All</th>\n",
       "    </tr>\n",
       "  </thead>\n",
       "  <tbody>\n",
       "    <tr>\n",
       "      <th>0</th>\n",
       "      <td>0.999667</td>\n",
       "      <td>0.999667</td>\n",
       "      <td>0.999667</td>\n",
       "      <td>0.999667</td>\n",
       "    </tr>\n",
       "  </tbody>\n",
       "</table>\n",
       "</div>"
      ],
      "text/plain": [
       "        1-3       4-6        7+       All\n",
       "0  0.999667  0.999667  0.999667  0.999667"
      ]
     },
     "execution_count": 131,
     "metadata": {},
     "output_type": "execute_result"
    }
   ],
   "source": [
    "success_summary = {\n",
    "    \"1-3\": successful_low / (unsuccessful_low + successful_low),\n",
    "    \"4-6\": successful_med / (unsuccessful_med + successful_med),\n",
    "    \"7+\": successful_high / (unsuccessful_high + successful_high),\n",
    "    \"All\": len(attrib_array) / (len(unsuccessful_attribs_array) + len(attrib_array))\n",
    "}\n",
    "pd.DataFrame(success_summary, index=[0])"
   ]
  },
  {
   "cell_type": "markdown",
   "metadata": {},
   "source": [
    "## For curves that could be fit, error summary table with same layout as above"
   ]
  },
  {
   "cell_type": "code",
   "execution_count": 138,
   "metadata": {},
   "outputs": [],
   "source": [
    "attrib_and_mse = list(zip(attrib_array, mse_array))\n",
    "error_low_array = [aAndM[1] for aAndM in attrib_and_mse if aAndM[0] == 1 or aAndM[0] == 2 or aAndM[0] == 3]\n",
    "error_med_array = [aAndM[1] for aAndM in attrib_and_mse if aAndM[0] == 4 or aAndM[0] == 5 or aAndM[0] == 6]\n",
    "error_high_array = [aAndM[1] for aAndM in attrib_and_mse if aAndM[0] >= 7]"
   ]
  },
  {
   "cell_type": "code",
   "execution_count": 139,
   "metadata": {},
   "outputs": [
    {
     "data": {
      "text/html": [
       "<div>\n",
       "<style scoped>\n",
       "    .dataframe tbody tr th:only-of-type {\n",
       "        vertical-align: middle;\n",
       "    }\n",
       "\n",
       "    .dataframe tbody tr th {\n",
       "        vertical-align: top;\n",
       "    }\n",
       "\n",
       "    .dataframe thead th {\n",
       "        text-align: right;\n",
       "    }\n",
       "</style>\n",
       "<table border=\"1\" class=\"dataframe\">\n",
       "  <thead>\n",
       "    <tr style=\"text-align: right;\">\n",
       "      <th></th>\n",
       "      <th>1-3</th>\n",
       "      <th>4-6</th>\n",
       "      <th>7+</th>\n",
       "      <th>All</th>\n",
       "    </tr>\n",
       "  </thead>\n",
       "  <tbody>\n",
       "    <tr>\n",
       "      <th>0</th>\n",
       "      <td>0.037141</td>\n",
       "      <td>0.037141</td>\n",
       "      <td>0.037141</td>\n",
       "      <td>0.037141</td>\n",
       "    </tr>\n",
       "  </tbody>\n",
       "</table>\n",
       "</div>"
      ],
      "text/plain": [
       "        1-3       4-6        7+       All\n",
       "0  0.037141  0.037141  0.037141  0.037141"
      ]
     },
     "execution_count": 139,
     "metadata": {},
     "output_type": "execute_result"
    }
   ],
   "source": [
    "error_summary = {\n",
    "    \"1-3\": np.mean(error_low_array),\n",
    "    \"4-6\": np.mean(error_med_array),\n",
    "    \"7+\": np.mean(error_high_array),\n",
    "    \"All\": np.mean(mse_array)\n",
    "}\n",
    "pd.DataFrame(error_summary, index=[0])"
   ]
  },
  {
   "cell_type": "markdown",
   "metadata": {},
   "source": [
    "# Exploring cdf based on t distr\n",
    "**Note:** Under construction..."
   ]
  },
  {
   "cell_type": "code",
   "execution_count": 138,
   "metadata": {},
   "outputs": [],
   "source": [
    "x = np.arange(len(find_nPassOverTotal_for_one_beatmap(1762729))).reshape(-1, 1)\n",
    "# x = range(len(find_nPassOverTotal_for_one_beatmap(1762729)))\n",
    "y = find_nPassOverTotal_for_one_beatmap(1762729).astype(\"int\")\n",
    "model = LogisticRegression().fit(x, y)"
   ]
  },
  {
   "cell_type": "code",
   "execution_count": 139,
   "metadata": {
    "scrolled": true
   },
   "outputs": [
    {
     "data": {
      "text/plain": [
       "[<matplotlib.lines.Line2D at 0x18bf7250>]"
      ]
     },
     "execution_count": 139,
     "metadata": {},
     "output_type": "execute_result"
    },
    {
     "data": {
      "image/png": "[encoded data removed]",
      "text/plain": [
       "<Figure size 432x288 with 1 Axes>"
      ]
     },
     "metadata": {
      "needs_background": "light"
     },
     "output_type": "display_data"
    }
   ],
   "source": [
    "# model.predict_proba(x)\n",
    "\n",
    "# and plot the result\n",
    "plt.scatter(x, y, color='black', zorder=20)\n",
    "# X_test = np.linspace(-5, 10, 300)\n",
    "\n",
    "plt.plot(x, model.coef_ * x + model.intercept_, linewidth=1)\n",
    "# plt.axhline(.5, color='.5')\n",
    "\n",
    "# plt.ylabel('y')\n",
    "# plt.xlabel('X')\n",
    "# plt.xticks(range(-5, 10))\n",
    "# plt.yticks([0, 0.5, 1])\n",
    "# plt.ylim(-.25, 1.25)\n",
    "# plt.xlim(-4, 10)\n",
    "# plt.legend(('Logistic Regression Model', 'Linear Regression Model'),\n",
    "#            loc=\"lower right\", fontsize='small')\n",
    "# plt.tight_layout()\n",
    "# plt.show()"
   ]
  },
  {
   "cell_type": "code",
   "execution_count": null,
   "metadata": {},
   "outputs": [],
   "source": [
    "def fit_t_cdf(y):\n",
    "\n",
    "    \"\"\"Fits a set of cartesian points to the normal cdf\n",
    "\n",
    "    Parameters\n",
    "    ----------\n",
    "    x (int []):  Array of point x-coordinates\n",
    "    n_users (int): Array of point y-coordinates\n",
    "\n",
    "    Returns\n",
    "    \n",
    "    params (tuple): Tuple of parameters for the normal cdf\n",
    "    error (float): Least squares error from points given\n",
    "    \"\"\"\n",
    "\n",
    "    x = range(0, len(y))\n",
    "    try:\n",
    "        df = len(y) - 1\n",
    "        f = lambda x, mu,sigma: scipy.stats.t(df).cdf(x)\n",
    "        scipy.optimize.curve_fit(f, x, y)[0]\n",
    "    \n",
    "    except RuntimeError:\n",
    "        print(\"error\")\n",
    "        return \"Error - curve_fit failed\"\n",
    "    \n",
    "    total = 0\n",
    "    for i in x:\n",
    "        error = (y[i] - scipy.stats.t(df).cdf(i))**2\n",
    "        total += error\n",
    "    \n",
    "    mse = total / n\n",
    "    \n",
    "    return scipy.stats.norm(mu,sigma).cdf(x), mse\n",
    "\n",
    "    pass"
   ]
  },
  {
   "cell_type": "code",
   "execution_count": 145,
   "metadata": {},
   "outputs": [
    {
     "ename": "ValueError",
     "evalue": "Unable to determine number of fit parameters.",
     "output_type": "error",
     "traceback": [
      "\u001b[1;31m---------------------------------------------------------------------------\u001b[0m",
      "\u001b[1;31mValueError\u001b[0m                                Traceback (most recent call last)",
      "\u001b[1;32m<ipython-input-145-8d33875ed6af>\u001b[0m in \u001b[0;36m<module>\u001b[1;34m\u001b[0m\n\u001b[0;32m      5\u001b[0m \u001b[1;33m\u001b[0m\u001b[0m\n\u001b[0;32m      6\u001b[0m \u001b[0mf\u001b[0m \u001b[1;33m=\u001b[0m \u001b[1;32mlambda\u001b[0m \u001b[0mx\u001b[0m\u001b[1;33m:\u001b[0m \u001b[0mscipy\u001b[0m\u001b[1;33m.\u001b[0m\u001b[0mstats\u001b[0m\u001b[1;33m.\u001b[0m\u001b[0mt\u001b[0m\u001b[1;33m.\u001b[0m\u001b[0mcdf\u001b[0m\u001b[1;33m(\u001b[0m\u001b[0mdf\u001b[0m\u001b[1;33m)\u001b[0m\u001b[1;33m\u001b[0m\u001b[1;33m\u001b[0m\u001b[0m\n\u001b[1;32m----> 7\u001b[1;33m \u001b[0mscipy\u001b[0m\u001b[1;33m.\u001b[0m\u001b[0moptimize\u001b[0m\u001b[1;33m.\u001b[0m\u001b[0mcurve_fit\u001b[0m\u001b[1;33m(\u001b[0m\u001b[0mf\u001b[0m\u001b[1;33m,\u001b[0m \u001b[0mx\u001b[0m\u001b[1;33m,\u001b[0m \u001b[0my\u001b[0m\u001b[1;33m)\u001b[0m\u001b[1;33m\u001b[0m\u001b[1;33m\u001b[0m\u001b[0m\n\u001b[0m",
      "\u001b[1;32m~\\.virtualenvs\\dsu-mlpp--LhWsJBy\\lib\\site-packages\\scipy\\optimize\\minpack.py\u001b[0m in \u001b[0;36mcurve_fit\u001b[1;34m(f, xdata, ydata, p0, sigma, absolute_sigma, check_finite, bounds, method, jac, **kwargs)\u001b[0m\n\u001b[0;32m    707\u001b[0m         \u001b[0margs\u001b[0m \u001b[1;33m=\u001b[0m \u001b[0msig\u001b[0m\u001b[1;33m.\u001b[0m\u001b[0margs\u001b[0m\u001b[1;33m\u001b[0m\u001b[1;33m\u001b[0m\u001b[0m\n\u001b[0;32m    708\u001b[0m         \u001b[1;32mif\u001b[0m \u001b[0mlen\u001b[0m\u001b[1;33m(\u001b[0m\u001b[0margs\u001b[0m\u001b[1;33m)\u001b[0m \u001b[1;33m<\u001b[0m \u001b[1;36m2\u001b[0m\u001b[1;33m:\u001b[0m\u001b[1;33m\u001b[0m\u001b[1;33m\u001b[0m\u001b[0m\n\u001b[1;32m--> 709\u001b[1;33m             \u001b[1;32mraise\u001b[0m \u001b[0mValueError\u001b[0m\u001b[1;33m(\u001b[0m\u001b[1;34m\"Unable to determine number of fit parameters.\"\u001b[0m\u001b[1;33m)\u001b[0m\u001b[1;33m\u001b[0m\u001b[1;33m\u001b[0m\u001b[0m\n\u001b[0m\u001b[0;32m    710\u001b[0m         \u001b[0mn\u001b[0m \u001b[1;33m=\u001b[0m \u001b[0mlen\u001b[0m\u001b[1;33m(\u001b[0m\u001b[0margs\u001b[0m\u001b[1;33m)\u001b[0m \u001b[1;33m-\u001b[0m \u001b[1;36m1\u001b[0m\u001b[1;33m\u001b[0m\u001b[1;33m\u001b[0m\u001b[0m\n\u001b[0;32m    711\u001b[0m     \u001b[1;32melse\u001b[0m\u001b[1;33m:\u001b[0m\u001b[1;33m\u001b[0m\u001b[1;33m\u001b[0m\u001b[0m\n",
      "\u001b[1;31mValueError\u001b[0m: Unable to determine number of fit parameters."
     ]
    }
   ],
   "source": [
    "df = len(y) - 1\n",
    "\n",
    "x = range(len(find_nPassOverTotal_for_one_beatmap(1762729)))\n",
    "y = find_nPassOverTotal_for_one_beatmap(1762729)\n",
    "\n",
    "f = lambda x: scipy.stats.t.cdf(df)\n",
    "scipy.optimize.curve_fit(f, x, y)\n"
   ]
  },
  {
   "cell_type": "markdown",
   "metadata": {},
   "source": [
    "## Conclusion\n",
    "Don't forget to provide a conclusion"
   ]
  }
 ],
 "metadata": {
  "kernelspec": {
   "display_name": "dsu-mlpp--LhWsJBy",
   "language": "python",
   "name": "dsu-mlpp--lhwsjby"
  },
  "language_info": {
   "codemirror_mode": {
    "name": "ipython",
    "version": 3
   },
   "file_extension": ".py",
   "mimetype": "text/x-python",
   "name": "python",
   "nbconvert_exporter": "python",
   "pygments_lexer": "ipython3",
   "version": "3.8.5"
  }
 },
 "nbformat": 4,
 "nbformat_minor": 2
}
