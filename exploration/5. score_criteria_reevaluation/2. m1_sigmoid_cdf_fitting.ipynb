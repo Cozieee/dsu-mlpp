{
 "cells": [
  {
   "cell_type": "code",
   "execution_count": 109,
   "metadata": {},
   "outputs": [],
   "source": [
    "# NOTES FROM MEETING\n",
    "# No cell should take more than 20 minutes to run\n",
    "# Please limit to one temporary collection (must be deleted at end of notebook). No external files\n",
    "# Try to reduce single-line cells\n",
    "\n",
    "# Mini-competition -\n",
    "# Challenge: Limit to 75 lines of code (100 for team 1)! (excluding imports)\n",
    "# Fit Success Rate: Fitting method with highest fit success rate\n",
    "# Fit Average error: Fitting method with lowest fit error rate\n",
    "# Fit Time complexity: Fitting method with lowest time expended\n",
    "# Notebook housekeeping: Cleanest-looking notebook win!"
   ]
  },
  {
   "cell_type": "markdown",
   "metadata": {},
   "source": [
    "# Sigmoid Criteria Curve Fitting: CDF Approach\n",
    "**Contributors:** \n",
    "\n",
    "**Achievement:**\n",
    "\n",
    "**Requirements:**\n"
   ]
  },
  {
   "cell_type": "markdown",
   "metadata": {},
   "source": [
    "## Example of cell markdown\n",
    "**This is a note:** Please have markdown before each cell. In this format!"
   ]
  },
  {
   "cell_type": "code",
   "execution_count": 122,
   "metadata": {},
   "outputs": [],
   "source": [
    "# Import packages you need\n",
    "import sys\n",
    "sys.path.append('../..')\n",
    "from pymongo import UpdateOne\n",
    "from pymongo import MongoClient\n",
    "from tqdm import tqdm\n",
    "from exploration.config import mongo_inst\n",
    "import matplotlib.pyplot as plt\n",
    "import numpy as np\n",
    "from scipy.stats import norm \n",
    "import scipy\n",
    "import seaborn as sns\n",
    "from scipy.optimize import curve_fit\n",
    "from mlpp.data_modeling.sigmoid_fitting import fit_normal_cdf"
   ]
  },
  {
   "cell_type": "code",
   "execution_count": 111,
   "metadata": {},
   "outputs": [],
   "source": [
    "# Instantiate your mongo instance, classes, and any config/global vars\n",
    "client = MongoClient(port=27017)\n",
    "db = client.osu_random_db\n",
    "bm_ids = list(map(lambda c: c['_id'], db['beatmap_criteria_curve'].find({}, {})))"
   ]
  },
  {
   "cell_type": "code",
   "execution_count": 112,
   "metadata": {},
   "outputs": [],
   "source": [
    "bm_data = {}\n",
    "for i in bm_ids:\n",
    "    bm_data[i] = list(db['beatmap_criteria_curve'].find({\"_id\": i}, {\"_id\": 0, \"no_mod.total\": 1, \"no_mod.n_pass\": 1}))"
   ]
  },
  {
   "cell_type": "code",
   "execution_count": 113,
   "metadata": {},
   "outputs": [],
   "source": [
    "# find a good user\n",
    "first_bm_total = bm_data[104229][0][\"no_mod\"][\"total\"]\n",
    "first_bm_n_pass = bm_data[104229][0][\"no_mod\"][\"n_pass\"]"
   ]
  },
  {
   "cell_type": "code",
   "execution_count": 114,
   "metadata": {},
   "outputs": [],
   "source": [
    "ind_good = []\n",
    "k = 0\n",
    "for total in first_bm_total: \n",
    "    if (total != 0):\n",
    "        ind_good.append(k)\n",
    "    k = k + 1"
   ]
  },
  {
   "cell_type": "code",
   "execution_count": 115,
   "metadata": {},
   "outputs": [],
   "source": [
    "first_bm_good_total = [first_bm_total[i] for i in ind_good]\n",
    "first_bm_good_npass = [first_bm_n_pass[i] for i in ind_good]"
   ]
  },
  {
   "cell_type": "code",
   "execution_count": 116,
   "metadata": {},
   "outputs": [],
   "source": [
    "x = range(len(first_bm_good_total))\n",
    "y = np.asarray(first_bm_good_npass) / np.asarray(first_bm_good_total)"
   ]
  },
  {
   "cell_type": "code",
   "execution_count": 117,
   "metadata": {},
   "outputs": [
    {
     "data": {
      "text/plain": [
       "93"
      ]
     },
     "execution_count": 117,
     "metadata": {},
     "output_type": "execute_result"
    }
   ],
   "source": [
    "def helper_take_out_zero(bm_total):\n",
    "    good_index = []\n",
    "    k = 0\n",
    "    for total in bm_total: \n",
    "        if (total != 0):\n",
    "            good_index.append(k)\n",
    "        k = k + 1\n",
    "    bm_good_total = [bm_total[i] for i in good_index]\n",
    "    return bm_good_total\n",
    "len(helper_take_out_zero(first_bm_total))\n",
    "\n"
   ]
  },
  {
   "cell_type": "code",
   "execution_count": 118,
   "metadata": {
    "scrolled": true
   },
   "outputs": [
    {
     "name": "stdout",
     "output_type": "stream",
     "text": [
      "0.004459652369558242\n"
     ]
    }
   ],
   "source": [
    "n = len(first_bm_good_total)\n",
    "x = range(0, n) \n",
    "f = lambda x, mu, sigma: scipy.stats.norm(mu,sigma).cdf(x)\n",
    "\n",
    "mu, sigma = scipy.optimize.curve_fit(f, x, y)[0]\n",
    "\n",
    "# plt.scatter(x, y)\n",
    "\n",
    "total = 0\n",
    "for i in x:\n",
    "    error = (y[i] - scipy.stats.norm(mu,sigma).cdf(i))**2\n",
    "    total += error\n",
    "print(total / n)\n",
    "    \n",
    "\n",
    "# scipy.stats.norm(mu,sigma).cdf(x)\n",
    "# scipy.optimize.curve_fit(f,x,y)"
   ]
  },
  {
   "cell_type": "code",
   "execution_count": 123,
   "metadata": {
    "scrolled": true
   },
   "outputs": [
    {
     "ename": "TypeError",
     "evalue": "'function' object is not subscriptable",
     "output_type": "error",
     "traceback": [
      "\u001b[1;31m---------------------------------------------------------------------------\u001b[0m",
      "\u001b[1;31mTypeError\u001b[0m                                 Traceback (most recent call last)",
      "\u001b[1;32m<ipython-input-123-07a3b9a34f81>\u001b[0m in \u001b[0;36m<module>\u001b[1;34m\u001b[0m\n\u001b[1;32m----> 1\u001b[1;33m \u001b[0mfit_normal_cdf\u001b[0m\u001b[1;33m(\u001b[0m\u001b[0mfirst_bm_total\u001b[0m\u001b[1;33m,\u001b[0m \u001b[0my\u001b[0m\u001b[1;33m)\u001b[0m\u001b[1;33m\u001b[0m\u001b[1;33m\u001b[0m\u001b[0m\n\u001b[0m",
      "\u001b[1;32m~\\Desktop\\environment_setup\\dsu-mlpp\\mlpp\\data_modeling\\sigmoid_fitting.py\u001b[0m in \u001b[0;36mfit_normal_cdf\u001b[1;34m(bm_total, y)\u001b[0m\n\u001b[0;32m     24\u001b[0m \u001b[1;33m\u001b[0m\u001b[0m\n\u001b[0;32m     25\u001b[0m     \u001b[0mx\u001b[0m \u001b[1;33m=\u001b[0m \u001b[0mrange\u001b[0m\u001b[1;33m(\u001b[0m\u001b[1;36m0\u001b[0m\u001b[1;33m,\u001b[0m \u001b[0mlen\u001b[0m\u001b[1;33m(\u001b[0m\u001b[0mhelper_take_out_zero\u001b[0m\u001b[1;33m(\u001b[0m\u001b[0mbm_total\u001b[0m\u001b[1;33m)\u001b[0m\u001b[1;33m)\u001b[0m\u001b[1;33m)\u001b[0m\u001b[1;33m\u001b[0m\u001b[1;33m\u001b[0m\u001b[0m\n\u001b[1;32m---> 26\u001b[1;33m \u001b[1;33m\u001b[0m\u001b[0m\n\u001b[0m\u001b[0;32m     27\u001b[0m     \u001b[0mf\u001b[0m \u001b[1;33m=\u001b[0m \u001b[1;32mlambda\u001b[0m \u001b[0mx\u001b[0m\u001b[1;33m,\u001b[0m\u001b[0mmu\u001b[0m\u001b[1;33m,\u001b[0m\u001b[0msigma\u001b[0m\u001b[1;33m:\u001b[0m \u001b[0mscipy\u001b[0m\u001b[1;33m.\u001b[0m\u001b[0mstats\u001b[0m\u001b[1;33m.\u001b[0m\u001b[0mnorm\u001b[0m\u001b[1;33m(\u001b[0m\u001b[0mmu\u001b[0m\u001b[1;33m,\u001b[0m\u001b[0msigma\u001b[0m\u001b[1;33m)\u001b[0m\u001b[1;33m.\u001b[0m\u001b[0mcdf\u001b[0m\u001b[1;33m(\u001b[0m\u001b[0mx\u001b[0m\u001b[1;33m)\u001b[0m\u001b[1;33m\u001b[0m\u001b[1;33m\u001b[0m\u001b[0m\n\u001b[0;32m     28\u001b[0m     \u001b[0mmu\u001b[0m\u001b[1;33m,\u001b[0m\u001b[0msigma\u001b[0m \u001b[1;33m=\u001b[0m \u001b[0mscipy\u001b[0m\u001b[1;33m.\u001b[0m\u001b[0moptimize\u001b[0m\u001b[1;33m.\u001b[0m\u001b[0mcurve_fit\u001b[0m\u001b[1;33m(\u001b[0m\u001b[0mf\u001b[0m\u001b[1;33m,\u001b[0m \u001b[0mx\u001b[0m\u001b[1;33m,\u001b[0m \u001b[0my\u001b[0m\u001b[1;33m)\u001b[0m\u001b[1;33m[\u001b[0m\u001b[1;36m0\u001b[0m\u001b[1;33m]\u001b[0m\u001b[1;33m\u001b[0m\u001b[1;33m\u001b[0m\u001b[0m\n",
      "\u001b[1;31mTypeError\u001b[0m: 'function' object is not subscriptable"
     ]
    }
   ],
   "source": [
    "fit_normal_cdf(first_bm_total, y)"
   ]
  },
  {
   "cell_type": "code",
   "execution_count": 20,
   "metadata": {},
   "outputs": [],
   "source": [
    "# Load the curve data"
   ]
  },
  {
   "cell_type": "code",
   "execution_count": 21,
   "metadata": {},
   "outputs": [],
   "source": [
    "# Run all CDF curve fits & store in beatmap_criteria_curve collection"
   ]
  },
  {
   "cell_type": "code",
   "execution_count": 22,
   "metadata": {},
   "outputs": [],
   "source": [
    "# Load the beatmap attribs data"
   ]
  },
  {
   "cell_type": "code",
   "execution_count": null,
   "metadata": {},
   "outputs": [],
   "source": [
    "# Visualisations of correlation between CDF mean/std with attribs"
   ]
  },
  {
   "cell_type": "code",
   "execution_count": null,
   "metadata": {},
   "outputs": [],
   "source": [
    "# fit success-rate summary table with (3 rows 1 for each CDF fit) (4 columns 1* - 4*, 4* - 6*, 6* plus, all)"
   ]
  },
  {
   "cell_type": "code",
   "execution_count": null,
   "metadata": {},
   "outputs": [],
   "source": [
    "# for curves that could be fit, error summary table with same layout as above"
   ]
  },
  {
   "cell_type": "markdown",
   "metadata": {},
   "source": [
    "## Conclusion\n",
    "Don't forget to provide a conclusion"
   ]
  }
 ],
 "metadata": {
  "kernelspec": {
   "display_name": "dsu-mlpp--LhWsJBy",
   "language": "python",
   "name": "dsu-mlpp--lhwsjby"
  },
  "language_info": {
   "codemirror_mode": {
    "name": "ipython",
    "version": 3
   },
   "file_extension": ".py",
   "mimetype": "text/x-python",
   "name": "python",
   "nbconvert_exporter": "python",
   "pygments_lexer": "ipython3",
   "version": "3.8.5"
  }
 },
 "nbformat": 4,
 "nbformat_minor": 2
}
