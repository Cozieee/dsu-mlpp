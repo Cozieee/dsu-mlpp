{
 "cells": [
  {
   "cell_type": "code",
   "execution_count": 1,
   "metadata": {},
   "outputs": [],
   "source": [
    "# NOTES FROM MEETING\n",
    "# No cell should take more than 20 minutes to run\n",
    "# Please limit to one temporary collection (must be deleted at end of notebook). No external files\n",
    "# Try to reduce single-line cells\n",
    "\n",
    "# Mini-competition -\n",
    "# Challenge: Limit to 75 lines of code (100 for team 1)! (excluding imports)\n",
    "# Fit Success Rate: Fitting method with highest fit success rate\n",
    "# Fit Average error: Fitting method with lowest fit error rate\n",
    "# Fit Time complexity: Fitting method with lowest time expended\n",
    "# Notebook housekeeping: Cleanest-looking notebook win!"
   ]
  },
  {
   "cell_type": "markdown",
   "metadata": {},
   "source": [
    "# Sigmoid Criteria Curve Fitting: CDF Approach\n",
    "**Contributors:** \n",
    "\n",
    "**Achievement:**\n",
    "\n",
    "**Requirements:**\n"
   ]
  },
  {
   "cell_type": "markdown",
   "metadata": {},
   "source": [
    "## Example of cell markdown\n",
    "**This is a note:** Please have markdown before each cell. In this format!"
   ]
  },
  {
   "cell_type": "code",
   "execution_count": 140,
   "metadata": {},
   "outputs": [],
   "source": [
    "# Import packages you need\n",
    "import sys\n",
    "sys.path.append('../..')\n",
    "from pymongo import UpdateOne\n",
    "from pymongo import MongoClient\n",
    "from tqdm import tqdm\n",
    "from exploration.config import mongo_inst\n",
    "import matplotlib.pyplot as plt\n",
    "import numpy as np\n",
    "from scipy.stats import norm \n",
    "import scipy\n",
    "import seaborn as sns\n",
    "from scipy.optimize import curve_fit\n",
    "import sklearn\n",
    "from sklearn.linear_model import LogisticRegression\n",
    "from sklearn.metrics import classification_report, confusion_matrix\n",
    "from scipy.stats import t\n",
    "# from mlpp.data_modeling.sigmoid_fitting import fit_normal_cdf"
   ]
  },
  {
   "cell_type": "code",
   "execution_count": 3,
   "metadata": {},
   "outputs": [],
   "source": [
    "# Instantiate your mongo instance, classes, and any config/global vars\n",
    "client = MongoClient(port=27017)\n",
    "db = client.osu_random_db\n",
    "bm_ids = list(map(lambda c: c['_id'], db['beatmap_criteria_curve'].find({}, {})))"
   ]
  },
  {
   "cell_type": "code",
   "execution_count": 4,
   "metadata": {},
   "outputs": [],
   "source": [
    "bm_data = {}\n",
    "for i in bm_ids:\n",
    "    bm_data[i] = list(db['beatmap_criteria_curve'].find({\"_id\": i}, {\"_id\": 0, \"no_mod.total\": 1, \"no_mod.n_pass\": 1}))"
   ]
  },
  {
   "cell_type": "code",
   "execution_count": 5,
   "metadata": {},
   "outputs": [],
   "source": [
    "# find a good user\n",
    "first_bm_total = bm_data[104229][0][\"no_mod\"][\"total\"]\n",
    "first_bm_n_pass = bm_data[104229][0][\"no_mod\"][\"n_pass\"]"
   ]
  },
  {
   "cell_type": "code",
   "execution_count": 6,
   "metadata": {},
   "outputs": [],
   "source": [
    "ind_good = []\n",
    "k = 0\n",
    "for total in first_bm_total: \n",
    "    if (total != 0):\n",
    "        ind_good.append(k)\n",
    "    k = k + 1"
   ]
  },
  {
   "cell_type": "code",
   "execution_count": 7,
   "metadata": {},
   "outputs": [],
   "source": [
    "first_bm_good_total = [first_bm_total[i] for i in ind_good]\n",
    "first_bm_good_npass = [first_bm_n_pass[i] for i in ind_good]"
   ]
  },
  {
   "cell_type": "code",
   "execution_count": 8,
   "metadata": {},
   "outputs": [],
   "source": [
    "x = range(len(first_bm_good_total))\n",
    "y = np.asarray(first_bm_good_npass) / np.asarray(first_bm_good_total)"
   ]
  },
  {
   "cell_type": "code",
   "execution_count": 117,
   "metadata": {},
   "outputs": [
    {
     "data": {
      "text/plain": [
       "93"
      ]
     },
     "execution_count": 117,
     "metadata": {},
     "output_type": "execute_result"
    }
   ],
   "source": [
    "def helper_take_out_zero(bm_total):\n",
    "    good_index = []\n",
    "    k = 0\n",
    "    for total in bm_total: \n",
    "        if (total != 0):\n",
    "            good_index.append(k)\n",
    "        k = k + 1\n",
    "    bm_good_total = [bm_total[i] for i in good_index]\n",
    "    return bm_good_total\n",
    "len(helper_take_out_zero(first_bm_total))"
   ]
  },
  {
   "cell_type": "code",
   "execution_count": 13,
   "metadata": {
    "scrolled": true
   },
   "outputs": [
    {
     "name": "stdout",
     "output_type": "stream",
     "text": [
      "0.004459652369558242\n"
     ]
    }
   ],
   "source": [
    "n = len(first_bm_good_total)\n",
    "x = range(0, n) \n",
    "f = lambda x, mu, sigma: scipy.stats.norm(mu,sigma).cdf(x)\n",
    "\n",
    "mu, sigma = scipy.optimize.curve_fit(f, x, y)[0]\n",
    "\n",
    "# plt.scatter(x, y)\n",
    "\n",
    "total = 0\n",
    "for i in x:\n",
    "    error = (y[i] - scipy.stats.norm(mu,sigma).cdf(i))**2\n",
    "    total += error\n",
    "print(total / n)\n",
    "    \n",
    "\n",
    "# scipy.stats.norm(mu,sigma).cdf(x)\n",
    "# scipy.optimize.curve_fit(f,x,y)"
   ]
  },
  {
   "cell_type": "code",
   "execution_count": 23,
   "metadata": {},
   "outputs": [],
   "source": [
    "# take in one bm_id and gets y\n",
    "def find_nPassOverTotal_for_one_beatmap (bm):\n",
    "    bm_total_nPass = list (zip (bm_data[bm][0][\"no_mod\"][\"total\"], bm_data[bm][0][\"no_mod\"][\"n_pass\"]))\n",
    "    bm_total_nPass_noZero = [total_nPass for total_nPass in bm_total_nPass if total_nPass[0] != 0]\n",
    "    y = np.asarray(list(zip(*bm_total_nPass_noZero))[1]) / np.asarray(list(zip(*bm_total_nPass_noZero))[0])\n",
    "    return y"
   ]
  },
  {
   "cell_type": "code",
   "execution_count": 19,
   "metadata": {},
   "outputs": [],
   "source": [
    "bm_ys = {}\n",
    "\n",
    "for i in bm_ids:\n",
    "    bm_ys[i] = find_nPassOverTotal_for_one_beatmap (i)"
   ]
  },
  {
   "cell_type": "code",
   "execution_count": 56,
   "metadata": {
    "scrolled": true
   },
   "outputs": [],
   "source": [
    "def fit_normal_cdf(y):\n",
    "\n",
    "    \"\"\"Fits a set of cartesian points to the normal cdf\n",
    "\n",
    "    Parameters\n",
    "    ----------\n",
    "    x (int []):  Array of point x-coordinates\n",
    "    n_users (int): Array of point y-coordinates\n",
    "\n",
    "    Returns\n",
    "    -------\n",
    "    params (tuple): Tuple of parameters for the normal cdf\n",
    "    error (float): Least squares error from points given\n",
    "    \"\"\"\n",
    "    \n",
    "#     def helper_take_out_zero(bm_total):\n",
    "#         good_index = []\n",
    "#         k = 0\n",
    "#         for total in bm_total: \n",
    "#             if (total != 0):\n",
    "#                 good_index.append(k)\n",
    "#             k = k + 1\n",
    "#         bm_good_total = [bm_total[i] for i in good_index]\n",
    "#         return bm_good_total\n",
    "\n",
    "    x = range(0, len(y))\n",
    "    try:\n",
    "        f = lambda x, mu,sigma: scipy.stats.norm(mu,sigma).cdf(x)\n",
    "        mu,sigma = scipy.optimize.curve_fit(f, x, y)[0]\n",
    "    \n",
    "    except RuntimeError:\n",
    "        print(\"error\")\n",
    "        return \"Error - curve_fit failed\"\n",
    "    \n",
    "    total = 0\n",
    "    for i in x:\n",
    "        error = (y[i] - scipy.stats.norm(mu,sigma).cdf(i))**2\n",
    "        total += error\n",
    "    \n",
    "    mse = total / n\n",
    "    \n",
    "    return scipy.stats.norm(mu,sigma).cdf(x), mse\n",
    "\n",
    "    pass"
   ]
  },
  {
   "cell_type": "code",
   "execution_count": 57,
   "metadata": {
    "scrolled": true
   },
   "outputs": [
    {
     "name": "stdout",
     "output_type": "stream",
     "text": [
      "error\n"
     ]
    }
   ],
   "source": [
    "fitted_curves_with_errors = {}\n",
    "\n",
    "for i in bm_ys.keys():\n",
    "    fitted_curves_with_errors[i] = fit_normal_cdf(bm_ys[i])"
   ]
  },
  {
   "cell_type": "code",
   "execution_count": 59,
   "metadata": {
    "scrolled": true
   },
   "outputs": [
    {
     "data": {
      "text/plain": [
       "[1605148]"
      ]
     },
     "execution_count": 59,
     "metadata": {},
     "output_type": "execute_result"
    }
   ],
   "source": [
    "[id for (id, fitAndMse) in fitted_curves_with_errors.items() if isinstance(fitAndMse, str)]"
   ]
  },
  {
   "cell_type": "code",
   "execution_count": 93,
   "metadata": {
    "scrolled": false
   },
   "outputs": [
    {
     "data": {
      "text/plain": [
       "<matplotlib.collections.PathCollection at 0x18445fe8>"
      ]
     },
     "execution_count": 93,
     "metadata": {},
     "output_type": "execute_result"
    },
    {
     "data": {
      "image/png": "[encoded data removed]",
      "text/plain": [
       "<Figure size 432x288 with 1 Axes>"
      ]
     },
     "metadata": {
      "needs_background": "light"
     },
     "output_type": "display_data"
    }
   ],
   "source": [
    "# visualization\n",
    "plt.plot(fit_normal_cdf(find_nPassOverTotal_for_one_beatmap(1762729))[0])\n",
    "plt.scatter(range(len(find_nPassOverTotal_for_one_beatmap(1762729))),find_nPassOverTotal_for_one_beatmap(1762729), color = \"orange\")"
   ]
  },
  {
   "cell_type": "code",
   "execution_count": 74,
   "metadata": {},
   "outputs": [
    {
     "data": {
      "text/plain": [
       "0.18621213279190263"
      ]
     },
     "execution_count": 74,
     "metadata": {},
     "output_type": "execute_result"
    }
   ],
   "source": [
    "# max([fitAndMse[1] for (id, fitAndMse) in fitted_curves_with_errors.items() if isinstance(fitAndMse[1], float)])"
   ]
  },
  {
   "cell_type": "code",
   "execution_count": 82,
   "metadata": {},
   "outputs": [
    {
     "data": {
      "text/plain": [
       "0.013217890460951974"
      ]
     },
     "execution_count": 82,
     "metadata": {},
     "output_type": "execute_result"
    }
   ],
   "source": [
    "success_rate = len([fitAndMse[1] for (id, fitAndMse) in fitted_curves_with_errors.items() if isinstance(fitAndMse[1], float)])/len(fitted_curves_with_errors)\n",
    "avg_mse = np.mean([fitAndMse[1] for (id, fitAndMse) in fitted_curves_with_errors.items() if isinstance(fitAndMse[1], float)])\n",
    "avg_mse"
   ]
  },
  {
   "cell_type": "code",
   "execution_count": 138,
   "metadata": {},
   "outputs": [],
   "source": [
    "x = np.arange(len(find_nPassOverTotal_for_one_beatmap(1762729))).reshape(-1, 1)\n",
    "# x = range(len(find_nPassOverTotal_for_one_beatmap(1762729)))\n",
    "y = find_nPassOverTotal_for_one_beatmap(1762729).astype(\"int\")\n",
    "model = LogisticRegression().fit(x, y)"
   ]
  },
  {
   "cell_type": "code",
   "execution_count": 139,
   "metadata": {
    "scrolled": true
   },
   "outputs": [
    {
     "data": {
      "text/plain": [
       "[<matplotlib.lines.Line2D at 0x18bf7250>]"
      ]
     },
     "execution_count": 139,
     "metadata": {},
     "output_type": "execute_result"
    },
    {
     "data": {
      "image/png": "[encoded data removed]",
      "text/plain": [
       "<Figure size 432x288 with 1 Axes>"
      ]
     },
     "metadata": {
      "needs_background": "light"
     },
     "output_type": "display_data"
    }
   ],
   "source": [
    "# model.predict_proba(x)\n",
    "\n",
    "# and plot the result\n",
    "plt.scatter(x, y, color='black', zorder=20)\n",
    "# X_test = np.linspace(-5, 10, 300)\n",
    "\n",
    "plt.plot(x, model.coef_ * x + model.intercept_, linewidth=1)\n",
    "# plt.axhline(.5, color='.5')\n",
    "\n",
    "# plt.ylabel('y')\n",
    "# plt.xlabel('X')\n",
    "# plt.xticks(range(-5, 10))\n",
    "# plt.yticks([0, 0.5, 1])\n",
    "# plt.ylim(-.25, 1.25)\n",
    "# plt.xlim(-4, 10)\n",
    "# plt.legend(('Logistic Regression Model', 'Linear Regression Model'),\n",
    "#            loc=\"lower right\", fontsize='small')\n",
    "# plt.tight_layout()\n",
    "# plt.show()"
   ]
  },
  {
   "cell_type": "code",
   "execution_count": null,
   "metadata": {},
   "outputs": [],
   "source": [
    "def fit_t_cdf(y):\n",
    "\n",
    "    \"\"\"Fits a set of cartesian points to the normal cdf\n",
    "\n",
    "    Parameters\n",
    "    ----------\n",
    "    x (int []):  Array of point x-coordinates\n",
    "    n_users (int): Array of point y-coordinates\n",
    "\n",
    "    Returns\n",
    "    -------\n",
    "    params (tuple): Tuple of parameters for the normal cdf\n",
    "    error (float): Least squares error from points given\n",
    "    \"\"\"\n",
    "\n",
    "    x = range(0, len(y))\n",
    "    try:\n",
    "        df = len(y) - 1\n",
    "        f = lambda x, mu,sigma: scipy.stats.t(df).cdf(x)\n",
    "        scipy.optimize.curve_fit(f, x, y)[0]\n",
    "    \n",
    "    except RuntimeError:\n",
    "        print(\"error\")\n",
    "        return \"Error - curve_fit failed\"\n",
    "    \n",
    "    total = 0\n",
    "    for i in x:\n",
    "        error = (y[i] - scipy.stats.t(df).cdf(i))**2\n",
    "        total += error\n",
    "    \n",
    "    mse = total / n\n",
    "    \n",
    "    return scipy.stats.norm(mu,sigma).cdf(x), mse\n",
    "\n",
    "    pass"
   ]
  },
  {
   "cell_type": "code",
   "execution_count": 145,
   "metadata": {},
   "outputs": [
    {
     "ename": "ValueError",
     "evalue": "Unable to determine number of fit parameters.",
     "output_type": "error",
     "traceback": [
      "\u001b[1;31m---------------------------------------------------------------------------\u001b[0m",
      "\u001b[1;31mValueError\u001b[0m                                Traceback (most recent call last)",
      "\u001b[1;32m<ipython-input-145-8d33875ed6af>\u001b[0m in \u001b[0;36m<module>\u001b[1;34m\u001b[0m\n\u001b[0;32m      5\u001b[0m \u001b[1;33m\u001b[0m\u001b[0m\n\u001b[0;32m      6\u001b[0m \u001b[0mf\u001b[0m \u001b[1;33m=\u001b[0m \u001b[1;32mlambda\u001b[0m \u001b[0mx\u001b[0m\u001b[1;33m:\u001b[0m \u001b[0mscipy\u001b[0m\u001b[1;33m.\u001b[0m\u001b[0mstats\u001b[0m\u001b[1;33m.\u001b[0m\u001b[0mt\u001b[0m\u001b[1;33m.\u001b[0m\u001b[0mcdf\u001b[0m\u001b[1;33m(\u001b[0m\u001b[0mdf\u001b[0m\u001b[1;33m)\u001b[0m\u001b[1;33m\u001b[0m\u001b[1;33m\u001b[0m\u001b[0m\n\u001b[1;32m----> 7\u001b[1;33m \u001b[0mscipy\u001b[0m\u001b[1;33m.\u001b[0m\u001b[0moptimize\u001b[0m\u001b[1;33m.\u001b[0m\u001b[0mcurve_fit\u001b[0m\u001b[1;33m(\u001b[0m\u001b[0mf\u001b[0m\u001b[1;33m,\u001b[0m \u001b[0mx\u001b[0m\u001b[1;33m,\u001b[0m \u001b[0my\u001b[0m\u001b[1;33m)\u001b[0m\u001b[1;33m\u001b[0m\u001b[1;33m\u001b[0m\u001b[0m\n\u001b[0m",
      "\u001b[1;32m~\\.virtualenvs\\dsu-mlpp--LhWsJBy\\lib\\site-packages\\scipy\\optimize\\minpack.py\u001b[0m in \u001b[0;36mcurve_fit\u001b[1;34m(f, xdata, ydata, p0, sigma, absolute_sigma, check_finite, bounds, method, jac, **kwargs)\u001b[0m\n\u001b[0;32m    707\u001b[0m         \u001b[0margs\u001b[0m \u001b[1;33m=\u001b[0m \u001b[0msig\u001b[0m\u001b[1;33m.\u001b[0m\u001b[0margs\u001b[0m\u001b[1;33m\u001b[0m\u001b[1;33m\u001b[0m\u001b[0m\n\u001b[0;32m    708\u001b[0m         \u001b[1;32mif\u001b[0m \u001b[0mlen\u001b[0m\u001b[1;33m(\u001b[0m\u001b[0margs\u001b[0m\u001b[1;33m)\u001b[0m \u001b[1;33m<\u001b[0m \u001b[1;36m2\u001b[0m\u001b[1;33m:\u001b[0m\u001b[1;33m\u001b[0m\u001b[1;33m\u001b[0m\u001b[0m\n\u001b[1;32m--> 709\u001b[1;33m             \u001b[1;32mraise\u001b[0m \u001b[0mValueError\u001b[0m\u001b[1;33m(\u001b[0m\u001b[1;34m\"Unable to determine number of fit parameters.\"\u001b[0m\u001b[1;33m)\u001b[0m\u001b[1;33m\u001b[0m\u001b[1;33m\u001b[0m\u001b[0m\n\u001b[0m\u001b[0;32m    710\u001b[0m         \u001b[0mn\u001b[0m \u001b[1;33m=\u001b[0m \u001b[0mlen\u001b[0m\u001b[1;33m(\u001b[0m\u001b[0margs\u001b[0m\u001b[1;33m)\u001b[0m \u001b[1;33m-\u001b[0m \u001b[1;36m1\u001b[0m\u001b[1;33m\u001b[0m\u001b[1;33m\u001b[0m\u001b[0m\n\u001b[0;32m    711\u001b[0m     \u001b[1;32melse\u001b[0m\u001b[1;33m:\u001b[0m\u001b[1;33m\u001b[0m\u001b[1;33m\u001b[0m\u001b[0m\n",
      "\u001b[1;31mValueError\u001b[0m: Unable to determine number of fit parameters."
     ]
    }
   ],
   "source": [
    "df = len(y) - 1\n",
    "\n",
    "x = range(len(find_nPassOverTotal_for_one_beatmap(1762729)))\n",
    "y = find_nPassOverTotal_for_one_beatmap(1762729)\n",
    "\n",
    "f = lambda x: scipy.stats.t.cdf(df)\n",
    "scipy.optimize.curve_fit(f, x, y)\n"
   ]
  },
  {
   "cell_type": "code",
   "execution_count": 20,
   "metadata": {},
   "outputs": [],
   "source": [
    "# Load the curve data"
   ]
  },
  {
   "cell_type": "code",
   "execution_count": 21,
   "metadata": {},
   "outputs": [],
   "source": [
    "# Run all CDF curve fits & store in beatmap_criteria_curve collection"
   ]
  },
  {
   "cell_type": "code",
   "execution_count": 22,
   "metadata": {},
   "outputs": [],
   "source": [
    "# Load the beatmap attribs data"
   ]
  },
  {
   "cell_type": "code",
   "execution_count": null,
   "metadata": {},
   "outputs": [],
   "source": [
    "# Visualisations of correlation between CDF mean/std with attribs"
   ]
  },
  {
   "cell_type": "code",
   "execution_count": null,
   "metadata": {},
   "outputs": [],
   "source": [
    "# fit success-rate summary table with (3 rows 1 for each CDF fit) (4 columns 1* - 4*, 4* - 6*, 6* plus, all)"
   ]
  },
  {
   "cell_type": "code",
   "execution_count": null,
   "metadata": {},
   "outputs": [],
   "source": [
    "# for curves that could be fit, error summary table with same layout as above"
   ]
  },
  {
   "cell_type": "markdown",
   "metadata": {},
   "source": [
    "## Conclusion\n",
    "Don't forget to provide a conclusion"
   ]
  }
 ],
 "metadata": {
  "kernelspec": {
   "display_name": "dsu-mlpp--LhWsJBy",
   "language": "python",
   "name": "dsu-mlpp--lhwsjby"
  },
  "language_info": {
   "codemirror_mode": {
    "name": "ipython",
    "version": 3
   },
   "file_extension": ".py",
   "mimetype": "text/x-python",
   "name": "python",
   "nbconvert_exporter": "python",
   "pygments_lexer": "ipython3",
   "version": "3.8.5"
  }
 },
 "nbformat": 4,
 "nbformat_minor": 2
}
