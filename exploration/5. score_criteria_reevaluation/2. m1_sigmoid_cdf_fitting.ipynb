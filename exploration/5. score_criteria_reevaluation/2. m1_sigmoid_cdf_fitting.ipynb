{
 "cells": [
  {
   "cell_type": "code",
   "execution_count": null,
   "metadata": {},
   "outputs": [],
   "source": [
    "# NOTES FROM MEETING\n",
    "# No cell should take more than 20 minutes to run\n",
    "# Please limit to one temporary collection (must be deleted at end of notebook). No external files\n",
    "# Try to reduce single-line cells\n",
    "\n",
    "# Mini-competition -\n",
    "# Challenge: Limit to 75 lines of code (100 for team 1)! (excluding imports)\n",
    "# Fit Success Rate: Fitting method with highest fit success rate\n",
    "# Fit Average error: Fitting method with lowest fit error rate\n",
    "# Fit Time complexity: Fitting method with lowest time expended\n",
    "# Notebook housekeeping: Cleanest-looking notebook win!"
   ]
  },
  {
   "cell_type": "markdown",
   "metadata": {},
   "source": [
    "# Sigmoid Criteria Curve Fitting: CDF Approach\n",
    "**Contributors:** Karen Nguyen, Sophie Yun, Emily Gong\n",
    "\n",
    "**Achievement:** \n",
    "\n",
    "**Requirements:**\n"
   ]
  },
  {
   "cell_type": "markdown",
   "metadata": {},
   "source": [
    "## Import packages \n",
    "**This is a note:** Please have markdown before each cell. In this format!"
   ]
  },
  {
   "cell_type": "code",
   "execution_count": null,
   "metadata": {},
   "outputs": [],
   "source": [
    "import sys\n",
    "sys.path.append('../..')\n",
    "from pymongo import UpdateOne\n",
    "from pymongo import MongoClient\n",
    "from tqdm import tqdm\n",
    "import matplotlib.pyplot as plt\n",
    "import numpy as np\n",
    "import scipy\n",
    "from scipy.stats import norm \n",
    "from scipy.optimize import curve_fit\n",
    "import seaborn as sns\n",
    "from scipy.stats import t\n",
    "from mlpp.data_modeling.sigmoid_fitting import *\n",
    "import pandas as pd"
   ]
  },
  {
   "cell_type": "markdown",
   "metadata": {},
   "source": [
    "## Instantiate mongo instance, classes, and any config/global vars"
   ]
  },
  {
   "cell_type": "code",
   "execution_count": null,
   "metadata": {},
   "outputs": [],
   "source": [
    "client = MongoClient(port=27017)\n",
    "db = client.osu_random_db\n",
    "bm_ids = list(map(lambda c: c['_id'], db['beatmap_criteria_curve'].find({}, {})))"
   ]
  },
  {
   "cell_type": "markdown",
   "metadata": {},
   "source": [
    "## Load the curve data\n",
    "**Note:** Get total and n_pass under no_mod for all beatmaps"
   ]
  },
  {
   "cell_type": "code",
   "execution_count": null,
   "metadata": {},
   "outputs": [],
   "source": [
    "bm_data = {}\n",
    "for i in bm_ids:\n",
    "    bm_data[i] = list(db['beatmap_criteria_curve'].find({\"_id\": i}, {\"_id\": 0, \"no_mod.total\": 1, \"no_mod.n_pass\": 1}))"
   ]
  },
  {
   "cell_type": "markdown",
   "metadata": {},
   "source": [
    "**Note:** Calculate the n_pass/total for each user with total = 0 removed"
   ]
  },
  {
   "cell_type": "code",
   "execution_count": null,
   "metadata": {},
   "outputs": [],
   "source": [
    "def find_nPassOverTotal_for_one_beatmap (bm):\n",
    "    bm_total_nPass = list (zip (bm_data[bm][0][\"no_mod\"][\"total\"], bm_data[bm][0][\"no_mod\"][\"n_pass\"]))\n",
    "    bm_total_nPass_noZero = [total_nPass for total_nPass in bm_total_nPass if total_nPass[0] != 0]\n",
    "    y = np.asarray(list(zip(*bm_total_nPass_noZero))[1]) / np.asarray(list(zip(*bm_total_nPass_noZero))[0])\n",
    "    return y\n",
    "bm_ys = {}\n",
    "for i in bm_ids:\n",
    "    bm_ys[i] = find_nPassOverTotal_for_one_beatmap (i)"
   ]
  },
  {
   "cell_type": "markdown",
   "metadata": {},
   "source": [
    "## Run all Normal CDF curve fits and store in a collection"
   ]
  },
  {
   "cell_type": "code",
   "execution_count": null,
   "metadata": {},
   "outputs": [],
   "source": [
    "fitted_curves_with_errors = {}\n",
    "\n",
    "for i in bm_ys.keys():\n",
    "    fitted_curves_with_errors[i] = fit_normal_cdf(bm_ys[i])"
   ]
  },
  {
   "cell_type": "code",
   "execution_count": null,
   "metadata": {},
   "outputs": [],
   "source": [
    "# visualization example beatmaps\n",
    "good = 713935\n",
    "fig, (ax1, ax2) = plt.subplots(1, 2, figsize=(15, 5))\n",
    "fig.suptitle('Example of Norm CDF Fits with Low Error Rate VS High Error Rate')\n",
    "x1 = range(len(find_nPassOverTotal_for_one_beatmap(good)))\n",
    "y1 = find_nPassOverTotal_for_one_beatmap(good)\n",
    "ax1.plot(scipy.stats.norm(find_nPassOverTotal_for_one_beatmap(good)[0]).cdf(x1))\n",
    "ax1.scatter(x1, y1, color = \"orange\")\n",
    "ax1.set(ylabel = \"nPass/total\")\n",
    "\n",
    "bad = 848233\n",
    "x2 = range(len(find_nPassOverTotal_for_one_beatmap(bad)))\n",
    "y2 = find_nPassOverTotal_for_one_beatmap(bad)\n",
    "ax2.plot(scipy.stats.norm(find_nPassOverTotal_for_one_beatmap(bad)[0]).cdf(x2))\n",
    "ax2.scatter(x2, y2, color = \"orange\")\n",
    "ax2.set(ylabel = \"nPass/total\")"
   ]
  },
  {
   "cell_type": "code",
   "execution_count": null,
   "metadata": {},
   "outputs": [],
   "source": [
    "unsuccessful_bm = {id: fitAndMse for (id, fitAndMse) in fitted_curves_with_errors.items() if isinstance(fitAndMse, str)}\n",
    "n = len(fitted_curves_with_errors)\n",
    "success_rate = (n - len(unsuccessful_bm))/n\n",
    "avg_mse = np.mean([fitAndMse[1] for (id, fitAndMse) in fitted_curves_with_errors.items() if isinstance(fitAndMse[1], float)])\n",
    "print(\"success rate for all is:\", success_rate)\n",
    "print(\"average mse for all is:\", avg_mse)"
   ]
  },
  {
   "cell_type": "code",
   "execution_count": null,
   "metadata": {},
   "outputs": [],
   "source": [
    "for el in bm_ids: \n",
    "    success = False if el in unsuccessful_bm.keys() else True\n",
    "    mean = None if el in unsuccessful_bm.keys() else fitted_curves_with_errors[el][0][0]\n",
    "    sd = None if el in unsuccessful_bm.keys() else fitted_curves_with_errors[el][0][1]\n",
    "    mse = None if el in unsuccessful_bm.keys() else fitted_curves_with_errors[el][1]\n",
    "    \n",
    "    db.beatmap_criteria_curve.update_one( \n",
    "        {\"_id\" : el},\n",
    "        {\"$set\": {\"no_mod.mlpp.normalCDF.success\" : success,\n",
    "                  \"no_mod.mlpp.normalCDF.params.mean\" : mean,\n",
    "                  \"no_mod.mlpp.normalCDF.params.sd\" : sd,\n",
    "                  \"no_mod.mlpp.normalCDF.mse\" : mse}}\n",
    "    )"
   ]
  },
  {
   "cell_type": "markdown",
   "metadata": {},
   "source": [
    "## Load the beatmap attribs data"
   ]
  },
  {
   "cell_type": "code",
   "execution_count": null,
   "metadata": {},
   "outputs": [],
   "source": [
    "bm_attribs_data = {}\n",
    "for i in bm_ids:\n",
    "    bm_attribs_data[i] = list(db['osu_beatmap_attribs'].find({\"beatmap_id\": i, \"mods\": 0, \"attrib_id\":17}, {\"_id\": 0, \"value\": 1}))"
   ]
  },
  {
   "cell_type": "markdown",
   "metadata": {},
   "source": [
    "## Dataframe of Correlation between CDF mean/std with attribs\n",
    "**Note:** Each beatmap maps the same mean, sd, mse mapped to its different attrib_ids"
   ]
  },
  {
   "cell_type": "code",
   "execution_count": null,
   "metadata": {},
   "outputs": [],
   "source": [
    "# creating a dataframe with rows as bm_ids and columns as mean, std, mse, and star difficulties\n",
    "attrib_array = []\n",
    "mean_array = []\n",
    "sd_array = []\n",
    "mse_array = []\n",
    "successful_ids = [bm for bm in bm_ids if bm not in unsuccessful_bm.keys()]\n",
    "for bm in successful_ids:\n",
    "    attrib_array.append(bm_attribs_data[bm][0][\"value\"])\n",
    "    mean_array.append(fitted_curves_with_errors[bm][0][0]) \n",
    "    sd_array.append(fitted_curves_with_errors[bm][0][1]) \n",
    "    mse_array.append(fitted_curves_with_errors[bm][1])"
   ]
  },
  {
   "cell_type": "code",
   "execution_count": null,
   "metadata": {},
   "outputs": [],
   "source": [
    "new_df = pd.DataFrame(successful_ids)\n",
    "new_df[\"star\"] = np.array(attrib_array)\n",
    "new_df[\"mean\"] = np.array(mean_array)\n",
    "new_df[\"sd\"] = np.array(sd_array)\n",
    "new_df[\"mse\"] = np.array(mse_array)\n",
    "new_df.columns = [\"Successful_ids\", \"Star_difficulties\", \"Mean\", \"Sd\", \"MSE\"]\n",
    "new_df"
   ]
  },
  {
   "cell_type": "markdown",
   "metadata": {},
   "source": [
    "## Summary Table of Success Rate and MSE for Normal CDF Curve Fit"
   ]
  },
  {
   "cell_type": "code",
   "execution_count": null,
   "metadata": {},
   "outputs": [],
   "source": [
    "unsuccessful_attrib_data = bm_attribs_data[list(unsuccessful_bm.keys())[0]]\n",
    "unsuccessful_attrib_array = [id_dict[\"value\"] for id_dict in unsuccessful_attrib_data]\n",
    "\n",
    "unsuccessful_attrib_low = [a for a in unsuccessful_attrib_array if a >= 1 and a < 4]\n",
    "unsuccessful_attrib_med = [a for a in unsuccessful_attrib_array if a >= 4 and a < 6]\n",
    "unsuccessful_attrib_high = [a for a in unsuccessful_attrib_array if a >= 6]\n",
    "\n",
    "successful_attrib_low = [a for a in attrib_array if a >= 1 and a < 4]\n",
    "successful_attrib_med = [a for a in attrib_array if a >= 4 and a < 6]\n",
    "successful_attrib_high = [a for a in attrib_array if a >= 6]"
   ]
  },
  {
   "cell_type": "code",
   "execution_count": null,
   "metadata": {},
   "outputs": [],
   "source": [
    "attrib_and_mse = list(zip(attrib_array, mse_array))\n",
    "error_low_array = [aAndM[1] for aAndM in attrib_and_mse if aAndM[0] >= 1 and aAndM[0] < 4]\n",
    "error_med_array = [aAndM[1] for aAndM in attrib_and_mse if aAndM[0] >= 4 and aAndM[0] < 6]\n",
    "error_high_array = [aAndM[1] for aAndM in attrib_and_mse if aAndM[0] >= 6]\n",
    "success_error_summary = {\n",
    "    \"1-4\": [len(successful_attrib_low) / (len(unsuccessful_attrib_low) + len(successful_attrib_low)), np.mean(error_low_array)],\n",
    "    \"4-6\": [len(successful_attrib_med) / (len(unsuccessful_attrib_med) + len(successful_attrib_med)), np.mean(error_med_array)],\n",
    "    \"6+\": [len(successful_attrib_high) / (len(unsuccessful_attrib_high) + len(successful_attrib_high)), np.mean(error_high_array)],\n",
    "    \"All\": [len(attrib_array) / (len(unsuccessful_attrib_array) + len(attrib_array)), np.mean(mse_array)]\n",
    "}\n",
    "success_error_summary_df = pd.DataFrame(success_error_summary)\n",
    "success_error_summary_df.index = [\"Success_rate\", \"Error_rate\"]"
   ]
  },
  {
   "cell_type": "code",
   "execution_count": null,
   "metadata": {},
   "outputs": [],
   "source": [
    "success_error_summary_df"
   ]
  },
  {
   "cell_type": "markdown",
   "metadata": {},
   "source": [
    "## Run all T CDF curve fits and store in a collection"
   ]
  },
  {
   "cell_type": "code",
   "execution_count": null,
   "metadata": {},
   "outputs": [],
   "source": [
    "fitted_tcdf_with_errors = {}\n",
    "\n",
    "for i in bm_ys.keys():\n",
    "    fitted_tcdf_with_errors[i] = fit_t_cdf(bm_ys[i])"
   ]
  },
  {
   "cell_type": "code",
   "execution_count": null,
   "metadata": {},
   "outputs": [],
   "source": [
    "unsuccessful_bm = {id: fitAndMse for (id, fitAndMse) in fitted_tcdf_with_errors.items() if isinstance(fitAndMse, str)}\n",
    "n = len(fitted_curves_with_errors)\n",
    "success_rate = (n - len(unsuccessful_bm))/n\n",
    "avg_mse = np.mean([fitAndMse[1][0] for (id, fitAndMse) in fitted_tcdf_with_errors.items() if isinstance(fitAndMse[1][0], float)])\n",
    "print(\"success rate for all is:\", success_rate)\n",
    "print(\"average mse for all is:\", avg_mse)"
   ]
  },
  {
   "cell_type": "code",
   "execution_count": null,
   "metadata": {},
   "outputs": [],
   "source": [
    "good = 1262009\n",
    "fig, (ax1, ax2) = plt.subplots(1, 2, figsize=(15, 5))\n",
    "fig.suptitle('Example of T-CDF Fits with Low Error Rate VS High Error Rate')\n",
    "x1 = range(len(find_nPassOverTotal_for_one_beatmap(good)))\n",
    "y1 = find_nPassOverTotal_for_one_beatmap(good)\n",
    "df1,mse1 = fit_t_cdf(y1)\n",
    "ax1.plot(scipy.stats.t(df1).cdf(x1), label = \"T CDF\")\n",
    "ax1.plot(scipy.stats.norm(find_nPassOverTotal_for_one_beatmap(good)[0]).cdf(x1), color = \"red\", label = \"Normal CDF\")\n",
    "ax1.scatter(x1, y1, color = \"orange\")\n",
    "ax1.set(ylabel = \"nPass/total\")\n",
    "leg1 = ax1.legend();\n",
    "\n",
    "bad = 848233\n",
    "x2 = range(len(find_nPassOverTotal_for_one_beatmap(bad)))\n",
    "y2 = find_nPassOverTotal_for_one_beatmap(bad)\n",
    "df2,mse2 = fit_t_cdf(y2)\n",
    "ax2.plot(scipy.stats.t(df2).cdf(x2), label = \"T CDF\")\n",
    "ax2.plot(scipy.stats.norm(find_nPassOverTotal_for_one_beatmap(bad)[0]).cdf(x2), color =  \"red\", label = \"Normal CDF\")\n",
    "ax2.scatter(x2, y2, color = \"orange\")\n",
    "ax2.set(ylabel = \"nPass/total\")\n",
    "leg2 = ax2.legend()"
   ]
  },
  {
   "cell_type": "code",
   "execution_count": null,
   "metadata": {},
   "outputs": [],
   "source": [
    "for el in bm_ids: \n",
    "    success = False if el in unsuccessful_bm.keys() else True\n",
    "    df = None if el in unsuccessful_bm.keys() else fitted_tcdf_with_errors[el][0][0]\n",
    "    mse = None if el in unsuccessful_bm.keys() else fitted_tcdf_with_errors[el][1][0]\n",
    "    \n",
    "    db.beatmap_criteria_curve.update_one( \n",
    "        {\"_id\" : el},\n",
    "        {\"$set\": {\"no_mod.mlpp.tCDF.success\" : success,\n",
    "                  \"no_mod.mlpp.tCDF.params.df\" : df,\n",
    "                  \"no_mod.mlpp.tCDF.mse\" : mse}}\n",
    "    )"
   ]
  }
 ],
 "metadata": {
  "kernelspec": {
   "display_name": "Python 3",
   "language": "python",
   "name": "python3"
  },
  "language_info": {
   "codemirror_mode": {
    "name": "ipython",
    "version": 3
   },
   "file_extension": ".py",
   "mimetype": "text/x-python",
   "name": "python",
   "nbconvert_exporter": "python",
   "pygments_lexer": "ipython3",
   "version": "3.9.1"
  }
 },
 "nbformat": 4,
 "nbformat_minor": 2
}
