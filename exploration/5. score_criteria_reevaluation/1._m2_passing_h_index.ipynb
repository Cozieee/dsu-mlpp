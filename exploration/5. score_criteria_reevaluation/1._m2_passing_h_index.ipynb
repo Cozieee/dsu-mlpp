{
 "cells": [
  {
   "cell_type": "code",
   "execution_count": null,
   "metadata": {},
   "outputs": [],
   "source": [
    "import sys\n",
    "sys.path.append('../..')\n",
    "import numpy as np\n",
    "import matplotlib.pyplot as plt\n",
    "import math\n",
    "from exploration.config import mongo_inst"
   ]
  },
  {
   "cell_type": "code",
   "execution_count": null,
   "metadata": {},
   "outputs": [],
   "source": [
    "osu_db = mongo_inst['osu_random_db']"
   ]
  },
  {
   "cell_type": "code",
   "execution_count": null,
   "metadata": {},
   "outputs": [],
   "source": [
    "love = osu_db['beatmap_criteria_curve'].find_one({'_id': 104229})"
   ]
  },
  {
   "cell_type": "code",
   "execution_count": null,
   "metadata": {},
   "outputs": [],
   "source": [
    "plt.plot(np.asarray(love['no_mod']['n_pass'])/np.asarray(love['no_mod']['total']))"
   ]
  },
  {
   "cell_type": "code",
   "execution_count": null,
   "metadata": {},
   "outputs": [],
   "source": [
    "bm_popularity_pipeline = [\n",
    "    {\n",
    "        '$group': {\n",
    "            '_id': '$beatmap_id',\n",
    "            'count': {\n",
    "                '$sum': 1\n",
    "            }\n",
    "        }\n",
    "    },\n",
    "    {\n",
    "        '$sort': {\n",
    "            'count': -1\n",
    "        }\n",
    "    }\n",
    "]"
   ]
  },
  {
   "cell_type": "code",
   "execution_count": null,
   "metadata": {},
   "outputs": [],
   "source": [
    "top_bm = list(osu_db['osu_scores_high'].aggregate(bm_popularity_pipeline))"
   ]
  },
  {
   "cell_type": "code",
   "execution_count": null,
   "metadata": {},
   "outputs": [],
   "source": [
    "for i, bm in enumerate(top_bm):\n",
    "    if bm['_id'] == 131891:\n",
    "        print(i)"
   ]
  },
  {
   "cell_type": "code",
   "execution_count": null,
   "metadata": {},
   "outputs": [],
   "source": [
    "bins = [[] for i in range(7)]\n",
    "cnt = 0\n",
    "for bm in top_bm:\n",
    "    bm_info = osu_db['osu_beatmaps'].find_one({'_id': bm['_id']})\n",
    "    if bm_info['difficultyrating'] < 1:\n",
    "        continue\n",
    "\n",
    "    b_i = min(math.floor(bm_info['difficultyrating']) - 1, 6)\n",
    "\n",
    "    if len(bins[b_i]) < 5:\n",
    "        bins[b_i].append([bm, bm_info['difficultyrating']])\n",
    "        cnt += 1\n",
    "    if cnt == 35:\n",
    "        break"
   ]
  },
  {
   "cell_type": "code",
   "execution_count": null,
   "metadata": {},
   "outputs": [],
   "source": [
    "for bin in bins:\n",
    "    bin.sort(key = lambda x: x[1])"
   ]
  },
  {
   "cell_type": "code",
   "execution_count": null,
   "metadata": {},
   "outputs": [],
   "source": [
    "for i, bin in enumerate(bins):\n",
    "    print(f\"\\nMost popular {i + 1}* - {i + 2}* beatmaps:\")\n",
    "    for bm, _ in bin:\n",
    "        compute_bm(bm)"
   ]
  },
  {
   "cell_type": "code",
   "execution_count": null,
   "metadata": {},
   "outputs": [],
   "source": [
    "def compute_acc(score):\n",
    "    c50, c100, c300, cmiss = score['count50'], score['count100'], score['count300'], score['countmiss']\n",
    "    return (c50 / 6 + c100 / 3 + c300) / (c50 + c100 + c300 + cmiss)"
   ]
  },
  {
   "cell_type": "code",
   "execution_count": null,
   "metadata": {},
   "outputs": [],
   "source": [
    "compute_bm({'_id': 2596018})"
   ]
  },
  {
   "cell_type": "code",
   "execution_count": null,
   "metadata": {},
   "outputs": [],
   "source": [
    "def compute_bm(bm):\n",
    "    bm_id = bm['_id']\n",
    "\n",
    "    bm_scores = list(osu_db['osu_scores_high'].find({'beatmap_id': bm_id, 'enabled_mods': 0}, {'count50': 1, 'count100': 1, 'count300': 1, 'countmiss': 1, 'mlpp.est_user_pp': 1}))\n",
    "    bm = osu_db['osu_beatmaps'].find_one({'_id': bm_id})\n",
    "\n",
    "    acc_scores = np.array([[s['mlpp']['est_user_pp'], compute_acc(s)] for s in bm_scores])\n",
    "    est_pp, acc = acc_scores.T\n",
    "    est_pp.sort()\n",
    "\n",
    "    eval = est_pp[len(acc_scores) - np.sum(acc > .9)]\n",
    "\n",
    "    diff, name = bm['difficultyrating'], bm['filename']\n",
    "\n",
    "    print(f'({bm_id}) {diff}* {name} - {eval}')"
   ]
  },
  {
   "cell_type": "code",
   "execution_count": null,
   "metadata": {},
   "outputs": [],
   "source": [
    "MIN_ACC, PP_RANGE, PP_INTERVAL, MAX_PP = .9, 200, 50, 10000\n",
    "INTERVALS = math.ceil((MAX_PP - PP_RANGE) / PP_INTERVAL)"
   ]
  },
  {
   "cell_type": "code",
   "execution_count": null,
   "metadata": {},
   "outputs": [],
   "source": [
    "acc_scores = np.array([[s['mlpp']['est_user_pp'], compute_acc(s)] for s in bm_scores])\n",
    "# est_pp, acc = acc_scores[np.argsort(acc_scores[:, 0])].T\n",
    "est_pp, acc = acc_scores.T\n",
    "acc = acc > MIN_ACC"
   ]
  },
  {
   "cell_type": "code",
   "execution_count": null,
   "metadata": {},
   "outputs": [],
   "source": [
    "np.sort(est_pp)[len(acc) - np.sum(acc)]"
   ]
  },
  {
   "cell_type": "code",
   "execution_count": null,
   "metadata": {},
   "outputs": [],
   "source": [
    "total, n_pass = np.zeros(INTERVALS), np.zeros(INTERVALS)\n",
    "j_s, j_e = 0, 0\n",
    "\n",
    "for i in range(INTERVALS):\n",
    "    b = i * PP_INTERVAL\n",
    "\n",
    "    while j_s < len(est_pp) - 1 and est_pp[j_s] < b:\n",
    "        j_s+=1\n",
    "    \n",
    "    while j_e < len(est_pp) - 1 and est_pp[j_e] < b + PP_RANGE:\n",
    "        j_e+=1\n",
    "    \n",
    "    total[i] = j_e - j_s\n",
    "    n_pass[i] = acc[j_e] - acc[j_s]"
   ]
  },
  {
   "cell_type": "code",
   "execution_count": null,
   "metadata": {},
   "outputs": [],
   "source": [
    "total, n_pass = np.zeros(INTERVALS), np.zeros(INTERVALS)\n",
    "\n",
    "for i in range(INTERVALS):\n",
    "    b = i * PP_INTERVAL\n",
    "\n",
    "    for j in range(len(est_pp)):\n",
    "        if b < est_pp[j] < b + PP_RANGE:\n",
    "            total[i] += 1\n",
    "            n_pass[i] += acc[j]"
   ]
  },
  {
   "cell_type": "code",
   "execution_count": null,
   "metadata": {},
   "outputs": [],
   "source": [
    "x = np.arange(0, INTERVALS) * PP_INTERVAL\n",
    "plt.plot(x, n_pass / total)"
   ]
  }
 ],
 "metadata": {
  "kernelspec": {
   "display_name": "Python 3",
   "language": "python",
   "name": "python3"
  },
  "language_info": {
   "codemirror_mode": {
    "name": "ipython"
   },
   "file_extension": ".py",
   "mimetype": "text/x-python",
   "name": "python",
   "nbconvert_exporter": "python"
  }
 },
 "nbformat": 4,
 "nbformat_minor": 2
}
