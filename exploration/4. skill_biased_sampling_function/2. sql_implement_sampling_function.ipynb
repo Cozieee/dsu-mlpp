{
 "cells": [
  {
   "cell_type": "code",
   "execution_count": null,
   "metadata": {},
   "outputs": [],
   "source": [
    "import numpy as np\n",
    "from exploration.config import sql_inst, mongo_inst\n",
    "from mlpp.data_collection.sample import ScoresSubset\n",
    "import matplotlib.pyplot as plt\n",
    "from datetime import datetime\n",
    "from mlpp.data_collection.sample_func import displacement_err, SampleConfig, SampleFunctionGenerator as SFG"
   ]
  },
  {
   "cell_type": "code",
   "execution_count": null,
   "metadata": {},
   "outputs": [],
   "source": [
    " val_random_db = mongo_inst['val_random_db']\n",
    " val_dump = (val_random_db['osu_scores_high'], val_random_db['osu_user_stats'])"
   ]
  },
  {
   "cell_type": "code",
   "execution_count": null,
   "metadata": {},
   "outputs": [],
   "source": [
    "pp, users = osu_subset.simulate(greedy_func, SAMPLE_CONFIG, True)"
   ]
  },
  {
   "cell_type": "code",
   "execution_count": 21,
   "metadata": {},
   "outputs": [
    {
     "name": "stderr",
     "output_type": "stream",
     "text": [
      "<ipython-input-21-4cb685e5eb82>:1: DeprecationWarning: insert is deprecated. Use insert_one or insert_many instead.\n",
      "  osu_random_db['week_9_sample_users'].insert({'users': users})\n"
     ]
    },
    {
     "data": {
      "text/plain": [
       "ObjectId('603fdb3375058936341ccde8')"
      ]
     },
     "execution_count": 21,
     "metadata": {},
     "output_type": "execute_result"
    }
   ],
   "source": [
    "osu_random_db['week_9_sample_users'].insert({'users': users})"
   ]
  },
  {
   "cell_type": "code",
   "execution_count": null,
   "metadata": {},
   "outputs": [],
   "source": [
    "values = list(enumerate(_func))"
   ]
  },
  {
   "cell_type": "code",
   "execution_count": null,
   "metadata": {},
   "outputs": [],
   "source": [
    "with sql_inst('osu_random_2021_02') as conn:\n",
    "    with conn.cursor() as cursor:\n",
    "        cursor.execute(\n",
    "            '''\n",
    "            DROP TABLE IF EXISTS sample_func;\n",
    "            CREATE TABLE sample_func  (user_pp INT PRIMARY KEY, probability FLOAT NOT NULL);\n",
    "            ALTER TABLE sample_func AUTO_INCREMENT=100;\n",
    "            '''\n",
    "        )\n",
    "    conn.commit()\n",
    "\n",
    "    with conn.cursor() as cursor:\n",
    "        cursor.executemany(\n",
    "            '''\n",
    "            INSERT INTO sample_func VALUES\n",
    "            (%s, %s)\n",
    "            '''\n",
    "        , values)\n",
    "    conn.commit()"
   ]
  },
  {
   "cell_type": "code",
   "execution_count": null,
   "metadata": {},
   "outputs": [],
   "source": [
    "from datetime import datetime\n",
    "from mlpp.data_collection.sample_func import sampleFuncGenerator\n",
    "\n",
    "with sql_inst('osu_random_2021_02') as conn:\n",
    "    with conn.cursor() as cursor:\n",
    "        cursor.execute(\n",
    "            '''\n",
    "            SELECT * FROM osu_user_stats\n",
    "            WHERE rank_score < 7000 AND RAND() <= (\n",
    "                SELECT probability FROM sample_func\n",
    "                WHERE user_pp = FLOOR(rank_score)\n",
    "                LIMIT 1\n",
    "            )\n",
    "            '''\n",
    "        )\n",
    "\n",
    "        sampled_users = [u[0] for u in cursor]\n",
    "        print(sampled_users)\n",
    "\n",
    "        sampled_scores = list(\n",
    "            mongo_inst['val_random_db']['osu_scores_high'].find({\n",
    "                'user_id': {\n",
    "                    '$in': sampled_users\n",
    "                },\n",
    "                'date': {\n",
    "                    '$gt': datetime(2019, 1, 1)\n",
    "                }\n",
    "            }, {'mlpp.est_user_pp': 1})\n",
    "        )\n",
    "\n",
    "        data = list(map(lambda s: s['mlpp']['est_user_pp'],sampled_scores))\n",
    "\n",
    "        print(sampleFuncGenerator.prop_displaced(data))\n",
    "    "
   ]
  },
  {
   "cell_type": "code",
   "execution_count": null,
   "metadata": {},
   "outputs": [],
   "source": [
    "NUM_BINS = 200\n",
    "MAX_PP = 7000\n",
    "DATE_LIMIT = datetime(2019,1,1)\n",
    "\n",
    "generator = sampleFuncGenerator(date_limit = DATE_LIMIT, max_pp = MAX_PP, n_bins = NUM_BINS)"
   ]
  },
  {
   "cell_type": "code",
   "execution_count": null,
   "metadata": {},
   "outputs": [],
   "source": [
    "def simulate_fit(fit, dump = osu_dump):\n",
    "    sc, _ = generator.simulate(*dump, fit)\n",
    "    score_pp = list(map(lambda s: s['mlpp']['est_user_pp'], sc))\n",
    "    return score_pp"
   ]
  },
  {
   "cell_type": "code",
   "execution_count": null,
   "metadata": {},
   "outputs": [],
   "source": [
    "sample = simulate_fit(greedy_func, val_dump)\n",
    "cap = len(sample) / 50"
   ]
  },
  {
   "cell_type": "code",
   "execution_count": null,
   "metadata": {},
   "outputs": [],
   "source": [
    "len(sample)/ val_dump[0].count()"
   ]
  },
  {
   "cell_type": "code",
   "execution_count": null,
   "metadata": {},
   "outputs": [],
   "source": [
    "users_7k_up = [u['_id'] for u in val_dump[1].find({'rank_score': {'$gt': 7000}}, {'_id': 1})]"
   ]
  },
  {
   "cell_type": "code",
   "execution_count": null,
   "metadata": {},
   "outputs": [],
   "source": [
    "random_scores_pipeline = [\n",
    "    {'$match': {\n",
    "        'date': {'$gt': datetime(2019, 1, 1)},\n",
    "        'user_id': {'$nin': users_7k_up}\n",
    "    }},\n",
    "    {'$sample': {'size': len(sample)}},\n",
    "    {'$project': {'mlpp': {'est_user_pp': 1}}}\n",
    "]"
   ]
  },
  {
   "cell_type": "code",
   "execution_count": null,
   "metadata": {},
   "outputs": [],
   "source": [
    "random_sample = [s['mlpp']['est_user_pp'] for s in val_dump[0].aggregate(random_scores_pipeline)]"
   ]
  },
  {
   "cell_type": "code",
   "execution_count": null,
   "metadata": {},
   "outputs": [],
   "source": [
    "sampleFuncGenerator.prop_displaced(sample)"
   ]
  },
  {
   "cell_type": "code",
   "execution_count": null,
   "metadata": {},
   "outputs": [],
   "source": [
    "import matplotlib.pyplot as plt\n",
    "\n",
    "fig, axs = plt.subplots(1, 2, figsize = (20, 8))\n",
    "axs[0].hist(random_sample, bins = 50)\n",
    "axs[0].plot([0, 7000], [cap, cap])\n",
    "axs[0].set_title('Random 1% sample')\n",
    "axs[0].annotate(f'Error: 40.6%', [5500, 5000], fontsize=20)\n",
    "axs[0].set(xlabel = 'Score est user PP', ylabel='Count')\n",
    "axs[1].hist(sample, bins = 50)\n",
    "axs[1].plot([0, 7000], [cap, cap])\n",
    "axs[1].annotate(f'Error: 12.4%', [5500, 1500], fontsize=20)\n",
    "axs[1].set_title('Sampling function 1% sample')\n",
    "axs[1].set(xlabel = 'Score est user PP', ylabel='Count')"
   ]
  }
 ],
 "metadata": {
  "kernelspec": {
   "display_name": "dsu-mlpp-KBwWrVww",
   "language": "python",
   "name": "dsu-mlpp-kbwwrvww"
  },
  "language_info": {
   "codemirror_mode": {
    "name": "ipython",
    "version": 3
   },
   "file_extension": ".py",
   "mimetype": "text/x-python",
   "name": "python",
   "nbconvert_exporter": "python",
   "pygments_lexer": "ipython3",
   "version": "3.8.6"
  }
 },
 "nbformat": 4,
 "nbformat_minor": 2
}
