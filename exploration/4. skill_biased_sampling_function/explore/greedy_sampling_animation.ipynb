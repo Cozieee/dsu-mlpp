{
 "cells": [
  {
   "cell_type": "code",
   "execution_count": null,
   "metadata": {},
   "outputs": [],
   "source": [
    "%load_ext autoreload\n",
    "%autoreload 2"
   ]
  },
  {
   "cell_type": "code",
   "execution_count": null,
   "metadata": {},
   "outputs": [],
   "source": [
    "import sys\n",
    "sys.path.append('../..')\n",
    "import numpy as np\n",
    "from datetime import datetime\n",
    "import matplotlib.pyplot as plt\n",
    "import matplotlib.animation as animation\n",
    "from exploration.config import mongo_inst\n",
    "from mlpp.data_collection.sample import ScoresSubset\n",
    "from mlpp.data_collection.sample_func import SampleConfig, SampleFunctionGenerator as SFG"
   ]
  },
  {
   "cell_type": "code",
   "execution_count": null,
   "metadata": {},
   "outputs": [],
   "source": [
    "NUM_BINS = 200\n",
    "MAX_PP = 7000\n",
    "DATE_LIMIT = datetime(2019,1,1)\n",
    "SAMPLE_CONFIG = SampleConfig(date_limit = DATE_LIMIT, max_pp = MAX_PP, n_bins = NUM_BINS)\n",
    "\n",
    "osu_random_db = mongo_inst['osu_random_db']\n",
    "osu_subset = ScoresSubset(osu_random_db['osu_scores_high'], osu_random_db['osu_user_stats'])\n",
    "\n",
    "generator = SFG(osu_subset, SAMPLE_CONFIG)"
   ]
  },
  {
   "cell_type": "code",
   "execution_count": null,
   "metadata": {},
   "outputs": [],
   "source": [
    "greedy_sample_func, predicted_uniformity_arr, bins_hist = generator.greedy(.01)"
   ]
  },
  {
   "cell_type": "code",
   "execution_count": null,
   "metadata": {},
   "outputs": [],
   "source": [
    "%matplotlib notebook\n",
    "\n",
    "bins = np.linspace(0, MAX_PP, num=NUM_BINS + 1, dtype=int)\n",
    "\n",
    "def animate(i):\n",
    "    plt.cla()\n",
    "    plt.title(\"Greedy Sampling on decreasing PP ranges\")\n",
    "    plt.xlabel(\"Score est pp\")\n",
    "    plt.ylabel(\"Count included\")\n",
    "    plt.hist(bins[:-1], NUM_BINS, weights = bins_hist[i])\n",
    "    plt.ylim([0, 1000])\n",
    "    high = int(MAX_PP * (1 - i / NUM_BINS))\n",
    "    low = int(high - MAX_PP / NUM_BINS)\n",
    "    plt.gca().annotate(f'range={low}-{high}', [5000, 3800])\n",
    "\n",
    "fig = plt.figure()\n",
    "\n",
    "ani = animation.FuncAnimation(fig, animate, frames=NUM_BINS, save_count=NUM_BINS, repeat = False)\n",
    "ani.save(\"greedy_sampling_progression.gif\", fps = 30)"
   ]
  }
 ],
 "metadata": {
  "kernelspec": {
   "display_name": "Python 3",
   "language": "python",
   "name": "python3"
  },
  "language_info": {
   "codemirror_mode": {
    "name": "ipython"
   },
   "file_extension": ".py",
   "mimetype": "text/x-python",
   "name": "python",
   "nbconvert_exporter": "python"
  }
 },
 "nbformat": 4,
 "nbformat_minor": 2
}
