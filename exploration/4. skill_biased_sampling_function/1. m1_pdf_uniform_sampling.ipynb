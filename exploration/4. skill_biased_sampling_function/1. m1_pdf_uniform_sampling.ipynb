{
 "cells": [
  {
   "cell_type": "markdown",
   "metadata": {},
   "source": [
    "# Naive Sampling function - Sample with uniform estimate user pp scores\n",
    "**Contributors:** Victor Lin"
   ]
  },
  {
   "cell_type": "code",
   "execution_count": null,
   "metadata": {},
   "outputs": [],
   "source": [
    "import sys\n",
    "sys.path.append('../..')\n",
    "from datetime import datetime\n",
    "import matplotlib.pyplot as plt\n",
    "import numpy as np\n",
    "import scipy.stats as st\n",
    "from exploration.config import mongo_inst\n",
    "from mlpp.data_collection.sample import use_random_sample, get_custom_user_ids\n",
    "from mlpp.data_collection.sample_func import sampleFuncGenerator\n",
    "from mlpp.data_collection.distributions import best_fit_distribution\n",
    "\n",
    "import logging\n",
    "logger = logging.getLogger()\n",
    "logger.setLevel(logging.DEBUG)"
   ]
  },
  {
   "cell_type": "code",
   "execution_count": null,
   "metadata": {},
   "outputs": [],
   "source": [
    "osu_random_db = mongo_inst['osu_random_db']\n",
    "\n",
    "osu_dump = (osu_random_db['osu_scores_high'], osu_random_db['osu_user_stats'])\n",
    "osu_scores_high, osu_user_stats = osu_dump\n",
    "\n",
    "pdf_dump = (osu_random_db['scores_sample_3k'], osu_random_db['users_sample_3k'])\n",
    "pdf_scores_sample, pdf_users_sample = pdf_dump\n",
    "\n",
    "DATE_LIMIT = datetime(2019,1,1)\n",
    "\n",
    "generator = sampleFuncGenerator(date_limit = DATE_LIMIT)"
   ]
  },
  {
   "cell_type": "code",
   "execution_count": null,
   "metadata": {},
   "outputs": [],
   "source": [
    "user_ids = use_random_sample(*osu_dump, *pdf_dump, 3000)"
   ]
  },
  {
   "cell_type": "code",
   "execution_count": null,
   "metadata": {},
   "outputs": [],
   "source": [
    "scores = list(pdf_scores_sample.find({'date': {'$gt': DATE_LIMIT}}, {'mlpp': 1, '_id': 0}))\n",
    "\n",
    "pp_data_raw = [s['mlpp']['est_user_raw_pp'] for s in scores]\n",
    "pp_data = [s['mlpp']['est_user_pp'] for s in scores]"
   ]
  },
  {
   "cell_type": "code",
   "execution_count": null,
   "metadata": {},
   "outputs": [],
   "source": [
    "fig, axs = plt.subplots(1, 2)\n",
    "fig.set_figwidth(15)\n",
    "_ = axs[0].hist(pp_data_raw, bins = 200)\n",
    "_ = axs[1].hist(pp_data, bins = 200)"
   ]
  },
  {
   "cell_type": "code",
   "execution_count": null,
   "metadata": {},
   "outputs": [],
   "source": [
    "# best_dist, best_params = best_fit_distribution(pp_data)\n",
    "\n",
    "best_dist = st.recipinvgauss\n",
    "best_params = best_dist.fit(pp_data)"
   ]
  },
  {
   "cell_type": "code",
   "execution_count": null,
   "metadata": {},
   "outputs": [],
   "source": [
    "arg = best_params[:-2]\n",
    "loc = best_params[-2]\n",
    "scale = best_params[-1]\n",
    "pdf = lambda i: best_dist.pdf(i, loc=loc, scale=scale, *arg)"
   ]
  },
  {
   "cell_type": "code",
   "execution_count": null,
   "metadata": {},
   "outputs": [],
   "source": [
    "plt.figure(figsize=(10,6))\n",
    "\n",
    "est_pp_pdf = best_dist.pdf(np.arange(1, 7000), loc=loc, scale=scale, *arg)\n",
    "\n",
    "_ = plt.hist(pp_data, bins = 200, density=True)\n",
    "_ = plt.plot(est_pp_pdf)"
   ]
  },
  {
   "cell_type": "code",
   "execution_count": null,
   "metadata": {},
   "outputs": [],
   "source": [
    "SAMPLE_PROPORTIONS = np.asarray([.01, .02, .05, .1])\n",
    "pcnts = [int(prop * 100) for prop in SAMPLE_PROPORTIONS]\n",
    "\n",
    "sample_funcs = [generator.pdf(pdf_scores_sample, st.recipinvgauss, prop) for prop in SAMPLE_PROPORTIONS]"
   ]
  },
  {
   "cell_type": "code",
   "execution_count": null,
   "metadata": {},
   "outputs": [],
   "source": [
    "for i, f in enumerate(sample_funcs):\n",
    "    plt.plot(f, label = f'{pcnts[i]}%')\n",
    "\n",
    "_ = plt.legend(loc='upper left')"
   ]
  },
  {
   "cell_type": "code",
   "execution_count": null,
   "metadata": {},
   "outputs": [],
   "source": [
    "def test_pcnt_sampled(sample_func):\n",
    "    sampled_users = get_custom_user_ids(osu_user_stats, sample_func)\n",
    "\n",
    "    sampled_scores = osu_scores_high.find({\n",
    "            'user_id': {\n",
    "                '$in': sampled_users\n",
    "            },\n",
    "            'date': {\n",
    "                '$gt': DATE_LIMIT\n",
    "            }\n",
    "    }, {'mlpp.est_user_pp': 1})\n",
    "\n",
    "    return sampled_scores.count() / osu_scores_high.count()"
   ]
  },
  {
   "cell_type": "code",
   "execution_count": null,
   "metadata": {},
   "outputs": [],
   "source": [
    "from tqdm import tqdm\n",
    "pcnt_1_avg_of_expected = sum(test_pcnt_sampled(sample_funcs[0]) / .01 for i in tqdm(range(10))) / 10\n",
    "pcnt_2_avg_of_expected = sum(test_pcnt_sampled(sample_funcs[1]) / .02 for i in tqdm(range(10))) / 10\n",
    "\n",
    "print(f'\\n\\nProportion of expected 1%: {pcnt_1_avg_of_expected:.2f}')\n",
    "print(f'Proportion of expected 2%: {pcnt_2_avg_of_expected:.2f}')"
   ]
  },
  {
   "cell_type": "code",
   "execution_count": null,
   "metadata": {},
   "outputs": [],
   "source": [
    "PROP_BONUS_FACTOR = 1 / pcnt_1_avg_of_expected\n",
    "SAMPLE_PROPORTIONS *= PROP_BONUS_FACTOR\n",
    "\n",
    "sample_funcs = [sampleFuncGenerator().pdf(pdf_scores_sample, st.recipinvgauss, prop) for prop in SAMPLE_PROPORTIONS]"
   ]
  },
  {
   "cell_type": "code",
   "execution_count": null,
   "metadata": {},
   "outputs": [],
   "source": [
    "samples = []\n",
    "\n",
    "for i, f in enumerate(sample_funcs):\n",
    "    samples.append(generator.test_sample_func(*osu_dump, sample_funcs[i]))\n",
    "\n",
    "    scores = samples[-1][0]\n",
    "    pcnt_scores = 100 * len(scores) / osu_scores_high.count()\n",
    "    print(f\"{pcnts[i]}% Sampling: {pcnt_scores:.2f}% sampled\")\n",
    "\n",
    "score_pp = [[s['mlpp']['est_user_pp'] for s in sc] for sc, u in samples]"
   ]
  },
  {
   "cell_type": "code",
   "execution_count": null,
   "metadata": {},
   "outputs": [],
   "source": [
    "fig, axs = plt.subplots(4, figsize=(6, 18))\n",
    "\n",
    "for i in range(len(SAMPLE_PROPORTIONS)):\n",
    "    ax = axs[i]\n",
    "    ax.hist(score_pp[i], bins = 50, label = f'{pcnts[i]}%', density = True)\n",
    "    ax.plot([0, 7000], [1/7000, 1/7000])\n",
    "    ax.set(xlabel = \"Proportion\", ylabel=\"Score est pp\")\n",
    "    ax.set_title(f'{pcnts[i]}% Sample')\n",
    "\n",
    "_ = plt.tight_layout()"
   ]
  }
 ],
 "metadata": {
  "kernelspec": {
   "display_name": "Python 3",
   "language": "python",
   "name": "python3"
  },
  "language_info": {
   "codemirror_mode": {
    "name": "ipython"
   },
   "file_extension": ".py",
   "mimetype": "text/x-python",
   "name": "python",
   "nbconvert_exporter": "python"
  }
 },
 "nbformat": 4,
 "nbformat_minor": 2
}
