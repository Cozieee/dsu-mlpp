{
 "cells": [
  {
   "cell_type": "code",
   "execution_count": null,
   "metadata": {},
   "outputs": [],
   "source": [
    "%load_ext autoreload\n",
    "%autoreload 2"
   ]
  },
  {
   "cell_type": "code",
   "execution_count": null,
   "metadata": {},
   "outputs": [],
   "source": [
    "import numpy as np\n",
    "from tqdm import tqdm\n",
    "import matplotlib.pyplot as plt\n",
    "from scipy.optimize import minimize\n",
    "from scipy.interpolate import UnivariateSpline as uvspline\n",
    "from datetime import datetime\n",
    "from exploration.config import mongo_inst\n",
    "from mlpp.data_collection.sample_func import sampleFuncGenerator as sfg"
   ]
  },
  {
   "cell_type": "code",
   "execution_count": null,
   "metadata": {},
   "outputs": [],
   "source": [
    " NUM_BINS = 200\n",
    "MAX_PP = 7000\n",
    "DATE_LIMIT = datetime(2019,1,1)\n",
    "\n",
    "osu_random_db = mongo_inst['osu_random_db']\n",
    "\n",
    "osu_dump = (osu_random_db['osu_scores_high'], osu_random_db['osu_user_stats'])\n",
    "osu_scores_high, osu_user_stats = osu_dump\n",
    "\n",
    "val_random_db = mongo_inst['val_random_db']\n",
    "val_dump = (val_random_db['osu_scores_high'], val_random_db['osu_user_stats'])\n",
    "\n",
    "generator = sfg(date_limit = DATE_LIMIT, max_pp = MAX_PP, n_bins = NUM_BINS)"
   ]
  },
  {
   "cell_type": "code",
   "execution_count": null,
   "metadata": {},
   "outputs": [],
   "source": [
    "cache = np.zeros((NUM_BINS, NUM_BINS))\n",
    "\n",
    "for i in tqdm(range(NUM_BINS)):\n",
    "    j = i * 35\n",
    "\n",
    "    u_bins_score_cnt = np.zeros(NUM_BINS)\n",
    "    pipeline = generator.range_score_hist_pipeline(val_dump[1], j, j + 35)\n",
    "\n",
    "    for bin_cnt in val_dump[0].aggregate(pipeline):\n",
    "        cache[i][int(bin_cnt['_id'])] = bin_cnt['count']"
   ]
  },
  {
   "cell_type": "code",
   "execution_count": null,
   "metadata": {},
   "outputs": [],
   "source": [
    "A = cache.T\n",
    "b = np.full(200, val_dump[0].count() / NUM_BINS * .01)\n",
    "n = len(b)"
   ]
  },
  {
   "cell_type": "code",
   "execution_count": null,
   "metadata": {},
   "outputs": [],
   "source": [
    "bounds = np.column_stack((pdf_fit[::35]*.25, np.full(NUM_BINS, .5)) )"
   ]
  },
  {
   "cell_type": "code",
   "execution_count": null,
   "metadata": {},
   "outputs": [],
   "source": [
    "fun_reg = lambda x: np.linalg.norm(np.dot(A,x)-b)\n",
    "fun_mse = lambda x: np.linalg.norm(((np.dot(A,x)-b) ** 2).mean())\n",
    "\n",
    "sol_reg = minimize(fun_reg, np.zeros(n), method='L-BFGS-B', bounds=bounds)\n",
    "sol_mse = minimize(fun_mse, np.zeros(n), method='L-BFGS-B', bounds=bounds)"
   ]
  },
  {
   "cell_type": "code",
   "execution_count": null,
   "metadata": {},
   "outputs": [],
   "source": [
    "y_reg, y_mse = sol_reg['x'], sol_mse['x']"
   ]
  },
  {
   "cell_type": "code",
   "execution_count": null,
   "metadata": {},
   "outputs": [],
   "source": [
    "plt.plot(A @ y_reg)\n",
    "plt.plot(A @ y_mse)"
   ]
  },
  {
   "cell_type": "code",
   "execution_count": null,
   "metadata": {},
   "outputs": [],
   "source": [
    "x = np.arange(200)\n",
    "ys = uvspline(x, sorted(y_reg), s = .02)"
   ]
  },
  {
   "cell_type": "code",
   "execution_count": null,
   "metadata": {},
   "outputs": [],
   "source": [
    "borders = np.column_stack((pdf_fit[::35]*.5, pdf_fit[::35]*1.25) )"
   ]
  },
  {
   "cell_type": "code",
   "execution_count": null,
   "metadata": {},
   "outputs": [],
   "source": [
    "borders[0]"
   ]
  },
  {
   "cell_type": "code",
   "execution_count": null,
   "metadata": {},
   "outputs": [],
   "source": [
    "plt.plot(y_mse)\n",
    "# plt.plot(sorted(y_reg))\n",
    "# plt.plot(ys(np.arange(200)))"
   ]
  },
  {
   "cell_type": "code",
   "execution_count": null,
   "metadata": {},
   "outputs": [],
   "source": [
    "sample_pp, sample_users = generator.simulate(*val_dump, np.repeat(y_reg, 35))\n",
    "# sample_pp, sample_users = generator.simulate(*val_dump, ys(np.arange(7000)/35))"
   ]
  },
  {
   "cell_type": "code",
   "execution_count": null,
   "metadata": {},
   "outputs": [],
   "source": [
    "def test_fit(fit, dump = osu_dump, trials = 10):\n",
    "    err = 0\n",
    "    for _ in tqdm(range(trials)):\n",
    "        sample_pp, sample_users = generator.simulate(*dump, fit)\n",
    "        err += sfg.prop_displaced(sample_pp)\n",
    "    return err / trials"
   ]
  },
  {
   "cell_type": "code",
   "execution_count": null,
   "metadata": {},
   "outputs": [],
   "source": [
    "greedy_fit = np.load(\"exploration/skill_biased_sampling_function/greedy_sample_func.npy\")\n",
    "pdf_fit = np.load(\"exploration/skill_biased_sampling_function/pdf_sample_func.npy\")"
   ]
  },
  {
   "cell_type": "code",
   "execution_count": null,
   "metadata": {},
   "outputs": [],
   "source": [
    "test_fit(greedy_fit, val_dump, 50)"
   ]
  },
  {
   "cell_type": "code",
   "execution_count": null,
   "metadata": {},
   "outputs": [],
   "source": [
    "plt.plot(greedy_fit)\n",
    "plt.plot(pdf_fit)\n",
    "plt.plot(ys(np.arange(7000)/35))"
   ]
  },
  {
   "cell_type": "code",
   "execution_count": null,
   "metadata": {},
   "outputs": [],
   "source": [
    "test_fit(pdf_fit, val_dump, 50)"
   ]
  },
  {
   "cell_type": "code",
   "execution_count": null,
   "metadata": {},
   "outputs": [],
   "source": [
    "test_fit(np.repeat(y_mse, 35), val_dump, 50)"
   ]
  },
  {
   "cell_type": "code",
   "execution_count": null,
   "metadata": {},
   "outputs": [],
   "source": [
    "plt.hist(sample_pp, bins = 50)"
   ]
  }
 ],
 "metadata": {
  "kernelspec": {
   "display_name": "Python 3",
   "language": "python",
   "name": "python3"
  },
  "language_info": {
   "codemirror_mode": {
    "name": "ipython"
   },
   "file_extension": ".py",
   "mimetype": "text/x-python",
   "name": "python",
   "nbconvert_exporter": "python"
  }
 },
 "nbformat": 4,
 "nbformat_minor": 2
}
