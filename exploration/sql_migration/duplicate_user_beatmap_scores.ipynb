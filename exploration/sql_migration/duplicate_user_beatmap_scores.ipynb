{
 "metadata": {
  "language_info": {
   "codemirror_mode": {
    "name": "ipython",
    "version": 3
   },
   "file_extension": ".py",
   "mimetype": "text/x-python",
   "name": "python",
   "nbconvert_exporter": "python",
   "pygments_lexer": "ipython3",
   "version": "3.8.5-final"
  },
  "orig_nbformat": 2,
  "kernelspec": {
   "name": "python3",
   "display_name": "Python 3.8.5 64-bit ('dsu-mlpp': pipenv)",
   "metadata": {
    "interpreter": {
     "hash": "cc067fc62129187a5fd73fcbb1d860a65d48f251b5425e03f4f70aa6acab540c"
    }
   }
  }
 },
 "nbformat": 4,
 "nbformat_minor": 2,
 "cells": [
  {
   "cell_type": "code",
   "execution_count": 4,
   "metadata": {},
   "outputs": [],
   "source": [
    "import pymysql\n",
    "import pandas as pd\n",
    "from exploration.config import sql_inst"
   ]
  },
  {
   "cell_type": "code",
   "execution_count": 5,
   "metadata": {},
   "outputs": [],
   "source": [
    "random_dump_titles = [\n",
    "    \"osu_random_2020_08\",\n",
    "    \"osu_random_2020_09\",\n",
    "    \"osu_random_2020_10\",\n",
    "    \"osu_random_2020_11\",\n",
    "    \"osu_random_2020_12\",\n",
    "    \"osu_random_2021_01\"\n",
    "]"
   ]
  },
  {
   "cell_type": "code",
   "execution_count": 6,
   "metadata": {},
   "outputs": [],
   "source": [
    "def find_repeat_users(dump_titles):\n",
    "    template = \"(SELECT user_id FROM {}.osu_user_stats)\".format\n",
    "    QUERY_UNION_USER_ID = '\\nUNION ALL\\n'.join(map(template, random_dump_titles))\n",
    "\n",
    "    with sql_inst.cursor() as cursor:\n",
    "        cursor.execute(\n",
    "            f\"\"\"\n",
    "            SELECT user_id\n",
    "            FROM (\n",
    "                {QUERY_UNION_USER_ID}\n",
    "            )as USERS_INCLUDING_DUPE\n",
    "            GROUP BY user_id\n",
    "            HAVING COUNT(*) > 1\n",
    "            ORDER BY COUNT(*) DESC \n",
    "            \"\"\"\n",
    "        )\n",
    "\n",
    "        return tuple(row[0] for row in cursor)\n",
    "\n",
    "REPEAT_USERS_TUPLE = find_repeat_users(random_dump_titles)"
   ]
  },
  {
   "cell_type": "code",
   "execution_count": 7,
   "metadata": {},
   "outputs": [
    {
     "output_type": "execute_result",
     "data": {
      "text/plain": [
       "   beatmap_repeats  freq\n",
       "0                2   778"
      ],
      "text/html": "<div>\n<style scoped>\n    .dataframe tbody tr th:only-of-type {\n        vertical-align: middle;\n    }\n\n    .dataframe tbody tr th {\n        vertical-align: top;\n    }\n\n    .dataframe thead th {\n        text-align: right;\n    }\n</style>\n<table border=\"1\" class=\"dataframe\">\n  <thead>\n    <tr style=\"text-align: right;\">\n      <th></th>\n      <th>beatmap_repeats</th>\n      <th>freq</th>\n    </tr>\n  </thead>\n  <tbody>\n    <tr>\n      <th>0</th>\n      <td>2</td>\n      <td>778</td>\n    </tr>\n  </tbody>\n</table>\n</div>"
     },
     "metadata": {},
     "execution_count": 7
    }
   ],
   "source": [
    "def get_repeat_freq_table(repeat_users):\n",
    "    template = (\"\"\"\n",
    "    SELECT score_id, user_id, beatmap_id, enabled_mods\n",
    "            FROM {}.osu_scores_high\n",
    "            WHERE\n",
    "            user_id IN \"\"\" + str(REPEAT_USERS_TUPLE)\n",
    "    ).format\n",
    "\n",
    "    QUERY_USERS_UNION_SCORES = '\\nUNION\\n'.join(map(template, random_dump_titles))\n",
    "\n",
    "    query = f\"\"\"\n",
    "            SELECT B.beatmap_repeats, COUNT(*) as freq FROM (\n",
    "                SELECT COUNT(*) as beatmap_repeats FROM (\n",
    "                    {QUERY_USERS_UNION_SCORES}\n",
    "                ) as A\n",
    "                GROUP BY A.user_id, A.beatmap_id, A.enabled_mods\n",
    "            ) as B\n",
    "            WHERE B.beatmap_repeats > 1\n",
    "            GROUP BY B.beatmap_repeats\n",
    "            \"\"\"\n",
    "\n",
    "    return pd.read_sql(query, sql_inst)\n",
    "\n",
    "get_repeat_freq_table(REPEAT_USERS_TUPLE)"
   ]
  }
 ]
}