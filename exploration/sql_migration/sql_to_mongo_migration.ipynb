{
 "cells": [
  {
   "cell_type": "markdown",
   "metadata": {},
   "source": [
    "# Aggergate Sql dumps into MongoDB\n",
    "**Contributors:** Victor Lin\n",
    "\n",
    "**Achievement:** Migrate osu_user_stats, osu_scores_high, osu_beatmaps tables from several random data dumps into mongodb. Prioritize migrating more recent dumps to avoid duplicates. Created indecies on osu_scores_high"
   ]
  },
  {
   "cell_type": "code",
   "execution_count": 1,
   "metadata": {},
   "outputs": [],
   "source": [
    "import sys\n",
    "sys.path.append('../..')\n",
    "from exploration.config import sql_inst, mongo_inst\n",
    "from mlpp.data_collection.sql_migration import SqlDumpMigrator"
   ]
  },
  {
   "cell_type": "markdown",
   "metadata": {},
   "source": [
    "## Declare SQL dumps to migrate\n",
    "**Note:** Order does matter in the declaration. More recent dumps should be declared first in order to prioritize more recent user information. Duplicate users found in older dumps will be skipped."
   ]
  },
  {
   "cell_type": "code",
   "execution_count": 3,
   "metadata": {},
   "outputs": [],
   "source": [
    "# Order of insertion matters\n",
    "\n",
    "SQL_DUMPS = [\n",
    "    \"osu_random_2021_01\",\n",
    "    \"osu_random_2020_12\",\n",
    "    \"osu_random_2020_11\",\n",
    "    \"osu_random_2020_10\",\n",
    "    \"osu_random_2020_09\",\n",
    "    \"osu_random_2020_08\"\n",
    "]\n",
    "\n",
    "NEW_DB_NAME = \"osu_random_db\"\n",
    "\n",
    "migrator = SqlDumpMigrator(sql_inst, mongo_inst)"
   ]
  },
  {
   "cell_type": "markdown",
   "metadata": {},
   "source": [
    "**TODO** : Code to create a compound index on (user_id, beatmap_id, and enabled_mods) would ensure score uniqueness. However, there are currently duplicates scores in some dumps that violates the uniqueness. Commented until further clarification from osu! devs."
   ]
  },
  {
   "cell_type": "code",
   "execution_count": 4,
   "metadata": {},
   "outputs": [],
   "source": [
    "# mongo_db['osu_scores_high'].create_index(\n",
    "#     [('user_id', pymongo.ASCENDING), ('beatmap_id', pymongo.ASCENDING) , ('enabled_mods', pymongo.ASCENDING)],\n",
    "#     unique=True\n",
    "# )"
   ]
  },
  {
   "cell_type": "markdown",
   "metadata": {},
   "source": [
    "## Migrating Tables: Users, Scores, Beatmaps"
   ]
  },
  {
   "cell_type": "code",
   "execution_count": 6,
   "metadata": {
    "tags": []
   },
   "outputs": [],
   "source": [
    "migrator.migrate_users_and_scores(SQL_DUMPS, NEW_DB_NAME)"
   ]
  },
  {
   "cell_type": "code",
   "execution_count": 8,
   "metadata": {},
   "outputs": [],
   "source": [
    "migrator.migrate_beatmaps(SQL_DUMPS, NEW_DB_NAME)"
   ]
  },
  {
   "cell_type": "markdown",
   "metadata": {},
   "source": [
    "## Creating osu_scores_high indecies"
   ]
  },
  {
   "cell_type": "code",
   "execution_count": null,
   "metadata": {},
   "outputs": [],
   "source": [
    "osu_random_db = mongo_inst[NEW_DB_NAME]\n",
    "\n",
    "print(\"Creating index on 'user_id'\")\n",
    "osu_random_db['osu_scores_high'].create_index('user_id')\n",
    "\n",
    "print(\"Creating index on 'beatmap_id'\")\n",
    "osu_random_db['osu_scores_high'].create_index('beatmap_id')"
   ]
  }
 ],
 "metadata": {
  "kernelspec": {
   "display_name": "dsu-mlpp-KBwWrVww",
   "language": "python",
   "name": "dsu-mlpp-kbwwrvww"
  },
  "language_info": {
   "codemirror_mode": {
    "name": "ipython",
    "version": 3
   },
   "file_extension": ".py",
   "mimetype": "text/x-python",
   "name": "python",
   "nbconvert_exporter": "python",
   "pygments_lexer": "ipython3",
   "version": "3.8.5-final"
  }
 },
 "nbformat": 4,
 "nbformat_minor": 2
}