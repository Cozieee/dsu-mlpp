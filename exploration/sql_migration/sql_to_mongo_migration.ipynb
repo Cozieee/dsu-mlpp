{
 "metadata": {
  "language_info": {
   "codemirror_mode": {
    "name": "ipython",
    "version": 3
   },
   "file_extension": ".py",
   "mimetype": "text/x-python",
   "name": "python",
   "nbconvert_exporter": "python",
   "pygments_lexer": "ipython3",
   "version": "3.8.5-final"
  },
  "orig_nbformat": 2,
  "kernelspec": {
   "name": "python3",
   "display_name": "Python 3.8.5 64-bit ('dsu-mlpp': pipenv)",
   "metadata": {
    "interpreter": {
     "hash": "cc067fc62129187a5fd73fcbb1d860a65d48f251b5425e03f4f70aa6acab540c"
    }
   }
  }
 },
 "nbformat": 4,
 "nbformat_minor": 2,
 "cells": [
  {
   "source": [
    "# Aggergate Sql dumps into MongoDB\n",
    "**Contributors:** Victor Lin\n",
    "\n",
    "**Achievement:** Migrate osu_user_stats, osu_scores_high, osu_beatmaps tables from several random data dumps into mongodb. Prioritize migrating more recent dumps to avoid duplicates. Created indecies on osu_scores_high"
   ],
   "cell_type": "markdown",
   "metadata": {}
  },
  {
   "cell_type": "code",
   "execution_count": 1,
   "metadata": {},
   "outputs": [],
   "source": [
    "from exploration.config import sql_inst, mongo_inst\n",
    "from mlpp.data_collection.sql_migration import SqlDumpMigrator"
   ]
  },
  {
   "source": [
    "## Declare SQL dumps to migrate\n",
    "**Note:** Order does matter in the declaration. More recent dumps should be declared first in order to prioritize more recent user information. Duplicate users found in older dumps will be skipped."
   ],
   "cell_type": "markdown",
   "metadata": {}
  },
  {
   "cell_type": "code",
   "execution_count": 2,
   "metadata": {},
   "outputs": [],
   "source": [
    "# Order of insertion matters\n",
    "\n",
    "SQL_DUMPS = [\n",
    "    \"osu_random_2021_01\",\n",
    "    \"osu_random_2020_12\",\n",
    "    \"osu_random_2020_11\",\n",
    "    \"osu_random_2020_10\",\n",
    "    \"osu_random_2020_09\",\n",
    "    \"osu_random_2020_08\"\n",
    "]\n",
    "\n",
    "NEW_DB_NAME = \"osu_random_db_test\"\n",
    "\n",
    "migrator = SqlDumpMigrator(sql_inst, mongo_inst)"
   ]
  },
  {
   "source": [
    "**TODO** : Code to create a compound index on (user_id, beatmap_id, and enabled_mods) would ensure score uniqueness. However, there are currently duplicates scores in some dumps that violates the uniqueness. Commented until further clarification from osu! devs."
   ],
   "cell_type": "markdown",
   "metadata": {}
  },
  {
   "cell_type": "code",
   "execution_count": 3,
   "metadata": {},
   "outputs": [],
   "source": [
    "# mongo_db['osu_scores_high'].create_index(\n",
    "#     [('user_id', pymongo.ASCENDING), ('beatmap_id', pymongo.ASCENDING) , ('enabled_mods', pymongo.ASCENDING)],\n",
    "#     unique=True\n",
    "# )"
   ]
  },
  {
   "source": [
    "## Migrating Tables: Users, Scores, Beatmaps"
   ],
   "cell_type": "markdown",
   "metadata": {}
  },
  {
   "cell_type": "code",
   "execution_count": 4,
   "metadata": {
    "tags": []
   },
   "outputs": [],
   "source": [
    "migrator.migrate_users_and_scores(SQL_DUMPS, NEW_DB_NAME)"
   ]
  },
  {
   "cell_type": "code",
   "execution_count": 7,
   "metadata": {},
   "outputs": [],
   "source": [
    "migrator.migrate_beatmaps(SQL_DUMPS, NEW_DB_NAME)"
   ]
  },
  {
   "source": [
    "## Creating osu_scores_high indecies"
   ],
   "cell_type": "markdown",
   "metadata": {}
  },
  {
   "cell_type": "code",
   "execution_count": null,
   "metadata": {},
   "outputs": [],
   "source": [
    "print(\"Creating index on 'user_id'\")\n",
    "osu_random_db['osu_scores_high'].create_index('user_id')\n",
    "\n",
    "print(\"Creating index on 'beatmap_id'\")\n",
    "osu_random_db['osu_scores_high'].create_index('beatmap_id')"
   ]
  }
 ]
}