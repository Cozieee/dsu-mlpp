{
 "metadata": {
  "language_info": {
   "codemirror_mode": {
    "name": "ipython",
    "version": 3
   },
   "file_extension": ".py",
   "mimetype": "text/x-python",
   "name": "python",
   "nbconvert_exporter": "python",
   "pygments_lexer": "ipython3",
   "version": "3.8.5-final"
  },
  "orig_nbformat": 2,
  "kernelspec": {
   "name": "python3",
   "display_name": "Python 3.8.5 64-bit ('dsu-mlpp': pipenv)",
   "metadata": {
    "interpreter": {
     "hash": "e0d1db370e4b684e3075645086dcc1c9bba8ce5e6158baa86f3d714cc0e786fe"
    }
   }
  }
 },
 "nbformat": 4,
 "nbformat_minor": 2,
 "cells": [
  {
   "cell_type": "code",
   "execution_count": 1,
   "metadata": {},
   "outputs": [],
   "source": [
    "from pymongo import UpdateOne\n",
    "from pprint import pprint\n",
    "from tqdm import tqdm\n",
    "from exploration.config import sql_inst, mongo_inst"
   ]
  },
  {
   "cell_type": "code",
   "execution_count": 4,
   "metadata": {},
   "outputs": [],
   "source": [
    "# Order of insertion matters\n",
    "SQL_DUMPS = [\n",
    "    \"osu_random_2021_01\",\n",
    "    \"osu_random_2020_12\",\n",
    "    \"osu_random_2020_11\",\n",
    "    \"osu_random_2020_10\",\n",
    "    \"osu_random_2020_09\",\n",
    "    \"osu_random_2020_08\"\n",
    "]\n",
    "\n",
    "NEW_DB_NAME = \"osu_random_db\""
   ]
  },
  {
   "cell_type": "code",
   "execution_count": 5,
   "metadata": {},
   "outputs": [],
   "source": [
    "osu_random_db = mongo_inst[NEW_DB_NAME]\n",
    "\n",
    "# osu_random_db['osu_scores_high'].create_index(\n",
    "#     [('user_id', pymongo.ASCENDING), ('beatmap_id', pymongo.ASCENDING) , ('enabled_mods', pymongo.ASCENDING)],\n",
    "#     unique=True\n",
    "# )"
   ]
  },
  {
   "cell_type": "code",
   "execution_count": 12,
   "metadata": {
    "tags": []
   },
   "outputs": [],
   "source": [
    "def get_fields(cursor_ex):\n",
    "    return list(map(lambda c: c[0], cursor_ex.description))\n",
    "\n",
    "def insert_user_scores (sql_db_name, user_id):\n",
    "    with sql_inst.cursor() as cursor:\n",
    "        cursor.execute(f\"select * from {sql_db_name}.osu_scores_high WHERE user_id = {user_id}\")\n",
    "        fields = get_fields(cursor)\n",
    "        fields[0] = '_id'\n",
    "\n",
    "        user_scores = [dict(zip(fields, row)) for row in cursor]\n",
    "\n",
    "        osu_random_db['osu_scores_high'].insert_many(user_scores)"
   ]
  },
  {
   "cell_type": "code",
   "execution_count": 5,
   "metadata": {},
   "outputs": [],
   "source": [
    "def migrate_dumps(dump_names, osu_random_db):\n",
    "    user_ids = osu_random_db['osu_user_stats'].find({}, {})\n",
    "    migrated_users = set(map(lambda u: u['_id'], user_ids))\n",
    "\n",
    "    for db_name in dump_names:\n",
    "        print(f\"Importing dump: {db_name}\")\n",
    "\n",
    "        with sql_inst.cursor() as cursor:\n",
    "            cursor.execute(f\"select * from {db_name}.osu_user_stats\")\n",
    "\n",
    "            fields = get_fields(cursor)\n",
    "            fields[0] = '_id'\n",
    "\n",
    "            with tqdm(total=cursor.rowcount) as progress_bar:\n",
    "                for row in cursor:\n",
    "                    user_stats = dict(zip(fields, row))\n",
    "\n",
    "                    if user_stats['_id'] not in migrated_users:\n",
    "                        osu_random_db['osu_user_stats'].insert(user_stats)\n",
    "                        insert_user_scores(db_name, user_stats['_id'])\n",
    "                        \n",
    "                        migrated_users.add(user_stats['_id'])\n",
    "                    \n",
    "                    progress_bar.update(1)\n",
    "        print()\n"
   ]
  },
  {
   "cell_type": "code",
   "execution_count": 6,
   "metadata": {
    "tags": []
   },
   "outputs": [
    {
     "output_type": "stream",
     "name": "stdout",
     "text": [
      "Importing dump: osu_random_2020_08\n",
      "100%|██████████| 10000/10000 [03:25<00:00, 48.55it/s]\n",
      "\n"
     ]
    }
   ],
   "source": [
    "migrate_dumps(SQL_DUMPS, osu_random_db)"
   ]
  },
  {
   "cell_type": "code",
   "execution_count": 15,
   "metadata": {},
   "outputs": [],
   "source": [
    "def migrate_beatmaps(dump_names, osu_random_db):\n",
    "    for db_name in dump_names:\n",
    "        print(f\"Importing dump: {db_name}\")\n",
    "\n",
    "        with sql_inst.cursor() as cursor:\n",
    "            cursor.execute(f\"select * from {db_name}.osu_beatmaps\")\n",
    "            \n",
    "            fields = get_fields(cursor)\n",
    "            fields[0] = '_id'\n",
    "\n",
    "            updates = []\n",
    "            for row in cursor:\n",
    "                beatmap = dict(zip(fields, row))\n",
    "                query = {'_id': beatmap['_id']}\n",
    "                update = {'$setOnInsert': beatmap}\n",
    "                updates.append(UpdateOne(query, update, upsert=True))\n",
    "\n",
    "            osu_random_db['osu_beatmaps'].bulk_write(updates)\n"
   ]
  },
  {
   "cell_type": "code",
   "execution_count": 16,
   "metadata": {},
   "outputs": [
    {
     "output_type": "stream",
     "name": "stdout",
     "text": [
      "Importing dump: osu_random_2021_01\n",
      "Importing dump: osu_random_2020_12\n",
      "Importing dump: osu_random_2020_11\n",
      "Importing dump: osu_random_2020_10\n",
      "Importing dump: osu_random_2020_09\n",
      "Importing dump: osu_random_2020_08\n"
     ]
    }
   ],
   "source": [
    "migrate_beatmaps(SQL_DUMPS, osu_random_db)"
   ]
  },
  {
   "cell_type": "code",
   "execution_count": null,
   "metadata": {},
   "outputs": [],
   "source": [
    "print(\"Creating index on 'user_id'\")\n",
    "osu_random_db['osu_scores_high'].create_index('user_id')\n",
    "print(\"Creating index on 'beatmap_id'\")\n",
    "osu_random_db['osu_scores_high'].create_index('beatmap_id')"
   ]
  }
 ]
}