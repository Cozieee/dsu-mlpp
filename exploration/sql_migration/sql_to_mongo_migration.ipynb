{
 "metadata": {
  "language_info": {
   "codemirror_mode": {
    "name": "ipython",
    "version": 3
   },
   "file_extension": ".py",
   "mimetype": "text/x-python",
   "name": "python",
   "nbconvert_exporter": "python",
   "pygments_lexer": "ipython3",
   "version": "3.8.5-final"
  },
  "orig_nbformat": 2,
  "kernelspec": {
   "name": "python3",
   "display_name": "Python 3.8.5 64-bit ('dsu-mlpp': pipenv)",
   "metadata": {
    "interpreter": {
     "hash": "cc067fc62129187a5fd73fcbb1d860a65d48f251b5425e03f4f70aa6acab540c"
    }
   }
  }
 },
 "nbformat": 4,
 "nbformat_minor": 2,
 "cells": [
  {
   "cell_type": "code",
   "execution_count": 1,
   "metadata": {},
   "outputs": [],
   "source": [
    "from pymongo import UpdateOne\n",
    "from pprint import pprint\n",
    "from tqdm import tqdm\n",
    "from exploration.config import sql_inst, mongo_inst"
   ]
  },
  {
   "cell_type": "code",
   "execution_count": 4,
   "metadata": {},
   "outputs": [],
   "source": [
    "# Order of insertion matters\n",
    "SQL_DUMPS = [\n",
    "    \"osu_random_2021_01\",\n",
    "    \"osu_random_2020_12\",\n",
    "    \"osu_random_2020_11\",\n",
    "    \"osu_random_2020_10\",\n",
    "    \"osu_random_2020_09\",\n",
    "    \"osu_random_2020_08\"\n",
    "]\n",
    "\n",
    "NEW_DB_NAME = \"osu_random_db\""
   ]
  },
  {
   "cell_type": "code",
   "execution_count": 5,
   "metadata": {},
   "outputs": [],
   "source": [
    "mongo_db = mongo_inst[NEW_DB_NAME]\n",
    "\n",
    "# mongo_db['osu_scores_high'].create_index(\n",
    "#     [('user_id', pymongo.ASCENDING), ('beatmap_id', pymongo.ASCENDING) , ('enabled_mods', pymongo.ASCENDING)],\n",
    "#     unique=True\n",
    "# )"
   ]
  },
  {
   "cell_type": "code",
   "execution_count": 12,
   "metadata": {
    "tags": []
   },
   "outputs": [],
   "source": [
    "def get_fields(cursor_ex):\n",
    "    return list(map(lambda c: c[0], cursor_ex.description))\n",
    "\n",
    "def insert_user_scores (sql_db_name, user_id):\n",
    "    with sql_inst.cursor() as cursor:\n",
    "        cursor.execute(f\"select * from {sql_db_name}.osu_scores_high WHERE user_id = {user_id}\")\n",
    "        fields = get_fields(cursor)\n",
    "        fields[0] = '_id'\n",
    "\n",
    "        user_scores = [dict(zip(fields, row)) for row in cursor]\n",
    "\n",
    "        mongo_db['osu_scores_high'].insert_many(user_scores)"
   ]
  },
  {
   "cell_type": "code",
   "execution_count": 5,
   "metadata": {},
   "outputs": [],
   "source": [
    "def migrate_dumps(dump_names, mongo_db):\n",
    "    user_ids = mongo_db['osu_user_stats'].find({}, {})\n",
    "    migrated_users = set(map(lambda u: u['_id'], user_ids))\n",
    "\n",
    "    for db_name in dump_names:\n",
    "        print(f\"Importing dump: {db_name}\")\n",
    "\n",
    "        with sql_inst.cursor() as cursor:\n",
    "            cursor.execute(f\"select * from {db_name}.osu_user_stats\")\n",
    "\n",
    "            fields = get_fields(cursor)\n",
    "            fields[0] = '_id'\n",
    "\n",
    "            with tqdm(total=cursor.rowcount) as progress_bar:\n",
    "                for row in cursor:\n",
    "                    user_stats = dict(zip(fields, row))\n",
    "\n",
    "                    if user_stats['_id'] not in migrated_users:\n",
    "                        mongo_db['osu_user_stats'].insert(user_stats)\n",
    "                        insert_user_scores(db_name, user_stats['_id'])\n",
    "                        \n",
    "                        migrated_users.add(user_stats['_id'])\n",
    "                    \n",
    "                    progress_bar.update(1)\n",
    "        print()\n"
   ]
  },
  {
   "cell_type": "code",
   "execution_count": 6,
   "metadata": {
    "tags": []
   },
   "outputs": [
    {
     "output_type": "stream",
     "name": "stdout",
     "text": [
      "Importing dump: osu_random_2020_08\n",
      "100%|██████████| 10000/10000 [03:25<00:00, 48.55it/s]\n",
      "\n"
     ]
    }
   ],
   "source": [
    "migrate_dumps(SQL_DUMPS, mongo_db)"
   ]
  },
  {
   "cell_type": "code",
   "execution_count": 15,
   "metadata": {},
   "outputs": [],
   "source": [
    "def migrate_beatmaps(dump_names, mongo_db):\n",
    "    for db_name in dump_names:\n",
    "        print(f\"Importing dump: {db_name}\")\n",
    "\n",
    "        with sql_inst.cursor() as cursor:\n",
    "            cursor.execute(f\"select * from {db_name}.osu_beatmaps\")\n",
    "            \n",
    "            fields = get_fields(cursor)\n",
    "            fields[0] = '_id'\n",
    "\n",
    "            updates = []\n",
    "            for row in cursor:\n",
    "                beatmap = dict(zip(fields, row))\n",
    "                query = {'_id': beatmap['_id']}\n",
    "                update = {'$setOnInsert': beatmap}\n",
    "                updates.append(UpdateOne(query, update, upsert=True))\n",
    "\n",
    "            mongo_db['osu_beatmaps'].bulk_write(updates)\n"
   ]
  },
  {
   "cell_type": "code",
   "execution_count": 14,
   "metadata": {},
   "outputs": [
    {
     "output_type": "stream",
     "name": "stdout",
     "text": [
      "Importing dump: osu_random_2021_01\n"
     ]
    },
    {
     "output_type": "error",
     "ename": "NameError",
     "evalue": "name 'osu_random_db' is not defined",
     "traceback": [
      "\u001b[0;31m---------------------------------------------------------------------------\u001b[0m",
      "\u001b[0;31mNameError\u001b[0m                                 Traceback (most recent call last)",
      "\u001b[0;32m<ipython-input-14-e0a0793955c9>\u001b[0m in \u001b[0;36m<module>\u001b[0;34m\u001b[0m\n\u001b[0;32m----> 1\u001b[0;31m \u001b[0mmigrate_beatmaps\u001b[0m\u001b[0;34m(\u001b[0m\u001b[0mSQL_DUMPS\u001b[0m\u001b[0;34m,\u001b[0m \u001b[0mmongo_db\u001b[0m\u001b[0;34m)\u001b[0m\u001b[0;34m\u001b[0m\u001b[0;34m\u001b[0m\u001b[0m\n\u001b[0m",
      "\u001b[0;32m<ipython-input-13-ec3326ac1549>\u001b[0m in \u001b[0;36mmigrate_beatmaps\u001b[0;34m(dump_names, mongo_db)\u001b[0m\n\u001b[1;32m     16\u001b[0m                 \u001b[0mupdates\u001b[0m\u001b[0;34m.\u001b[0m\u001b[0mappend\u001b[0m\u001b[0;34m(\u001b[0m\u001b[0mUpdateOne\u001b[0m\u001b[0;34m(\u001b[0m\u001b[0mquery\u001b[0m\u001b[0;34m,\u001b[0m \u001b[0mupdate\u001b[0m\u001b[0;34m,\u001b[0m \u001b[0mupsert\u001b[0m\u001b[0;34m=\u001b[0m\u001b[0;32mTrue\u001b[0m\u001b[0;34m)\u001b[0m\u001b[0;34m)\u001b[0m\u001b[0;34m\u001b[0m\u001b[0;34m\u001b[0m\u001b[0m\n\u001b[1;32m     17\u001b[0m \u001b[0;34m\u001b[0m\u001b[0m\n\u001b[0;32m---> 18\u001b[0;31m             \u001b[0mosu_random_db\u001b[0m\u001b[0;34m[\u001b[0m\u001b[0;34m'osu_beatmaps'\u001b[0m\u001b[0;34m]\u001b[0m\u001b[0;34m.\u001b[0m\u001b[0mbulk_write\u001b[0m\u001b[0;34m(\u001b[0m\u001b[0mupdates\u001b[0m\u001b[0;34m)\u001b[0m\u001b[0;34m\u001b[0m\u001b[0;34m\u001b[0m\u001b[0m\n\u001b[0m",
      "\u001b[0;31mNameError\u001b[0m: name 'osu_random_db' is not defined"
     ]
    }
   ],
   "source": [
    "migrate_beatmaps(SQL_DUMPS, mongo_db)"
   ]
  },
  {
   "cell_type": "code",
   "execution_count": null,
   "metadata": {},
   "outputs": [],
   "source": [
    "print(\"Creating index on 'user_id'\")\n",
    "osu_random_db['osu_scores_high'].create_index('user_id')\n",
    "print(\"Creating index on 'beatmap_id'\")\n",
    "osu_random_db['osu_scores_high'].create_index('beatmap_id')"
   ]
  }
 ]
}