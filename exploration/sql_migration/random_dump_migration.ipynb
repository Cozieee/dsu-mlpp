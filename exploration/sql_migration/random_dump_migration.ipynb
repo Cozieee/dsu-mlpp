{
 "cells": [
  {
   "cell_type": "markdown",
   "metadata": {},
   "source": [
    "# Aggergate osu random dumps into MongoDB\n",
    "**Contributors:** Victor Lin\n",
    "\n",
    "**Achievement:** Migrate osu_user_stats, osu_scores_high, osu_beatmaps, osu_beatmap_difficulty_attribs tables from several random data dumps into mongodb. Prioritize migrating more recent dumps to avoid duplicates. Created basic indecies on osu_scores_high & a unique compound index on osu_beatmap_attribs.\n",
    "\n",
    "**Requirements:**\n",
    "\n",
    "- External\n",
    "    - MySQL DB has imported osu random dumps from https://data.ppy.sh/\n",
    "- Other\n",
    "    - env must be set with MySQL DB & Mongo log-in info"
   ]
  },
  {
   "cell_type": "code",
   "execution_count": null,
   "metadata": {},
   "outputs": [],
   "source": [
    "import sys\n",
    "sys.path.append('../..')\n",
    "from exploration.config import sql_inst, mongo_inst\n",
    "from mlpp.data_collection.sql_migration import SqlDumpMigrator"
   ]
  },
  {
   "cell_type": "markdown",
   "metadata": {},
   "source": [
    "## Declare SQL dumps to migrate\n",
    "**Note:** Order does matter in the declaration. More recent dumps should be declared first in order to prioritize more recent user information. Duplicate users found in older dumps will be skipped."
   ]
  },
  {
   "cell_type": "code",
   "execution_count": null,
   "metadata": {},
   "outputs": [],
   "source": [
    "# Order of insertion matters\n",
    "\n",
    "SQL_DUMPS = [\n",
    "    \"osu_random_2021_01\",\n",
    "    \"osu_random_2020_12\",\n",
    "    \"osu_random_2020_11\",\n",
    "    \"osu_random_2020_10\",\n",
    "    \"osu_random_2020_09\",\n",
    "    \"osu_random_2020_08\"\n",
    "]\n",
    "\n",
    "migrator = SqlDumpMigrator(sql_inst)\n",
    "osu_random_db = mongo_inst[\"osu_random_db\"]"
   ]
  },
  {
   "cell_type": "markdown",
   "metadata": {},
   "source": [
    "**TODO** : Code to create a compound index on (user_id, beatmap_id, and enabled_mods) would ensure score uniqueness. However, there are currently duplicates scores in some dumps that violates the uniqueness. Commented until further clarification from osu! devs."
   ]
  },
  {
   "cell_type": "code",
   "execution_count": null,
   "metadata": {},
   "outputs": [],
   "source": [
    "# mongo_db['osu_scores_high'].create_index(\n",
    "#     [('user_id', pymongo.ASCENDING), ('beatmap_id', pymongo.ASCENDING) , ('enabled_mods', pymongo.ASCENDING)],\n",
    "#     unique=True\n",
    "# )"
   ]
  },
  {
   "cell_type": "markdown",
   "metadata": {},
   "source": [
    "## Migrating Tables: Users, Scores, Beatmaps, Attribs"
   ]
  },
  {
   "cell_type": "code",
   "execution_count": null,
   "metadata": {},
   "outputs": [],
   "source": [
    "osu_random_db['osu_scores_high'].create_index('user_id')\n",
    "osu_random_db['osu_scores_high'].create_index('beatmap_id')\n",
    "\n",
    "migrator.migrate_users_and_scores(SQL_DUMPS, osu_random_db)"
   ]
  },
  {
   "cell_type": "code",
   "execution_count": null,
   "metadata": {},
   "outputs": [],
   "source": [
    "migrator.migrate_beatmaps(SQL_DUMPS, osu_random_db)"
   ]
  },
  {
   "cell_type": "code",
   "execution_count": null,
   "metadata": {},
   "outputs": [],
   "source": [
    "migrator.migrate_beatmap_attribs(SQL_DUMPS, osu_random_db)"
   ]
  }
 ],
 "metadata": {
  "kernelspec": {
   "display_name": "Python 3",
   "language": "python",
   "name": "python3"
  },
  "language_info": {
   "codemirror_mode": {
    "name": "ipython"
   },
   "file_extension": ".py",
   "mimetype": "text/x-python",
   "name": "python",
   "nbconvert_exporter": "python"
  }
 },
 "nbformat": 4,
 "nbformat_minor": 2
}
