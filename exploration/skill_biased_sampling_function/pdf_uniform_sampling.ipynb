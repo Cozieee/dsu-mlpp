{
 "cells": [
  {
   "cell_type": "markdown",
   "metadata": {},
   "source": [
    "# Naive Sampling function - Sample with uniform estimate user pp scores\n",
    "**Contributors:** Victor Lin"
   ]
  },
  {
   "cell_type": "code",
   "execution_count": null,
   "metadata": {},
   "outputs": [],
   "source": [
    "%load_ext autoreload\n",
    "%autoreload 2"
   ]
  },
  {
   "cell_type": "code",
   "execution_count": null,
   "metadata": {},
   "outputs": [],
   "source": [
    "import sys\n",
    "sys.path.append('../..')\n",
    "from datetime import datetime\n",
    "import matplotlib.pyplot as plt\n",
    "import numpy as np\n",
    "import scipy.stats as st\n",
    "from exploration.config import mongo_inst\n",
    "from mlpp.data_collection.sample import osuDumpSampler\n",
    "from random import random"
   ]
  },
  {
   "cell_type": "code",
   "execution_count": null,
   "metadata": {},
   "outputs": [],
   "source": [
    "osu_random_db = mongo_inst['osu_random_db']\n",
    "sampler = osuDumpSampler(osu_random_db)\n",
    "\n",
    "SAMPLE_NAME = 'sample_scores_3k'\n",
    "DATE_LIMIT = datetime(2019,1,1)"
   ]
  },
  {
   "cell_type": "code",
   "execution_count": null,
   "metadata": {},
   "outputs": [],
   "source": [
    "user_ids = sampler.use_random_sample(SAMPLE_NAME, 3000)"
   ]
  },
  {
   "cell_type": "code",
   "execution_count": null,
   "metadata": {},
   "outputs": [],
   "source": [
    "scores = list(osu_random_db[SAMPLE_NAME].find({'date': {'$gt': DATE_LIMIT}}, {'mlpp': 1, '_id': 0}))\n",
    "\n",
    "pp_data_raw = [s['mlpp']['est_user_raw_pp'] for s in scores]\n",
    "pp_data = [s['mlpp']['est_user_pp'] for s in scores]"
   ]
  },
  {
   "cell_type": "code",
   "execution_count": null,
   "metadata": {},
   "outputs": [],
   "source": [
    "fig, axs = plt.subplots(1, 2)\n",
    "fig.set_figwidth(15)\n",
    "_ = axs[0].hist(pp_data_raw, bins = 200)\n",
    "_ = axs[1].hist(pp_data, bins = 200)"
   ]
  },
  {
   "cell_type": "code",
   "execution_count": null,
   "metadata": {},
   "outputs": [],
   "source": [
    "best_params = st.recipinvgauss.fit(pp_data, 200)\n",
    "arg = best_params[:-2]\n",
    "loc = best_params[-2]\n",
    "scale = best_params[-1]"
   ]
  },
  {
   "cell_type": "code",
   "execution_count": null,
   "metadata": {},
   "outputs": [],
   "source": [
    "est_pp_pdf = st.recipinvgauss.pdf(np.arange(1, 7000), loc=loc, scale=scale, *arg)\n",
    "plt.figure(figsize=(12,8))\n",
    "_ = plt.hist(pp_data, bins = 200, density=True)\n",
    "_ = plt.plot(np.arange(0,7000), np.full(7000, 1/7000))\n",
    "# plt.plot(est_pp_pdf)"
   ]
  },
  {
   "cell_type": "code",
   "execution_count": null,
   "metadata": {},
   "outputs": [],
   "source": [
    "def pdf_proportion(t):\n",
    "    total = 0\n",
    "    for i in range(1, 7001):\n",
    "        p = st.recipinvgauss.pdf(i, loc=loc, scale=scale, *arg)\n",
    "        if p > t:\n",
    "            total += t\n",
    "        else:\n",
    "            total += p\n",
    "    return total"
   ]
  },
  {
   "cell_type": "code",
   "execution_count": null,
   "metadata": {},
   "outputs": [],
   "source": [
    "def pdf_sample(t):\n",
    "    func = []\n",
    "    for i in range(1, 7001):\n",
    "        p = st.recipinvgauss.pdf(i, loc=loc, scale=scale, *arg)\n",
    "        if p > t:\n",
    "            func.append(t/p)\n",
    "        else:\n",
    "            func.append(1)\n",
    "    return func"
   ]
  },
  {
   "cell_type": "code",
   "execution_count": null,
   "metadata": {},
   "outputs": [],
   "source": [
    "sample_func = pdf_sample(.000002)\n",
    "pdf_proportion(.000002)"
   ]
  },
  {
   "cell_type": "code",
   "execution_count": null,
   "metadata": {},
   "outputs": [],
   "source": [
    "users = list(osu_random_db['osu_user_stats'].find({}, {'_id': 1, 'rank_score': 1}))\n",
    "sampled_users = []\n",
    "for user in users:\n",
    "    if user['rank_score'] < 7000 and random() < sample_func[int(user['rank_score'])]:\n",
    "        sampled_users.append(user)"
   ]
  },
  {
   "cell_type": "code",
   "execution_count": null,
   "metadata": {},
   "outputs": [],
   "source": [
    "sampled_user_ids = [u['_id'] for u in sampled_users]\n",
    "\n",
    "sampled_scores = list(\n",
    "    osu_random_db['osu_scores_high'].find({\n",
    "        'user_id': {\n",
    "            '$in': sampled_user_ids\n",
    "        },\n",
    "        'date': {\n",
    "            '$gt': DATE_LIMIT\n",
    "        }\n",
    "    })\n",
    ")"
   ]
  },
  {
   "cell_type": "code",
   "execution_count": null,
   "metadata": {},
   "outputs": [],
   "source": [
    "score_pp = [s['mlpp']['est_user_pp'] for s in sampled_scores]"
   ]
  },
  {
   "cell_type": "code",
   "execution_count": null,
   "metadata": {},
   "outputs": [],
   "source": [
    "np.save(\"scores_pdf.npy\", score_pp)"
   ]
  },
  {
   "cell_type": "code",
   "execution_count": null,
   "metadata": {},
   "outputs": [],
   "source": [
    "_ = plt.hist(score_pp, bins = 200, density = True)"
   ]
  }
 ],
 "metadata": {
  "kernelspec": {
   "display_name": "Python 3",
   "language": "python",
   "name": "python3"
  },
  "language_info": {
   "codemirror_mode": {
    "name": "ipython"
   },
   "file_extension": ".py",
   "mimetype": "text/x-python",
   "name": "python",
   "nbconvert_exporter": "python"
  }
 },
 "nbformat": 4,
 "nbformat_minor": 2
}
