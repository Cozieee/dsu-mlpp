{
 "cells": [
  {
   "cell_type": "markdown",
   "metadata": {},
   "source": [
    "# Visualize Player Highscore pp Distribution\n",
    "**Contributors:** Victor Lin\n",
    "\n",
    "**Achievement:** By sampling 50 players at various pp percentiles, stacked pp distribution histograms are generated at each percentile, representing a point-value of the average highscore pp distribution at that percentile. The histograms show, regardless of skill, player highscores are generally evenly distributed for all players, except for peaks at the low pp range & the player's current pp range.\n",
    "\n",
    "**Requirements:** \n",
    "\n",
    "1. MongoDB Collections<br>\n",
    "1.1 *sql_migration/sql_to_mongo_migration.ipynb* -> osu_user_stats, osu_scores_high\n",
    "2. Cached Fields<br> \n",
    "2.1 *estimate_real_user_pp/user_pp_history.ipynb* -> osu_scores_high.mlpp.est_user_pp, osu_user_stats.mlpp.est_current_pp"
   ]
  },
  {
   "cell_type": "code",
   "execution_count": null,
   "metadata": {},
   "outputs": [],
   "source": [
    "import sys\n",
    "sys.path.append('../..')\n",
    "from pymongo import UpdateOne\n",
    "import matplotlib.pyplot as plt\n",
    "from exploration.config import mongo_inst\n",
    "from mlpp.data_collection.pp_calculation import fast_pp_hist"
   ]
  },
  {
   "cell_type": "code",
   "execution_count": null,
   "metadata": {},
   "outputs": [],
   "source": [
    "osu_random_db = mongo_inst['osu_random_db']\n",
    "user_ids_by_pp = list(osu_random_db['osu_user_stats'].find({}, {'mlpp.est_current_pp': 1}).sort('mlpp.est_current_pp'))"
   ]
  },
  {
   "cell_type": "markdown",
   "metadata": {},
   "source": [
    "## Plotting pp Histograms\n",
    "Users are selected at different percentiles (based on pp). Each percentiles's user scores are aggregated and plotted as a histogram (right). A histogram of the user's current pp is also plotted (left)."
   ]
  },
  {
   "cell_type": "code",
   "execution_count": null,
   "metadata": {},
   "outputs": [],
   "source": [
    "fig, axs = plt.subplots(4, 4)\n",
    "for i in range(8):\n",
    "    start_i = 25000 + 5000 * i if i != 7 else -50\n",
    "\n",
    "    stack_hist = []\n",
    "    user_pps = []\n",
    "    for j in range(50):\n",
    "        user = user_ids_by_pp[start_i + j]\n",
    "        user_pps.append(user['mlpp']['est_current_pp'])\n",
    "\n",
    "        user_scores = list(osu_random_db['osu_scores_high'].find({'user_id': user['_id']}))\n",
    "        stack_hist.append([s['mlpp']['est_user_pp'] for s in user_scores])\n",
    "    \n",
    "    row  = i % 4\n",
    "    col = 2 * (i // 4)\n",
    "    \n",
    "    axs[row, col].hist(stack_hist, stacked = True)\n",
    "    pcnt = int(start_i * 100 / 60000) if i != 7 else 99\n",
    "\n",
    "    axs[row, col].set_title(f'{pcnt:.0f} percentile')\n",
    "    axs[row, col].set_xlabel('est user pp at time of score')\n",
    "    axs[row, col].set_ylabel('frequency')\n",
    "\n",
    "    axs[row, col + 1].hist(user_pps)\n",
    "\n",
    "    axs[row, col + 1].set_title('Est current pp of user')\n",
    "    axs[row, col + 1].set_xlabel('est user pp')\n",
    "    axs[row, col + 1].set_ylabel('frequency')\n",
    "\n",
    "fig.set_figheight(15)\n",
    "fig.set_figwidth(20)\n",
    "fig.suptitle('Est pp of all scores by 50 users in different percentiles', fontsize = 20)\n",
    "fig.tight_layout(rect=[0, 0.03, 1, 0.95])\n"
   ]
  },
  {
   "cell_type": "markdown",
   "metadata": {},
   "source": [
    "## Conclusion\n",
    "\n",
    ">We will ignore the 99 percentile plot, due to it's wide range of user pp distribution.\n",
    "\n",
    ">All other percentiles have a pp range of <= 1%, indicating the right histogram can be treated as a point value.\n",
    "\n",
    ">The score histograms across all percentiles show, on average, the player's highscores are evenly distributed across pp, with a spike of highscores at their current pp.\n",
    "\n",
    ">This is explained by the fact players are skill capped, and thus will have more highscores at their current skill level.\n",
    "\n",
    ">Some histograms also show a spike in the low pp range. This is less explainable and will require more exploration."
   ]
  }
 ],
 "metadata": {
  "kernelspec": {
   "display_name": "dsu-mlpp-KBwWrVww",
   "language": "python",
   "name": "dsu-mlpp-kbwwrvww"
  },
  "language_info": {
   "codemirror_mode": {
    "name": "ipython"
   },
   "file_extension": ".py",
   "mimetype": "text/x-python",
   "name": "python",
   "nbconvert_exporter": "python"
  }
 },
 "nbformat": 4,
 "nbformat_minor": 2
}
