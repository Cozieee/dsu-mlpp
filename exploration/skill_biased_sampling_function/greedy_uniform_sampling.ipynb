{
 "cells": [
  {
   "cell_type": "code",
   "execution_count": null,
   "metadata": {},
   "outputs": [],
   "source": [
    "import sys\n",
    "sys.path.append('../..')\n",
    "import numpy as np\n",
    "import matplotlib.pyplot as plt\n",
    "import matplotlib.animation as animation\n",
    "from scipy import stats\n",
    "from scipy.interpolate import UnivariateSpline\n",
    "from scipy.optimize import curve_fit\n",
    "from tqdm import tqdm\n",
    "from random import random\n",
    "import math\n",
    "from datetime import datetime\n",
    "from exploration.config import mongo_inst\n",
    "from mlpp.data_collection.sample import osuDumpSampler\n",
    "from mlpp.third_party.curve_fit import best_fit_distribution"
   ]
  },
  {
   "cell_type": "code",
   "execution_count": null,
   "metadata": {},
   "outputs": [],
   "source": [
    "NUM_BINS = 200\n",
    "MAX_PP = 7000\n",
    "DATE_LIMIT = datetime(2019,1,1)\n",
    "\n",
    "osu_random_db = mongo_inst['osu_random_db']"
   ]
  },
  {
   "cell_type": "code",
   "execution_count": null,
   "metadata": {},
   "outputs": [],
   "source": [
    "def bin_cnt_pipeline(score_filter, bin_width):\n",
    "    return [\n",
    "        *score_filter,\n",
    "        {\n",
    "            '$set': {\n",
    "                'range_i': {\n",
    "                    '$floor': {\n",
    "                        '$divide': ['$mlpp.est_user_pp', bin_width]\n",
    "                    }\n",
    "                }\n",
    "            }\n",
    "        },\n",
    "        {\n",
    "            '$group': {\n",
    "                '_id': '$range_i',\n",
    "                'count': {\n",
    "                    '$sum': 1\n",
    "                }\n",
    "            }\n",
    "        }, {\n",
    "            '$sort': {\n",
    "                '_id': 1\n",
    "            }\n",
    "        }\n",
    "    ]"
   ]
  },
  {
   "cell_type": "code",
   "execution_count": null,
   "metadata": {},
   "outputs": [],
   "source": [
    "\n",
    "def compute_sampling_func(prop = .05, date_limit = datetime(2019,1,1), max_pp = 7000, n_bins = 200):\n",
    "    n_scores = osu_random_db['osu_scores_high'].count()\n",
    "\n",
    "    bins_score_cnt, sample_func = np.zeros(n_bins), np.zeros(n_bins)\n",
    "    bin_width = max_pp / n_bins\n",
    "    bin_cap = math.ceil(n_scores * prop / n_bins)\n",
    "    bins_hist = []\n",
    "\n",
    "    for i in tqdm(range(n_bins -1, -1, -1)):\n",
    "        diff = bin_cap - bins_score_cnt[i]\n",
    "        pp_floor, pp_ceil = i * bin_width, (i + 1) * bin_width\n",
    "\n",
    "        if diff > 0:\n",
    "            user_ids_in_range = [u['_id'] for u in\n",
    "                osu_random_db['osu_user_stats'].find(\n",
    "                    {\n",
    "                        'mlpp.est_current_pp': {\n",
    "                            '$gte': pp_floor,\n",
    "                            '$lt': pp_ceil\n",
    "                        }\n",
    "                    }, \n",
    "                    {\n",
    "                        '_id': 1\n",
    "                    }\n",
    "                )\n",
    "            ]\n",
    "\n",
    "            score_filter = [\n",
    "                {\n",
    "                    '$match': {\n",
    "                        'user_id': {\n",
    "                            '$in': user_ids_in_range\n",
    "                        },\n",
    "                        'date': {\n",
    "                            '$gt': date_limit\n",
    "                        }\n",
    "                    }\n",
    "                }\n",
    "            ]\n",
    "\n",
    "            u_bins_score_cnt = np.zeros(n_bins)\n",
    "            for bin_cnt in osu_random_db['osu_scores_high'].aggregate(bin_cnt_pipeline(score_filter, bin_width)):\n",
    "                u_bins_score_cnt[int(bin_cnt['_id'])] = bin_cnt['count']\n",
    "            \n",
    "            curr_range_scores = u_bins_score_cnt[i]\n",
    "            should_resize = curr_range_scores > diff \n",
    "\n",
    "            u_prop = (diff / curr_range_scores) * .5 if should_resize else 1\n",
    "            \n",
    "            bins_score_cnt += u_bins_score_cnt * u_prop\n",
    "\n",
    "            sample_func[i] = u_prop\n",
    "\n",
    "        bins_hist.append(bins_score_cnt.copy())\n",
    "    \n",
    "    return sample_func, bins_score_cnt / bin_cap, bins_hist"
   ]
  },
  {
   "cell_type": "code",
   "execution_count": null,
   "metadata": {},
   "outputs": [],
   "source": [
    "greedy_sample_func, predicted_uniformity_arr, bins_hist = compute_sampling_func(.01)"
   ]
  },
  {
   "cell_type": "code",
   "execution_count": null,
   "metadata": {},
   "outputs": [],
   "source": [
    "WINDOW_SIZE = 5\n",
    "bins = np.linspace(0, MAX_PP, num=NUM_BINS + 1, dtype=int)\n",
    "x1 = np.arange(7000)\n",
    "\n",
    "def roll(x, y, window_size):\n",
    "    if window_size < 2 or len(x) != len(y):\n",
    "        print(\"Invalid params\")\n",
    "        return None\n",
    "    \n",
    "    def moving_average(x, w):\n",
    "        return np.convolve(x, np.ones(w), 'valid') / w\n",
    "    \n",
    "    shift = int(WINDOW_SIZE // 2)\n",
    "    y1 = moving_average(y, window_size)\n",
    "    x1 = x[shift : shift + len(y1)]\n",
    "\n",
    "    return x1, y1"
   ]
  },
  {
   "cell_type": "code",
   "execution_count": null,
   "metadata": {},
   "outputs": [],
   "source": [
    "spline_fit = UnivariateSpline(x, y, s=.2)"
   ]
  },
  {
   "cell_type": "code",
   "execution_count": null,
   "metadata": {},
   "outputs": [],
   "source": [
    "p0 = (1.68881617e-03, 1.00011615e+00, 6.36903398e+00)\n",
    "\n",
    "def get_linear_expon_fit(x, y):\n",
    "    b, a = np.polyfit(x, np.log(y), 1, w = np.sqrt(y))\n",
    "    return lambda x: np.exp(a + b * (x + WINDOW_SIZE))\n",
    "\n",
    "def get_optimize_expon_fit(x, y, p0):\n",
    "    def func(x, a, b, c):\n",
    "        return a * np.power(b, (c * x))\n",
    "\n",
    "    popt, pcov = curve_fit(func, x, y, p0 = p0)\n",
    "    return lambda x: func(x, *popt)\n",
    "\n",
    "rolling = [3, 5, 10, 15]\n",
    "rolling_coords = [roll(bins[:-1], greedy_sample_func, r) for r in rolling]\n",
    "optimize_fits = [get_optimize_expon_fit(x,y, p0) for x,y in rolling_coords]\n",
    "\n",
    "for i, fit in enumerate(optimize_fits):\n",
    "    plt.plot(fit(x1), linestyle = 'dashed', label = f'w-size: {rolling[i]}')\n",
    "\n",
    "plt.legend(loc='upper left')"
   ]
  },
  {
   "cell_type": "code",
   "execution_count": null,
   "metadata": {},
   "outputs": [],
   "source": [
    "users = list(osu_random_db['osu_user_stats'].find({}, {'_id': 1, 'rank_score': 1}))\n",
    "sampled_users = []\n",
    "\n",
    "for user in users:\n",
    "    if user['rank_score'] < 7000 and random() < ys[int(user['rank_score'])]:\n",
    "        sampled_users.append(user)\n",
    "\n",
    "sampled_user_ids = [u['_id'] for u in sampled_users]\n",
    "\n",
    "sampled_scores = list(\n",
    "    osu_random_db['osu_scores_high'].find({\n",
    "        'user_id': {\n",
    "            '$in': sampled_user_ids\n",
    "        },\n",
    "        'date': {\n",
    "            '$gt': DATE_LIMIT\n",
    "        }\n",
    "    })\n",
    ")\n",
    "\n",
    "score_pp_greedy = [s['mlpp']['est_user_pp'] for s in sampled_scores]"
   ]
  },
  {
   "cell_type": "code",
   "execution_count": null,
   "metadata": {},
   "outputs": [],
   "source": [
    "score_pp_pdf = np.load(\"scores_pdf.npy\")"
   ]
  },
  {
   "cell_type": "code",
   "execution_count": null,
   "metadata": {},
   "outputs": [],
   "source": [
    "def err_displaced_uniform(data):\n",
    "    n = 50\n",
    "    uni = np.full(n, len(data) / n)\n",
    "    binned, _ = np.histogram(data, n)\n",
    "    displacement = np.sum(np.abs(binned - uni)) / 2\n",
    "    return displacement / len(data)"
   ]
  },
  {
   "cell_type": "code",
   "execution_count": null,
   "metadata": {},
   "outputs": [],
   "source": [
    "_ = plt.hist(score_pp_greedy, bins = 50, density = True, alpha=0.8, label='greedy')\n",
    "_ = plt.hist(score_pp_pdf, bins = 50, density = True, alpha=0.8, label='pdf')\n",
    "_ = plt.plot(np.arange(0,7000), np.full(7000, 1/7000))\n",
    "plt.legend(loc='upper right')"
   ]
  },
  {
   "cell_type": "code",
   "execution_count": null,
   "metadata": {},
   "outputs": [],
   "source": [
    "np.save(\"greedy_sample_func.npy\", sample_func)"
   ]
  },
  {
   "cell_type": "code",
   "execution_count": null,
   "metadata": {},
   "outputs": [],
   "source": [
    "%matplotlib notebook\n",
    "\n",
    "def animate(i):\n",
    "    plt.cla()\n",
    "    plt.title(\"Greedy Sampling on decreasing PP ranges\")\n",
    "    plt.xlabel(\"Score est pp\")\n",
    "    plt.ylabel(\"Count included\")\n",
    "    plt.hist(bins, NUM_BINS, weights = bins_hist[i])\n",
    "    plt.ylim([0,4000])\n",
    "    high = int(MAX_PP * (1 - i / NUM_BINS))\n",
    "    low = int(high - MAX_PP / NUM_BINS)\n",
    "    plt.gca().annotate(f'range={low}-{high}', [5000, 3800])\n",
    "\n",
    "fig = plt.figure()\n",
    "\n",
    "ani = animation.FuncAnimation(fig, animate, frames=NUM_BINS, save_count=NUM_BINS, repeat = False)\n",
    "# ani.save(\"greedy_sampling_progression.gif\", fps = 30)"
   ]
  }
 ],
 "metadata": {
  "kernelspec": {
   "display_name": "Python 3",
   "language": "python",
   "name": "python3"
  },
  "language_info": {
   "codemirror_mode": {
    "name": "ipython"
   },
   "file_extension": ".py",
   "mimetype": "text/x-python",
   "name": "python",
   "nbconvert_exporter": "python"
  }
 },
 "nbformat": 4,
 "nbformat_minor": 2
}
