{
 "metadata": {
  "language_info": {
   "codemirror_mode": {
    "name": "ipython",
    "version": 3
   },
   "file_extension": ".py",
   "mimetype": "text/x-python",
   "name": "python",
   "nbconvert_exporter": "python",
   "pygments_lexer": "ipython3",
   "version": "3.8.5-final"
  },
  "orig_nbformat": 2,
  "kernelspec": {
   "name": "python3",
   "display_name": "Python 3",
   "language": "python"
  }
 },
 "nbformat": 4,
 "nbformat_minor": 2,
 "cells": [
  {
   "cell_type": "code",
   "execution_count": 60,
   "metadata": {},
   "outputs": [],
   "source": [
    "from pymongo import UpdateOne\n",
    "from tqdm import tqdm\n",
    "from exploration.config import mongo_inst\n",
    "from mlpp.data_collection.pp_calculation import fast_pp_hist"
   ]
  },
  {
   "cell_type": "code",
   "execution_count": 3,
   "metadata": {},
   "outputs": [],
   "source": [
    "osu_random_db = mongo_inst['osu_random_db']"
   ]
  },
  {
   "cell_type": "code",
   "execution_count": 72,
   "metadata": {},
   "outputs": [],
   "source": [
    "user_ids = list(map(lambda c: c['_id'], osu_random_db['osu_user_stats'].find({}, {})))"
   ]
  },
  {
   "cell_type": "code",
   "execution_count": 73,
   "metadata": {},
   "outputs": [
    {
     "output_type": "stream",
     "name": "stderr",
     "text": [
      "100%|██████████| 59697/59697 [28:51<00:00, 34.48it/s] \n"
     ]
    }
   ],
   "source": [
    "for user_id in tqdm(user_ids):\n",
    "    scores = list(osu_random_db['osu_scores_high'].find({'user_id': user_id}, {'pp': 1, 'date': 1}).sort('date'))\n",
    "    score_hist = list(map(lambda x: x['pp'] if x['pp'] else 0, scores))\n",
    "    pp_hist = fast_pp_hist(score_hist)\n",
    "\n",
    "    score_updates = []\n",
    "    for i in range(len(scores)):\n",
    "        query = {'_id': scores[i]['_id']}\n",
    "        update = {'$set': {'mlpp.est_user_pp': pp_hist[i]}}\n",
    "        score_updates.append(UpdateOne(query, update))\n",
    "\n",
    "    osu_random_db['osu_scores_high'].bulk_write(score_updates)\n",
    " "
   ]
  }
 ]
}