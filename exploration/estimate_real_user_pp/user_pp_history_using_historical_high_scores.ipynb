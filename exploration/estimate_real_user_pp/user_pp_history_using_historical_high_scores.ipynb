{
 "cells": [
  {
   "cell_type": "markdown",
   "metadata": {},
   "source": [
    "# Estimate user pp at time of play\n",
    "**Contributors:** Victor Lin\n",
    "\n",
    "**Achievement:** Player pp at the time a score was set can be estimated by computing pp on all scores the player set before the play."
   ]
  },
  {
   "cell_type": "markdown",
   "metadata": {},
   "source": [
    "## Introduction\n",
    "Except for very recent plays, a player's pp does not reflect their skill at the time a score was set. Therefore, the amount of useable data would increase significantly if an accurate estimate of the user's pp at the time of play can be calculated"
   ]
  },
  {
   "cell_type": "code",
   "execution_count": 1,
   "metadata": {},
   "outputs": [],
   "source": [
    "import sys\n",
    "sys.path.append('../..')\n",
    "from pymongo import UpdateOne\n",
    "from tqdm import tqdm\n",
    "import numpy as np\n",
    "from exploration.config import mongo_inst\n",
    "from mlpp.data_collection.pp_calculation import fast_pp_hist"
   ]
  },
  {
   "cell_type": "code",
   "execution_count": 12,
   "metadata": {},
   "outputs": [],
   "source": [
    "osu_random_db = mongo_inst['osu_random_db']"
   ]
  },
  {
   "cell_type": "code",
   "execution_count": 13,
   "metadata": {},
   "outputs": [],
   "source": [
    "user_ids = list(map(lambda c: c['_id'], osu_random_db['osu_user_stats'].find({}, {})))"
   ]
  },
  {
   "cell_type": "code",
   "execution_count": 16,
   "metadata": {},
   "outputs": [],
   "source": [
    "cnt_bonus = []\n",
    "curr = 1\n",
    "for i in range(100000):\n",
    "    curr *= .9994\n",
    "    cnt_bonus.append(416.6667 * (1 - curr))\n",
    "cnt_bonus = np.array(cnt_bonus)"
   ]
  },
  {
   "cell_type": "markdown",
   "metadata": {},
   "source": [
    "## Estimating scores for each Player\n",
    "fast_pp_history enables fast calculation of the player's estimated pp for a date-sorted list of scores. Score estimation calculations are grouped by player."
   ]
  },
  {
   "cell_type": "code",
   "execution_count": 18,
   "metadata": {},
   "outputs": [
    {
     "name": "stderr",
     "output_type": "stream",
     "text": [
      "100%|██████████| 59697/59697 [28:04<00:00, 35.43it/s] \n"
     ]
    }
   ],
   "source": [
    "for user_id in tqdm(user_ids):\n",
    "    scores = list(osu_random_db['osu_scores_high'].find({'user_id': user_id}, {'pp': 1, 'date': 1}).sort('date'))\n",
    "    score_hist = list(map(lambda x: x['pp'] if x['pp'] else 0, scores))\n",
    "    pp_hist = np.array(fast_pp_hist(score_hist))\n",
    "    bonus_pp_hist = pp_hist + cnt_bonus[:len(pp_hist)]\n",
    "\n",
    "    score_updates = []\n",
    "    for i in range(len(scores)):\n",
    "        query = {'_id': scores[i]['_id']}\n",
    "        update = {\n",
    "            '$set': {\n",
    "                'mlpp.est_user_raw_pp': pp_hist[i],\n",
    "                'mlpp.est_user_pp': bonus_pp_hist[i]\n",
    "            }\n",
    "        }\n",
    "        score_updates.append(UpdateOne(query, update))\n",
    "\n",
    "    osu_random_db['osu_scores_high'].bulk_write(score_updates)\n",
    "\n",
    "    osu_random_db['osu_user_stats'].update_one({'_id': user_id}, {\n",
    "        '$set': {\n",
    "            'mlpp': {\n",
    "                'est_current_raw_pp': pp_hist[-1],\n",
    "                'est_current_pp': bonus_pp_hist[-1]\n",
    "            }\n",
    "        }\n",
    "    })\n",
    "    "
   ]
  }
 ],
 "metadata": {
  "kernelspec": {
   "display_name": "dsu-mlpp-KBwWrVww",
   "language": "python",
   "name": "dsu-mlpp-kbwwrvww"
  },
  "language_info": {
   "codemirror_mode": {
    "name": "ipython",
    "version": 3
   },
   "file_extension": ".py",
   "mimetype": "text/x-python",
   "name": "python",
   "nbconvert_exporter": "python",
   "pygments_lexer": "ipython3",
   "version": "3.8.5-final"
  }
 },
 "nbformat": 4,
 "nbformat_minor": 2
}