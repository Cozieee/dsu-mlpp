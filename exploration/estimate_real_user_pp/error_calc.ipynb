{
 "cells": [
  {
   "cell_type": "code",
   "execution_count": null,
   "metadata": {},
   "outputs": [],
   "source": [
    "# Historical pp curve error calculation: Euclidean distance MSE"
   ]
  },
  {
   "cell_type": "code",
   "execution_count": null,
   "metadata": {},
   "outputs": [],
   "source": [
    "import sys\n",
    "sys.path.append('../..')\n",
    "from pymongo import UpdateOne\n",
    "from pymongo import MongoClient\n",
    "from tqdm import tqdm\n",
    "import numpy as np\n",
    "from exploration.config import mongo_inst\n",
    "from mlpp.data_collection.sample import osuDumpSampler\n",
    "import datetime\n",
    "from datetime import datetime\n",
    "import pprint\n",
    "import matplotlib.pyplot as plt\n",
    "# from fastdtw import fastdtw\n",
    "# from scipy.spatial.distance import euclidean"
   ]
  },
  {
   "cell_type": "code",
   "execution_count": null,
   "metadata": {},
   "outputs": [],
   "source": [
    "client = MongoClient(port=27017)\n",
    "db = client.osu_top_db\n",
    "top_db = mongo_inst[\"osu_top_db\"]\n",
    "test = osuDumpSampler(top_db)\n",
    "user_ids = list(map(lambda c: c['_id'], top_db['osu_user_stats'].find({}, {})))"
   ]
  },
  {
   "cell_type": "code",
   "execution_count": null,
   "metadata": {},
   "outputs": [],
   "source": [
    "#Find users that have more than 50 data points & creates a new list of user ids\n",
    "big_user_ids = []\n",
    "subset_user_ids = user_ids[0:100] # the first ten had 5, the second had 6, the third had 5\n",
    "\n",
    "for i in subset_user_ids:\n",
    "    datapts = len(list(db.osu_track_updates.find({\"user_id\": i}, {\"date\":1})))\n",
    "    if datapts > 50: #arbitrary number\n",
    "        big_user_ids.append(i)\n"
   ]
  },
  {
   "cell_type": "code",
   "execution_count": null,
   "metadata": {},
   "outputs": [],
   "source": [
    "#Finds the date & real_pp and then sorts by date\n",
    "real_pp = {}\n",
    "for i in big_user_ids:\n",
    "    real_pp[i] = list(db.osu_track_updates.find( {\"user_id\": i}, {\"_id\":0, \"timestamp\": 1, \"pp_raw\":1}))\n",
    "    real_pp[i].sort(key = lambda x:x[\"timestamp\"])\n",
    "#real_pp[big_user_ids[0]]"
   ]
  },
  {
   "cell_type": "code",
   "execution_count": null,
   "metadata": {},
   "outputs": [],
   "source": [
    "#Finds the date and est_user_pp and then sorts by date\n",
    "est_pp = {}\n",
    "for i in big_user_ids:\n",
    "    est_pp[i] = list(db.osu_scores_high.find( {\"user_id\": i}, {\"_id\":0, \"date\": 1, \"mlpp.est_user_pp\":1}))\n",
    "    est_pp[i].sort(key = lambda x:x[\"date\"]) \n",
    "#est_pp[big_user_ids[0]]"
   ]
  },
  {
   "cell_type": "code",
   "execution_count": null,
   "metadata": {},
   "outputs": [],
   "source": [
    "#Finds the overlap time periods\n",
    "time_comparison = {}\n",
    "for i in big_user_ids:\n",
    "    earliest_est_date = est_pp[i][0][\"date\"]\n",
    "    earliest_real_date = real_pp[i][0][\"timestamp\"]\n",
    "    latest_est_date = est_pp[i][-1][\"date\"]\n",
    "    latest_real_date = real_pp[i][-1][\"timestamp\"]\n",
    "    if earliest_est_date >= earliest_real_date:\n",
    "        start = earliest_est_date\n",
    "    else:\n",
    "        start = earliest_real_date\n",
    "    if latest_est_date <= latest_real_date:\n",
    "        end = latest_est_date\n",
    "    else:\n",
    "        end = latest_real_date\n",
    "    time_comparison[i] = {\"start\": start, \"end\": end}\n",
    "#pp=pprint.PrettyPrinter(indent=4)\n",
    "#pp.pprint(time_comparison)"
   ]
  },
  {
   "cell_type": "code",
   "execution_count": null,
   "metadata": {},
   "outputs": [],
   "source": [
    "#Gets the table for real user pp\n",
    "first_user = big_user_ids[0]\n",
    "real_start_time = []\n",
    "real_pp_points = []\n",
    "for i in real_pp[first_user]:\n",
    "    real_start_time.append(i[\"timestamp\"])\n",
    "    real_pp_points.append(i[\"pp_raw\"])\n",
    "real_table = np.column_stack((real_start_time, real_pp_points))\n",
    "#plt.plot(real_table[:,0], real_table[:,1])\n"
   ]
  },
  {
   "cell_type": "code",
   "execution_count": null,
   "metadata": {},
   "outputs": [],
   "source": [
    "#Gets the table for est user pp\n",
    "est_start_time = []\n",
    "est_pp_points = []\n",
    "for i in est_pp[first_user]:\n",
    "    est_start_time.append(i[\"date\"])\n",
    "    est_pp_points.append(i[\"mlpp\"][\"est_user_pp\"])\n",
    "est_table = np.column_stack((est_start_time, est_pp_points))\n",
    "#plt.plot(est_table[:,0], est_table[:,1])\n",
    "#plt.xlim(time_comparison[first_user][\"start\"], time_comparison[first_user][\"end\"])\n",
    "#plt.ylim(5000,8000)"
   ]
  },
  {
   "cell_type": "code",
   "execution_count": null,
   "metadata": {},
   "outputs": [],
   "source": [
    "#Visually compare the real and est user pp within the overlap timeframe\n",
    "plt.plot(real_table[:,0], real_table[:,1], label=\"real\")\n",
    "plt.plot(est_table[:,0], est_table[:,1], label=\"est\")\n",
    "plt.xlim(time_comparison[first_user][\"start\"], time_comparison[first_user][\"end\"])\n",
    "plt.ylim(5500,7500)\n",
    "plt.legend()\n",
    "plt.title('Real vs ets usesr pp within the overlap timeframe');"
   ]
  },
  {
   "cell_type": "code",
   "execution_count": null,
   "metadata": {},
   "outputs": [],
   "source": [
    "#Get fifty points of real pp\n",
    "x = []\n",
    "real_within = real_table[real_table[:,0] >= time_comparison[first_user][\"start\"]]\n",
    "real_within = real_within[real_within[:,0] <= time_comparison[first_user][\"end\"]]\n",
    "real_xp = real_within[:,0]\n",
    "real_fp = real_within[:,1]\n",
    "\n",
    "begin = real_xp[0] \n",
    "end = real_xp[-1] \n",
    "intervals = 50 \n",
    "real_date_list = [] \n",
    "delta = (end - begin)/intervals \n",
    "for i in range(1, intervals + 1): \n",
    "    real_date_list.append((begin+i*delta).timestamp())\n",
    "\n",
    "k  = 0\n",
    "for i in real_xp:\n",
    "    real_xp[k] = i.timestamp()\n",
    "    k+=1\n",
    "\n",
    "real_fifty_points = np.interp(real_date_list,list(real_xp),list(real_fp))\n",
    "real_fifty_points"
   ]
  },
  {
   "cell_type": "code",
   "execution_count": null,
   "metadata": {},
   "outputs": [],
   "source": [
    "#Get fifty points of est pp\n",
    "x = []\n",
    "est_within = est_table[est_table[:,0] >= time_comparison[first_user][\"start\"]]\n",
    "est_within = est_within[est_within[:,0] <= time_comparison[first_user][\"end\"]]\n",
    "xp = est_within[:,0]\n",
    "fp = est_within[:,1]\n",
    "\n",
    "begin = xp[0] \n",
    "end = xp[-1] \n",
    "intervals = 50 \n",
    "date_list = [] \n",
    "delta = (end - begin)/intervals \n",
    "for i in range(1, intervals + 1): \n",
    "    date_list.append((begin+i*delta).timestamp())\n",
    "\n",
    "k  = 0\n",
    "for i in xp:\n",
    "    xp[k] = i.timestamp()\n",
    "    k+=1\n",
    "\n",
    "est_fifty_points = np.interp(date_list,list(xp),list(fp))\n",
    "est_fifty_points"
   ]
  },
  {
   "cell_type": "code",
   "execution_count": null,
   "metadata": {},
   "outputs": [],
   "source": [
    "#Calculate mse for one user\n",
    "mse = (np.square(real_fifty_points - est_fifty_points)).mean()\n",
    "mse"
   ]
  },
  {
   "cell_type": "code",
   "execution_count": null,
   "metadata": {},
   "outputs": [],
   "source": [
    "#Get 10k points of real pp\n",
    "x = []\n",
    "real_within = real_table[real_table[:,0] >= time_comparison[first_user][\"start\"]]\n",
    "real_within = real_within[real_within[:,0] <= time_comparison[first_user][\"end\"]]\n",
    "real_xp = real_within[:,0]\n",
    "real_fp = real_within[:,1]\n",
    "\n",
    "begin = real_xp[0] \n",
    "end = real_xp[-1] \n",
    "intervals = 10000 \n",
    "real_date_list = [] \n",
    "delta = (end - begin)/intervals \n",
    "for i in range(1, intervals + 1): \n",
    "    real_date_list.append((begin+i*delta).timestamp())\n",
    "\n",
    "k  = 0\n",
    "for i in real_xp:\n",
    "    real_xp[k] = i.timestamp()\n",
    "    k+=1\n",
    "\n",
    "real_tenThousand_points = np.interp(real_date_list,list(real_xp),list(real_fp))\n",
    "#real_tenThousand_points"
   ]
  },
  {
   "cell_type": "code",
   "execution_count": null,
   "metadata": {},
   "outputs": [],
   "source": [
    "#Get 10k points of est pp\n",
    "x = []\n",
    "est_within = est_table[est_table[:,0] >= time_comparison[first_user][\"start\"]]\n",
    "est_within = est_within[est_within[:,0] <= time_comparison[first_user][\"end\"]]\n",
    "xp = est_within[:,0]\n",
    "fp = est_within[:,1]\n",
    "\n",
    "begin = xp[0] \n",
    "end = xp[-1] \n",
    "intervals = 10000 \n",
    "date_list = [] \n",
    "delta = (end - begin)/intervals \n",
    "for i in range(1, intervals + 1): \n",
    "    date_list.append((begin+i*delta).timestamp())\n",
    "\n",
    "k  = 0\n",
    "for i in xp:\n",
    "    xp[k] = i.timestamp()\n",
    "    k+=1\n",
    "\n",
    "est_tenThousand_points = np.interp(date_list,list(xp),list(fp))\n",
    "#est_tenThousand_points"
   ]
  },
  {
   "cell_type": "code",
   "execution_count": null,
   "metadata": {},
   "outputs": [],
   "source": [
    "#Get area between curve for real and curve for est\n",
    "a = time_comparison[first_user][\"start\"].timestamp()\n",
    "b = time_comparison[first_user][\"end\"].timestamp()\n",
    "N = 1000 #arbitrary number\n",
    "dx = (b - a) / N\n",
    "x_midpoint = np.linspace(dx / 2, b - dx / 2, N)\n",
    "real_midpoint_riemann = np.sum(real_tenThousand_points * dx)\n",
    "est_midpoint_riemann = np.sum(est_tenThousand_points * dx)\n",
    "area_between_curves = real_midpoint_riemann - est_midpoint_riemann\n",
    "area_between_curves"
   ]
  },
  {
   "cell_type": "code",
   "execution_count": null,
   "metadata": {},
   "outputs": [],
   "source": [
    "#DTW\n",
    "def dtw(s, t):\n",
    "    n, m = len(s), len(t)\n",
    "    dtw_matrix = np.zeros((n+1, m+1))\n",
    "    for i in range(n+1):\n",
    "        for j in range(m+1):\n",
    "            dtw_matrix[i, j] = np.inf\n",
    "    dtw_matrix[0, 0] = 0\n",
    "    for i in range(1, n+1):\n",
    "        for j in range(1, m+1):\n",
    "            cost = abs(s[i-1] - t[j-1])\n",
    "            # take last min from a square box\n",
    "            last_min = np.min([dtw_matrix[i-1, j], dtw_matrix[i, j-1], dtw_matrix[i-1, j-1]])\n",
    "            dtw_matrix[i, j] = cost + last_min\n",
    "    return dtw_matrix\n",
    "cost_matrix = dtw(real_within[:,1], est_within[:,1])\n",
    "dtw_distance = cost_matrix[-1][-1]"
   ]
  }
 ],
 "metadata": {
  "kernelspec": {
   "display_name": "Python 3",
   "language": "python",
   "name": "python3"
  },
  "language_info": {
   "codemirror_mode": {
    "name": "ipython"
   },
   "file_extension": ".py",
   "mimetype": "text/x-python",
   "name": "python",
   "nbconvert_exporter": "python"
  }
 },
 "nbformat": 4,
 "nbformat_minor": 5
}
