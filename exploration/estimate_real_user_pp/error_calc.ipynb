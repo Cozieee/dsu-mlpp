{
 "cells": [
  {
   "cell_type": "code",
   "execution_count": null,
   "metadata": {},
   "outputs": [],
   "source": [
    "# Historical pp curve error calculation: Euclidean distance MSE\n",
    "#!pipenv install scipy\n",
    "#!pipenv install fastdtw"
   ]
  },
  {
   "cell_type": "code",
   "execution_count": null,
   "metadata": {},
   "outputs": [],
   "source": [
    "import sys\n",
    "sys.path.append('../..')\n",
    "from pymongo import UpdateOne\n",
    "from pymongo import MongoClient\n",
    "from tqdm import tqdm\n",
    "import numpy as np\n",
    "from exploration.config import mongo_inst\n",
    "from mlpp.data_collection.sample import osuDumpSampler\n",
    "import datetime\n",
    "from datetime import datetime\n",
    "import pprint\n",
    "import matplotlib.pyplot as plt\n",
    "import pickle \n",
    "from fastdtw import fastdtw\n",
    "from scipy.spatial.distance import euclidean"
   ]
  },
  {
   "cell_type": "code",
   "execution_count": null,
   "metadata": {},
   "outputs": [],
   "source": [
    "client = MongoClient(port=27017)\n",
    "db = client.osu_top_db\n",
    "top_db = mongo_inst[\"osu_top_db\"]\n",
    "test = osuDumpSampler(top_db)\n",
    "user_ids = list(map(lambda c: c['_id'], top_db['osu_user_stats'].find({}, {})))"
   ]
  },
  {
   "cell_type": "code",
   "execution_count": null,
   "metadata": {},
   "outputs": [],
   "source": [
    "#DON\"T RUN THIS CELL! DATA IS ALREADY SAVED!\n",
    "\n",
    "#Find users that have more than 50 data points & creates a new list of user ids\n",
    "\n",
    "# big_user_ids = []\n",
    "# for i in user_ids:\n",
    "#     datapts = len(list(db.osu_track_updates.find({\"user_id\": i}, {\"date\":1})))\n",
    "#     if datapts > 50: #arbitrary number\n",
    "#         big_user_ids.append(i)\n",
    "\n"
   ]
  },
  {
   "cell_type": "code",
   "execution_count": null,
   "metadata": {},
   "outputs": [],
   "source": [
    "#DON\"T RUN THIS CELL! DATA IS ALREADY SAVED!\n",
    "\n",
    "### Find the date & pp for real and est sorted by date that are within the overlap time periods\n",
    "## Finds the date & real_pp and then sorts by date\n",
    "\n",
    "# real_pp = {}\n",
    "# for i in big_user_ids:\n",
    "#     real_pp[i] = list(db.osu_track_updates.find( {\"user_id\": i}, {\"_id\":0, \"timestamp\": 1, \"pp_raw\":1}))\n",
    "#     real_pp[i].sort(key = lambda x:x[\"timestamp\"])\n",
    "\n"
   ]
  },
  {
   "cell_type": "code",
   "execution_count": null,
   "metadata": {},
   "outputs": [],
   "source": [
    "#DON\"T RUN THIS CELL! DATA IS ALREADY SAVED!\n",
    "\n",
    "## Finds the date and est_user_pp and then sorts by date\n",
    "\n",
    "# est_pp = {}\n",
    "# for i in big_user_ids:\n",
    "#     est_pp[i] = list(db.osu_scores_high.find( {\"user_id\": i}, {\"_id\":0, \"date\": 1, \"mlpp.est_user_pp\":1}))\n",
    "#     est_pp[i].sort(key = lambda x:x[\"date\"]) \n",
    "\n"
   ]
  },
  {
   "cell_type": "code",
   "execution_count": null,
   "metadata": {},
   "outputs": [],
   "source": [
    "#DON\"T RUN THIS CELL! DATA IS ALREADY SAVED!\n",
    "\n",
    "## Finds the overlap time periods\n",
    "\n",
    "# time_comparison = {}\n",
    "# for i in big_user_ids:\n",
    "#     earliest_est_date = est_pp[i][0][\"date\"]\n",
    "#     earliest_real_date = real_pp[i][0][\"timestamp\"]\n",
    "#     latest_est_date = est_pp[i][-1][\"date\"]\n",
    "#     latest_real_date = real_pp[i][-1][\"timestamp\"]\n",
    "#     if earliest_est_date >= earliest_real_date:\n",
    "#         start = earliest_est_date\n",
    "#     else:\n",
    "#         start = earliest_real_date\n",
    "#     if latest_est_date <= latest_real_date:\n",
    "#         end = latest_est_date\n",
    "#     else:\n",
    "#         end = latest_real_date\n",
    "#     time_comparison[i] = {\"start\": start, \"end\": end}\n",
    "\n",
    "\n",
    "#pp=pprint.PrettyPrinter(indent=4)\n",
    "#pp.pprint(time_comparison)"
   ]
  },
  {
   "cell_type": "code",
   "execution_count": null,
   "metadata": {},
   "outputs": [],
   "source": [
    "#big_user_file = open('big_user_file.obj', 'wb') \n",
    "#pickle.dump(big_user_ids, big_user_file)\n",
    "#real_pp_big_user_file = open('real_pp_big_user_file.obj', 'wb') \n",
    "#pickle.dump(real_pp, real_pp_big_user_file)\n",
    "#est_pp_big_user_file = open('est_pp_big_user_file.obj', 'wb') \n",
    "#pickle.dump(est_pp, est_pp_big_user_file)\n",
    "#overlap_time_big_user_file = open('overlap_time_big_user_file.obj', 'wb') \n",
    "overlap_time_big_user_file = open('overlap_time_big_user_file.obj', 'wb') \n",
    "pickle.dump(time_comparison, overlap_time_big_user_file)pickle.dump(time_comparison, overlap_time_big_user_file)"
   ]
  },
  {
   "cell_type": "code",
   "execution_count": null,
   "metadata": {},
   "outputs": [],
   "source": [
    "# Run this cell to load all the data\n",
    "big_user_ids = pickle.load(open(\"big_user_file.obj\", \"rb\"))\n",
    "#real_pp = pickle.load(open(\"real_pp_big_user_file.obj\", \"rb\"))\n",
    "#est_pp = pickle.load(open(\"est_pp_big_user_file.obj\", \"rb\"))\n",
    "time_comparison = pickle.load(open(\"overlap_time_big_user_file.obj\", \"rb\"))"
   ]
  },
  {
   "cell_type": "code",
   "execution_count": null,
   "metadata": {},
   "outputs": [],
   "source": [
    "bad_users = []\n",
    "bad_users_index = []\n",
    "k = 0\n",
    "for user in time_comparison:\n",
    "    if time_comparison[user][\"start\"] >= time_comparison[user][\"end\"]:\n",
    "        bad_users.append(user)\n",
    "        bad_users_index.append(k)\n",
    "    k = k+1\n",
    "bad_users_index"
   ]
  },
  {
   "cell_type": "code",
   "execution_count": null,
   "metadata": {},
   "outputs": [],
   "source": [
    "# for i in bad_users_index:\n",
    "#     big_user_ids = np.delete(big_user_ids, [i])\n",
    "\n",
    "# for user in bad_users:\n",
    "#     del real_pp[user]\n",
    "#     del est_pp[user]\n",
    "#     del time_comparison[user]"
   ]
  },
  {
   "cell_type": "code",
   "execution_count": null,
   "metadata": {},
   "outputs": [],
   "source": [
    "def CREATE_REAL_USER_TABLE (one_user_id):\n",
    "    real_start_time = []\n",
    "    real_pp_points = []\n",
    "    for i in real_pp[one_user_id]:\n",
    "        real_start_time.append(i[\"timestamp\"])\n",
    "        real_pp_points.append(i[\"pp_raw\"])\n",
    "    real_table = np.column_stack((real_start_time, real_pp_points))\n",
    "    return real_table"
   ]
  },
  {
   "cell_type": "code",
   "execution_count": null,
   "metadata": {},
   "outputs": [],
   "source": [
    "## Gets the table for real user pp for all big users\n",
    "real_table_for_all = {}\n",
    "for user in big_user_ids:\n",
    "    real_table_for_all[user] = CREATE_REAL_USER_TABLE(user)"
   ]
  },
  {
   "cell_type": "code",
   "execution_count": null,
   "metadata": {},
   "outputs": [],
   "source": [
    "def CREATE_EST_USER_TABLE (one_user_id):\n",
    "    est_start_time = []\n",
    "    est_pp_points = []\n",
    "    for i in est_pp[one_user_id]:\n",
    "        est_start_time.append(i[\"date\"])\n",
    "        est_pp_points.append(i[\"mlpp\"][\"est_user_pp\"])\n",
    "    est_table = np.column_stack((est_start_time, est_pp_points))\n",
    "    return est_table"
   ]
  },
  {
   "cell_type": "code",
   "execution_count": null,
   "metadata": {},
   "outputs": [],
   "source": [
    "## Gets the table for est user pp for all big users\n",
    "est_table_for_all = {}\n",
    "for user in big_user_ids:\n",
    "    est_table_for_all[user] = CREATE_EST_USER_TABLE(user)"
   ]
  },
  {
   "cell_type": "code",
   "execution_count": null,
   "metadata": {},
   "outputs": [],
   "source": [
    "def GET_REAL_NPOINTS(n, user):\n",
    "    real_within = real_table_for_all[user][real_table_for_all[user][:,0] >= time_comparison[user][\"start\"]]\n",
    "    real_within = real_within[real_within[:,0] <= time_comparison[user][\"end\"]]\n",
    "    real_xp = real_within[:,0]\n",
    "    real_fp = real_within[:,1]\n",
    "\n",
    "    begin = real_xp[0] \n",
    "    end = real_xp[-1] \n",
    "    real_date_list = [] \n",
    "    delta = (end - begin)/n\n",
    "    for i in range(1, n + 1): \n",
    "        real_date_list.append((begin+i*delta).timestamp())\n",
    "\n",
    "    k  = 0\n",
    "    for i in real_xp:\n",
    "        real_xp[k] = i.timestamp()\n",
    "        k+=1\n",
    "\n",
    "    real_npoints = np.interp(real_date_list,list(real_xp),list(real_fp))\n",
    "    return real_npoints"
   ]
  },
  {
   "cell_type": "code",
   "execution_count": null,
   "metadata": {},
   "outputs": [],
   "source": [
    "def GET_EST_NPOINTS(n, user):\n",
    "    est_within = est_table_for_all[user][est_table_for_all[user][:,0] >= time_comparison[user][\"start\"]]\n",
    "    est_within = est_within[est_within[:,0] <= time_comparison[user][\"end\"]]\n",
    "    xp = est_within[:,0]\n",
    "    fp = est_within[:,1]\n",
    "\n",
    "    begin = xp[0] \n",
    "    end = xp[-1] \n",
    "    date_list = [] \n",
    "    delta = (end - begin)/n\n",
    "    for i in range(1, n + 1): \n",
    "        date_list.append((begin+i*delta).timestamp())\n",
    "\n",
    "    k  = 0\n",
    "    for i in xp:\n",
    "        xp[k] = i.timestamp()\n",
    "        k+=1\n",
    "\n",
    "    est_npoints = np.interp(date_list,list(xp),list(fp))\n",
    "    return est_npoints"
   ]
  },
  {
   "cell_type": "code",
   "execution_count": null,
   "metadata": {},
   "outputs": [],
   "source": [
    "## MSE\n",
    "def GET_MSE(n, user):\n",
    "    real_points = GET_REAL_NPOINTS(n, user)\n",
    "    est_points = GET_EST_NPOINTS(n, user)\n",
    "    mse_for_one = (np.square(real_points - est_points)).mean()\n",
    "    return mse_for_one"
   ]
  },
  {
   "cell_type": "code",
   "execution_count": null,
   "metadata": {},
   "outputs": [],
   "source": [
    "### Calculate mse for one user\n",
    "mse_for_all = {}\n",
    "subset = big_user_ids[850:855]\n",
    "\n",
    "for user in subset:\n",
    "    mse_for_all[user] = GET_MSE(50, user)\n",
    "mse_for_all"
   ]
  },
  {
   "cell_type": "code",
   "execution_count": null,
   "metadata": {},
   "outputs": [],
   "source": [
    "## Difference in area\n",
    "### Get 10k points of real pp\n",
    "x = []\n",
    "real_within = real_table[real_table[:,0] >= time_comparison[first_user][\"start\"]]\n",
    "real_within = real_within[real_within[:,0] <= time_comparison[first_user][\"end\"]]\n",
    "real_xp = real_within[:,0]\n",
    "real_fp = real_within[:,1]\n",
    "\n",
    "begin = real_xp[0] \n",
    "end = real_xp[-1] \n",
    "intervals = 10000 \n",
    "real_date_list = [] \n",
    "delta = (end - begin)/intervals \n",
    "for i in range(1, intervals + 1): \n",
    "    real_date_list.append((begin+i*delta).timestamp())\n",
    "\n",
    "k  = 0\n",
    "for i in real_xp:\n",
    "    real_xp[k] = i.timestamp()\n",
    "    k+=1\n",
    "\n",
    "real_tenThousand_points = np.interp(real_date_list,list(real_xp),list(real_fp))\n",
    "#real_tenThousand_points"
   ]
  },
  {
   "cell_type": "code",
   "execution_count": null,
   "metadata": {},
   "outputs": [],
   "source": [
    "### Get 10k points of est pp\n",
    "x = []\n",
    "est_within = est_table[est_table[:,0] >= time_comparison[first_user][\"start\"]]\n",
    "est_within = est_within[est_within[:,0] <= time_comparison[first_user][\"end\"]]\n",
    "xp = est_within[:,0]\n",
    "fp = est_within[:,1]\n",
    "\n",
    "begin = xp[0] \n",
    "end = xp[-1] \n",
    "intervals = 10000 \n",
    "date_list = [] \n",
    "delta = (end - begin)/intervals \n",
    "for i in range(1, intervals + 1): \n",
    "    date_list.append((begin+i*delta).timestamp())\n",
    "\n",
    "k  = 0\n",
    "for i in xp:\n",
    "    xp[k] = i.timestamp()\n",
    "    k+=1\n",
    "\n",
    "est_tenThousand_points = np.interp(date_list,list(xp),list(fp))\n",
    "#est_tenThousand_points"
   ]
  },
  {
   "cell_type": "code",
   "execution_count": null,
   "metadata": {},
   "outputs": [],
   "source": [
    "### Get area between curve for real and curve for est\n",
    "a = time_comparison[first_user][\"start\"].timestamp()\n",
    "b = time_comparison[first_user][\"end\"].timestamp()\n",
    "N = 1000 #arbitrary number\n",
    "dx = (b - a) / N\n",
    "x_midpoint = np.linspace(dx / 2, b - dx / 2, N)\n",
    "total_area_between_curves = 0\n",
    "for i in range(0, 10000):\n",
    "    real_midpoint_riemann = real_tenThousand_points[i] * dx\n",
    "    est_midpoint_riemann = est_tenThousand_points[i] * dx\n",
    "    area_between_curves_one_point = abs(real_midpoint_riemann - est_midpoint_riemann)\n",
    "    total_area_between_curves += area_between_curves_one_point\n",
    "total_area_between_curves = total_area_between_curves / 86400\n",
    "total_area_between_curves"
   ]
  },
  {
   "cell_type": "code",
   "execution_count": null,
   "metadata": {},
   "outputs": [],
   "source": [
    "## DTW\n",
    "distance, path = fastdtw(real_within[:,1], est_within[:,1], dist=euclidean)\n",
    "print(distance)"
   ]
  },
  {
   "cell_type": "code",
   "execution_count": null,
   "metadata": {},
   "outputs": [],
   "source": [
    "# Compare the real and est user pp within the overlap timeframe for the first user\n",
    "## Visually compare the real and est user pp within the overlap timeframe\n",
    "# plt.plot(real_table[:,0], real_table[:,1], label=\"real\")\n",
    "# plt.plot(est_table[:,0], est_table[:,1], label=\"est\")\n",
    "# plt.xlim(time_comparison[first_user][\"start\"], time_comparison[first_user][\"end\"])\n",
    "# plt.ylim(5500,7500)\n",
    "# plt.legend()\n",
    "# plt.title('Real vs ets usesr pp within the overlap timeframe');"
   ]
  }
 ],
 "metadata": {
  "kernelspec": {
   "display_name": "Python 3",
   "language": "python",
   "name": "python3"
  },
  "language_info": {
   "codemirror_mode": {
    "name": "ipython"
   },
   "file_extension": ".py",
   "mimetype": "text/x-python",
   "name": "python",
   "nbconvert_exporter": "python"
  }
 },
 "nbformat": 4,
 "nbformat_minor": 5
}
