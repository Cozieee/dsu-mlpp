{
 "cells": [
  {
   "cell_type": "markdown",
   "metadata": {},
   "source": [
    "# Estimate user pp at time of play\n",
    "**Contributors:** Victor Lin\n",
    "\n",
    "**Achievement:** Player pp at the time a score was set can be estimated by computing pp on all scores the player set before the play.\n",
    "\n",
    "**Requirements:**\n",
    "\n",
    "1. MongoDB Collections<br>\n",
    "1.1 *sql_migration/sql_to_mongo_migration.ipynb* -> osu_user_stats, osu_scores_high "
   ]
  },
  {
   "cell_type": "markdown",
   "metadata": {},
   "source": [
    "## Introduction\n",
    "Except for very recent plays, a player's pp does not reflect their skill at the time a score was set. Therefore, the amount of useable data would increase significantly if an accurate estimate of the user's pp at the time of play can be calculated"
   ]
  },
  {
   "cell_type": "code",
   "execution_count": null,
   "metadata": {},
   "outputs": [],
   "source": [
    "import sys\n",
    "sys.path.append('../..')\n",
    "from pymongo import UpdateOne\n",
    "from tqdm import tqdm\n",
    "import numpy as np\n",
    "from exploration.config import mongo_inst\n",
    "from mlpp.data_collection.pp_calculation import fast_pp_hist"
   ]
  },
  {
   "cell_type": "code",
   "execution_count": null,
   "metadata": {},
   "outputs": [],
   "source": [
    "osu_db = mongo_inst['val_random_db']"
   ]
  },
  {
   "cell_type": "code",
   "execution_count": null,
   "metadata": {},
   "outputs": [],
   "source": [
    "user_ids = list(map(lambda c: c['_id'], osu_db['osu_user_stats'].find({}, {})))"
   ]
  },
  {
   "cell_type": "code",
   "execution_count": null,
   "metadata": {},
   "outputs": [],
   "source": [
    "cnt_bonus = []\n",
    "curr = 1\n",
    "for i in range(100000):\n",
    "    curr *= .9994\n",
    "    cnt_bonus.append(416.6667 * (1 - curr))\n",
    "cnt_bonus = np.array(cnt_bonus)"
   ]
  },
  {
   "cell_type": "markdown",
   "metadata": {},
   "source": [
    "## Estimating scores for each Player\n",
    "fast_pp_history enables fast calculation of the player's estimated pp for a date-sorted list of scores. Score estimation calculations grouped by player."
   ]
  },
  {
   "cell_type": "code",
   "execution_count": null,
   "metadata": {},
   "outputs": [],
   "source": [
    "for user_id in tqdm(user_ids):\n",
    "    scores = list(osu_db['osu_scores_high'].find({'user_id': user_id}, {'pp': 1, 'date': 1}).sort('date'))\n",
    "    score_hist = list(map(lambda x: x['pp'] if x['pp'] else 0, scores))\n",
    "    pp_hist = np.array(fast_pp_hist(score_hist))\n",
    "    bonus_pp_hist = pp_hist + cnt_bonus[:len(pp_hist)]\n",
    "\n",
    "    score_updates = []\n",
    "    for i in range(len(scores)):\n",
    "        query = {'_id': scores[i]['_id']}\n",
    "        update = {\n",
    "            '$set': {\n",
    "                'mlpp.est_user_raw_pp': pp_hist[i],\n",
    "                'mlpp.est_user_pp': bonus_pp_hist[i]\n",
    "            }\n",
    "        }\n",
    "        score_updates.append(UpdateOne(query, update))\n",
    "    \n",
    "    if len(score_updates) > 0:\n",
    "        osu_db['osu_scores_high'].bulk_write(score_updates)\n",
    "\n",
<<<<<<< HEAD:exploration/estimate_real_user_pp/est_user_pp_history_using_historical_high_scores.ipynb
<<<<<<< HEAD
<<<<<<< HEAD
    "        osu_db['osu_user_stats'].update_one({'_id': user_id}, {\n",
    "            '$set': {\n",
    "                'mlpp': {\n",
    "                    'est_current_raw_pp': pp_hist[-1],\n",
    "                    'est_current_pp': bonus_pp_hist[-1]\n",
    "                }\n",
=======
=======
>>>>>>> c4e6055ddcbf046e7b56131f246cd9ddb5aee284
=======
>>>>>>> e7a90c6db835f336c8c1f6e49957945c35c1f89d:exploration/2. estimate_real_user_pp/est_user_pp_history_using_historical_high_scores.ipynb
    "    if len(score_updates) > 0:\n",
    "        osu_random_db['osu_scores_high'].bulk_write(score_updates)\n",
    "\n",
    "    osu_random_db['osu_user_stats'].update_one({'_id': user_id}, {\n",
    "        '$set': {\n",
    "            'mlpp': {\n",
    "                'est_current_raw_pp': pp_hist[-1],\n",
    "                'est_current_pp': bonus_pp_hist[-1]\n",
<<<<<<< HEAD:exploration/estimate_real_user_pp/est_user_pp_history_using_historical_high_scores.ipynb
<<<<<<< HEAD
>>>>>>> beatmaps
=======
=======
    "        osu_db['osu_user_stats'].update_one({'_id': user_id}, {\n",
    "            '$set': {\n",
    "                'mlpp': {\n",
    "                    'est_current_raw_pp': pp_hist[-1],\n",
    "                    'est_current_pp': bonus_pp_hist[-1]\n",
    "                }\n",
>>>>>>> origin
>>>>>>> c4e6055ddcbf046e7b56131f246cd9ddb5aee284
=======
>>>>>>> e7a90c6db835f336c8c1f6e49957945c35c1f89d:exploration/2. estimate_real_user_pp/est_user_pp_history_using_historical_high_scores.ipynb
    "            }\n",
    "        })\n",
    "    else:\n",
    "        osu_db['osu_user_stats'].remove({'_id': user_id})"
   ]
  }
 ],
 "metadata": {
  "kernelspec": {
   "display_name": "Python 3",
   "language": "python",
   "name": "python3"
  },
  "language_info": {
   "codemirror_mode": {
    "name": "ipython"
   },
   "file_extension": ".py",
   "mimetype": "text/x-python",
   "name": "python",
   "nbconvert_exporter": "python"
  }
 },
 "nbformat": 4,
 "nbformat_minor": 2
}