{
 "cells": [
  {
   "cell_type": "code",
   "execution_count": null,
   "id": "traditional-acting",
   "metadata": {},
   "outputs": [],
   "source": [
    "import sys\n",
    "sys.path.append('../..')\n",
    "import pandas as pd\n",
    "from pymongo import UpdateOne\n",
    "from pymongo import MongoClient\n",
    "from tqdm import tqdm\n",
    "import numpy as np\n",
    "from exploration.config import mongo_inst\n",
    "from mlpp.data_collection.sample import osuDumpSampler\n",
    "import datetime\n",
    "from datetime import datetime\n",
    "import pprint\n",
    "import matplotlib.pyplot as plt\n",
    "import pickle \n",
    "from fastdtw import fastdtw\n",
    "from scipy.spatial.distance import euclidean\n",
    "import numpy as np\n",
    "import pandas as pd\n",
    "import matplotlib.pyplot as plt"
   ]
  },
  {
   "cell_type": "markdown",
   "id": "compliant-substitute",
   "metadata": {},
   "source": [
    "# Data Retrievel"
   ]
  },
  {
   "cell_type": "markdown",
   "id": "thousand-savage",
   "metadata": {},
   "source": [
    "### Find users that have more than 50 data points & creates a new list of user ids"
   ]
  },
  {
   "cell_type": "code",
   "execution_count": null,
   "id": "generic-atlas",
   "metadata": {},
   "outputs": [],
   "source": [
    "client = MongoClient(port=27017)\n",
    "top_db = mongo_inst[\"osu_top_db\"]\n",
    "user_ids = list(map(lambda c: c['_id'], top_db['osu_user_stats'].find({}, {})))"
   ]
  },
  {
   "cell_type": "code",
   "execution_count": null,
   "id": "experimental-opera",
   "metadata": {},
   "outputs": [],
   "source": [
    "big_user_ids = []\n",
    "for i in user_ids:\n",
    "    datapts = len(list(top_db.osu_track_updates.find({\"user_id\": i}, {\"date\":1})))\n",
    "    if datapts > 50: #arbitrary number\n",
    "        big_user_ids.append(i)"
   ]
  },
  {
   "cell_type": "markdown",
   "id": "alpha-beads",
   "metadata": {},
   "source": [
    "\n",
    "### Find the date & real_pp and then sort by date\n"
   ]
  },
  {
   "cell_type": "code",
   "execution_count": null,
   "id": "julian-baker",
   "metadata": {},
   "outputs": [],
   "source": [
    "real_pp = {}\n",
    "for i in big_user_ids:\n",
    "    real_pp[i] = list(top_db.osu_track_updates.find( {\"user_id\": i}, {\"_id\":0, \"timestamp\": 1, \"pp_raw\":1}))\n",
    "    real_pp[i].sort(key = lambda x:x[\"timestamp\"])"
   ]
  },
  {
   "cell_type": "markdown",
   "id": "constant-extreme",
   "metadata": {},
   "source": [
    "### Find the date and est_user_pp and then sort by date"
   ]
  },
  {
   "cell_type": "code",
   "execution_count": null,
   "id": "modern-couple",
   "metadata": {},
   "outputs": [],
   "source": [
    "est_pp = {}\n",
    "for i in big_user_ids:\n",
    "    est_pp[i] = list(top_db.osu_scores_high.find( {\"user_id\": i}, {\"_id\":0, \"date\": 1, \"mlpp.est_user_pp\":1}))\n",
    "    est_pp[i].sort(key = lambda x:x[\"date\"]) "
   ]
  },
  {
   "cell_type": "markdown",
   "id": "heated-thong",
   "metadata": {},
   "source": [
    "### Find the overlap time periods"
   ]
  },
  {
   "cell_type": "code",
   "execution_count": null,
   "id": "minute-hampton",
   "metadata": {},
   "outputs": [],
   "source": [
    "time_comparison = {}\n",
    "for i in big_user_ids:\n",
    "    earliest_est_date = est_pp[i][0][\"date\"]\n",
    "    earliest_real_date = real_pp[i][0][\"timestamp\"]\n",
    "    latest_est_date = est_pp[i][-1][\"date\"]\n",
    "    latest_real_date = real_pp[i][-1][\"timestamp\"]\n",
    "    if earliest_est_date >= earliest_real_date:\n",
    "        start = earliest_est_date\n",
    "    else:\n",
    "        start = earliest_real_date\n",
    "    if latest_est_date <= latest_real_date:\n",
    "        end = latest_est_date\n",
    "    else:\n",
    "        end = latest_real_date\n",
    "    time_comparison[i] = {\"start\": start, \"end\": end}"
   ]
  },
  {
   "cell_type": "markdown",
   "id": "scientific-cornell",
   "metadata": {},
   "source": [
    "### Clean the data for users who do not have time overlap between real and est"
   ]
  },
  {
   "cell_type": "code",
   "execution_count": null,
   "id": "modular-comparison",
   "metadata": {},
   "outputs": [],
   "source": [
    "bad_users = []\n",
    "\n",
    "for user in time_comparison:\n",
    "    if time_comparison[user][\"start\"] >= time_comparison[user][\"end\"]:\n",
    "        bad_users.append(user)\n",
    "\n",
    "big_user_ids = [ele for ele in big_user_ids if ele not in bad_users]\n",
    "\n",
    "for user in bad_users:\n",
    "    del real_pp[user]\n",
    "    del est_pp[user]\n",
    "    del time_comparison[user]"
   ]
  },
  {
   "cell_type": "markdown",
   "id": "literary-sandwich",
   "metadata": {},
   "source": [
    "### Create tables to store the data"
   ]
  },
  {
   "cell_type": "code",
   "execution_count": null,
   "id": "julian-device",
   "metadata": {},
   "outputs": [],
   "source": [
    "def CREATE_REAL_USER_TABLE (one_user_id):\n",
    "    real_start_time = []\n",
    "    real_pp_points = []\n",
    "    for i in real_pp[one_user_id]:\n",
    "        real_start_time.append(i[\"timestamp\"])\n",
    "        real_pp_points.append(i[\"pp_raw\"])\n",
    "    real_table = np.column_stack((real_start_time, real_pp_points))\n",
    "    return real_table"
   ]
  },
  {
   "cell_type": "code",
   "execution_count": null,
   "id": "diverse-wales",
   "metadata": {},
   "outputs": [],
   "source": [
    "real_table_for_all = {}\n",
    "for user in big_user_ids:\n",
    "    real_table_for_all[user] = CREATE_REAL_USER_TABLE(user)"
   ]
  },
  {
   "cell_type": "code",
   "execution_count": null,
   "id": "mounted-money",
   "metadata": {},
   "outputs": [],
   "source": [
    "def CREATE_EST_USER_TABLE (one_user_id):\n",
    "    est_start_time = []\n",
    "    est_pp_points = []\n",
    "    for i in est_pp[one_user_id]:\n",
    "        est_start_time.append(i[\"date\"])\n",
    "        est_pp_points.append(i[\"mlpp\"][\"est_user_pp\"])\n",
    "    est_table = np.column_stack((est_start_time, est_pp_points))\n",
    "    return est_table"
   ]
  },
  {
   "cell_type": "code",
   "execution_count": null,
   "id": "exact-collectible",
   "metadata": {},
   "outputs": [],
   "source": [
    "est_table_for_all = {}\n",
    "for user in big_user_ids:\n",
    "    est_table_for_all[user] = CREATE_EST_USER_TABLE(user)"
   ]
  },
  {
   "cell_type": "markdown",
   "id": "average-cornwall",
   "metadata": {},
   "source": [
    "# Calculate error"
   ]
  },
  {
   "cell_type": "code",
   "execution_count": null,
   "id": "animal-month",
   "metadata": {},
   "outputs": [],
   "source": [
    "def GET_REAL_NPOINTS(n, user):\n",
    "    real_within = real_table_for_all[user][real_table_for_all[user][:,0] >= time_comparison[user][\"start\"]]\n",
    "    real_within = real_within[real_within[:,0] <= time_comparison[user][\"end\"]]\n",
    "    real_xp = real_within[:,0]\n",
    "    real_fp = real_within[:,1]\n",
    "\n",
    "    begin = real_xp[0] \n",
    "    end = real_xp[-1] \n",
    "    real_date_list = [] \n",
    "    delta = (end - begin)/n\n",
    "    for i in range(1, n + 1): \n",
    "        real_date_list.append((begin+i*delta).timestamp())\n",
    "\n",
    "    k  = 0\n",
    "    for i in real_xp:\n",
    "        real_xp[k] = i.timestamp()\n",
    "        k+=1\n",
    "\n",
    "    real_npoints = np.interp(real_date_list,list(real_xp),list(real_fp))\n",
    "    return real_npoints"
   ]
  },
  {
   "cell_type": "code",
   "execution_count": null,
   "id": "sweet-squad",
   "metadata": {},
   "outputs": [],
   "source": [
    "def GET_EST_NPOINTS(n, user):\n",
    "    est_within = est_table_for_all[user][est_table_for_all[user][:,0] >= time_comparison[user][\"start\"]]\n",
    "    est_within = est_within[est_within[:,0] <= time_comparison[user][\"end\"]]\n",
    "    xp = est_within[:,0]\n",
    "    fp = est_within[:,1]\n",
    "\n",
    "    begin = xp[0] \n",
    "    end = xp[-1] \n",
    "    date_list = [] \n",
    "    delta = (end - begin)/n\n",
    "    for i in range(1, n + 1): \n",
    "        date_list.append((begin+i*delta).timestamp())\n",
    "\n",
    "    k  = 0\n",
    "    for i in xp:\n",
    "        xp[k] = i.timestamp()\n",
    "        k+=1\n",
    "\n",
    "    est_npoints = np.interp(date_list,list(xp),list(fp))\n",
    "    return est_npoints"
   ]
  },
  {
   "cell_type": "markdown",
   "id": "affected-daisy",
   "metadata": {},
   "source": [
    "### MSE"
   ]
  },
  {
   "cell_type": "code",
   "execution_count": null,
   "id": "written-wholesale",
   "metadata": {},
   "outputs": [],
   "source": [
    "def GET_MSE(n, user):\n",
    "    real_points = GET_REAL_NPOINTS(n, user)\n",
    "    est_points = GET_EST_NPOINTS(n, user)\n",
    "    mse_for_one = (np.square(real_points - est_points)).mean()\n",
    "    return mse_for_one"
   ]
  },
  {
   "cell_type": "code",
   "execution_count": null,
   "id": "favorite-russia",
   "metadata": {},
   "outputs": [],
   "source": [
    "mse_for_all = {}\n",
    "\n",
    "for user in big_user_ids:\n",
    "    mse_for_all[user] = GET_MSE(50, user)"
   ]
  },
  {
   "cell_type": "markdown",
   "id": "theoretical-disclosure",
   "metadata": {},
   "source": [
    "### Difference in area"
   ]
  },
  {
   "cell_type": "code",
   "execution_count": null,
   "id": "unlimited-witch",
   "metadata": {},
   "outputs": [],
   "source": [
    "def GET_AREA(n, user, intervals):\n",
    "    #interval is an arbitrary number, it is the width of the small rectangles, we used 1000 before\n",
    "    a = time_comparison[user][\"start\"].timestamp()\n",
    "    b = time_comparison[user][\"end\"].timestamp()\n",
    "    dx = (b - a) / intervals\n",
    "    x_midpoint = np.linspace(dx / 2, b - dx / 2, intervals)\n",
    "    total_area_between_curves = 0\n",
    "    real_nPoints = GET_REAL_NPOINTS(n, user)\n",
    "    est_nPoints = GET_EST_NPOINTS(n, user)\n",
    "    for i in range(0, n):\n",
    "        real_midpoint_riemann = real_nPoints[i] * dx\n",
    "        est_midpoint_riemann = est_nPoints[i] * dx\n",
    "        area_between_curves_one_point = abs(real_midpoint_riemann - est_midpoint_riemann)\n",
    "        total_area_between_curves += area_between_curves_one_point\n",
    "    total_area_between_curves = total_area_between_curves / 86400\n",
    "    return total_area_between_curves"
   ]
  },
  {
   "cell_type": "code",
   "execution_count": null,
   "id": "stunning-burlington",
   "metadata": {},
   "outputs": [],
   "source": [
    "area_for_all = {}\n",
    "\n",
    "for user in big_user_ids:\n",
    "    area_for_all[user] = GET_AREA(10000, user, 1000)"
   ]
  },
  {
   "cell_type": "markdown",
   "id": "nutritional-stroke",
   "metadata": {},
   "source": [
    "### Dynamic Time Warping"
   ]
  },
  {
   "cell_type": "code",
   "execution_count": null,
   "id": "cognitive-cathedral",
   "metadata": {},
   "outputs": [],
   "source": [
    "def GET_DTW(user):\n",
    "    real_within = real_table_for_all[user][real_table_for_all[user][:,0] >= time_comparison[user][\"start\"]]\n",
    "    real_within = real_within[real_within[:,0] <= time_comparison[user][\"end\"]]\n",
    "    est_within = est_table_for_all[user][est_table_for_all[user][:,0] >= time_comparison[user][\"start\"]]\n",
    "    est_within = est_within[est_within[:,0] <= time_comparison[user][\"end\"]]\n",
    "    distance = fastdtw(real_within[:,1], est_within[:,1], dist=euclidean)[0]\n",
    "    return distance"
   ]
  },
  {
   "cell_type": "code",
   "execution_count": null,
   "id": "opposed-representation",
   "metadata": {},
   "outputs": [],
   "source": [
    "dtw_for_all = {}\n",
    "\n",
    "for user in big_user_ids:\n",
    "    dtw_for_all[user] = GET_DTW(user)"
   ]
  },
  {
   "cell_type": "markdown",
   "id": "respective-thailand",
   "metadata": {},
   "source": [
    "### Merge errors calculated through three methods to one dataframe"
   ]
  },
  {
   "cell_type": "code",
   "execution_count": null,
   "id": "vulnerable-dancing",
   "metadata": {},
   "outputs": [],
   "source": [
    "error_df = pd.DataFrame({'mse_for_all':pd.Series(mse_for_all),'area_for_all':pd.Series(area_for_all), 'dtw_for_all':pd.Series(dtw_for_all)})\n",
    "error_df"
   ]
  }
 ],
 "metadata": {
  "kernelspec": {
   "display_name": "Python 3",
   "language": "python",
   "name": "python3"
  },
  "language_info": {
   "codemirror_mode": {
    "name": "ipython"
   },
   "file_extension": ".py",
   "mimetype": "text/x-python",
   "name": "python",
   "nbconvert_exporter": "python"
  }
 },
 "nbformat": 4,
 "nbformat_minor": 5
}
