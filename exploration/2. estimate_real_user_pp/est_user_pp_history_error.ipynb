{
 "cells": [
  {
   "cell_type": "code",
   "execution_count": null,
   "metadata": {},
   "outputs": [],
   "source": [
    "import matplotlib.pyplot as plt\n",
    "from exploration.config import mongo_inst\n",
    "osu_top_db = mongo_inst['osu_top_db']"
   ]
  },
  {
   "cell_type": "code",
   "execution_count": null,
   "metadata": {},
   "outputs": [],
   "source": [
    "osu_top_db['osu_scores_high'].create_index('user_id')\n",
    "osu_top_db['osu_scores_high'].create_index('beatmap_id')"
   ]
  },
  {
   "cell_type": "code",
   "execution_count": null,
   "metadata": {},
   "outputs": [],
   "source": [
    "player_id = 2558286\n",
    "player_scores = list(\n",
    "    osu_top_db['osu_scores_high'].find(\n",
    "        {'user_id': player_id},\n",
    "        {'date': 1, 'mlpp.est_user_pp': 1}\n",
    "    )\n",
    "    .sort('date')\n",
    ")\n",
    "\n",
    "dates = [s['date'] for s in player_scores]\n",
    "pp = [s['mlpp']['est_user_pp'] for s in player_scores]"
   ]
  },
  {
   "cell_type": "code",
   "execution_count": null,
   "metadata": {},
   "outputs": [],
   "source": [
    "plt.plot(dates, pp)"
   ]
  }
 ],
 "metadata": {
  "kernelspec": {
   "display_name": "Python 3",
   "language": "python",
   "name": "python3"
  },
  "language_info": {
   "codemirror_mode": {
    "name": "ipython"
   },
   "file_extension": ".py",
   "mimetype": "text/x-python",
   "name": "python",
   "nbconvert_exporter": "python"
  }
 },
 "nbformat": 4,
 "nbformat_minor": 2
}
